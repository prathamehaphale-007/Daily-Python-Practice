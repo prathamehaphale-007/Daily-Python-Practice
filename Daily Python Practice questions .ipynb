{
 "cells": [
  {
   "cell_type": "markdown",
   "id": "5a727bcf-b18b-4c16-b1e5-a6eebd40670a",
   "metadata": {},
   "source": [
    "# Date:24-08-2025"
   ]
  },
  {
   "cell_type": "code",
   "execution_count": 2,
   "id": "08d9c3e5-96d8-4f24-a6ad-a2e65fc4031b",
   "metadata": {},
   "outputs": [
    {
     "name": "stdin",
     "output_type": "stream",
     "text": [
      "Enter a number 715632\n",
      "Enter a number 631104\n",
      "Enter a number 9874\n",
      "Enter a number 999\n",
      "Enter a number 2\n"
     ]
    },
    {
     "name": "stdout",
     "output_type": "stream",
     "text": [
      "73655\n"
     ]
    }
   ],
   "source": [
    "# 1 . Simplify: (i) 8888 + 888 + 88 + 8 (ii) 715632 – 631104 – 9874 – 999\n",
    "a = int(input(\"Enter a number\"))\n",
    "b = int(input(\"Enter a number\"))\n",
    "c = int(input(\"Enter a number\"))\n",
    "d = int(input(\"Enter a number\"))\n",
    "op = int(input(\"Enter a number\"))\n",
    "if op == 1:\n",
    "    print(a+b+c+d)\n",
    "elif op == 2:\n",
    "    print(a-b-c-d)\n",
    "else:\n",
    "    print(\"Please choose from 1 or 2\")\n",
    "    "
   ]
  },
  {
   "cell_type": "code",
   "execution_count": 4,
   "id": "e24011db-05e2-4da1-a6d9-9bd71b60dd60",
   "metadata": {},
   "outputs": [
    {
     "name": "stdout",
     "output_type": "stream",
     "text": [
      "3572021\n",
      "6516\n"
     ]
    }
   ],
   "source": [
    "# 2. What value will replace the question mark in each of the following questions?\n",
    "# (i)? – 1936248 = 1635773 (ii) 9587 –? = 7429 – 4358\n",
    "a = 1936248\n",
    "b = 1635773\n",
    "x = a + b\n",
    "print(x)\n",
    "\n",
    "c = 7429\n",
    "d = 4358\n",
    "e = c - d\n",
    "f = 9587\n",
    "y = f - e\n",
    "print(y)"
   ]
  },
  {
   "cell_type": "code",
   "execution_count": 5,
   "id": "93f6ec19-a727-45d3-84c1-f23aa743237d",
   "metadata": {},
   "outputs": [
    {
     "name": "stdout",
     "output_type": "stream",
     "text": [
      "q = 9\n"
     ]
    }
   ],
   "source": [
    "# 3. What could be the maximum value of Q in the following equation? 5P9 + 3R7 + 2Q8 = 1114\n",
    "# sol= We may analyse the given equation as shown:\n",
    "# Clearly, 2 + P + R + Q = 11.\n",
    "# (when P = 0, R = 0)\n",
    "a = 11\n",
    "b = 2\n",
    "q = a - b\n",
    "print(\"q =\", q)"
   ]
  },
  {
   "cell_type": "code",
   "execution_count": 6,
   "id": "36515e29-71f7-44bc-8a6d-69764e3b6a84",
   "metadata": {},
   "outputs": [
    {
     "name": "stdout",
     "output_type": "stream",
     "text": [
      "Solution is: 57928256595\n"
     ]
    }
   ],
   "source": [
    "# 4. Simplify: (i) 5793405 × 9999\n",
    "a = 5793405\n",
    "b = 9999\n",
    "print(\"Solution is:\",a * b)"
   ]
  },
  {
   "cell_type": "code",
   "execution_count": 7,
   "id": "613feae1-8573-4238-a582-bf6ee36300f4",
   "metadata": {},
   "outputs": [
    {
     "name": "stdout",
     "output_type": "stream",
     "text": [
      "Solution for (i) is: 986000\n",
      "Solution for (ii) is: 98300\n"
     ]
    }
   ],
   "source": [
    "# 5. Evaluate: (i) 986 × 137 + 986 × 863 (ii) 983 × 207 – 983 × 107\n",
    "a = 986\n",
    "b = 137\n",
    "c = 986\n",
    "d = 863\n",
    "print(\"Solution for (i) is:\", ((a*b)+(c*d)))\n",
    "\n",
    "e = 983\n",
    "f = 207\n",
    "g = 107\n",
    "print(\"Solution for (ii) is:\",((e * f)-(e * g)))\n",
    "      "
   ]
  },
  {
   "cell_type": "code",
   "execution_count": 9,
   "id": "68bcb5ae-be47-4aa0-a93c-8e5ff9f2d7bf",
   "metadata": {},
   "outputs": [
    {
     "name": "stdin",
     "output_type": "stream",
     "text": [
      "Enter a number 1398\n"
     ]
    },
    {
     "name": "stdout",
     "output_type": "stream",
     "text": [
      "Solution is: 1954404\n"
     ]
    }
   ],
   "source": [
    "#6. Simplify: (i) 1605 × 1605 (ii) 1398 × 1398\n",
    "a = int(input(\"Enter a number\"))\n",
    "c = a * a\n",
    "print(\"Solution is:\", c)"
   ]
  },
  {
   "cell_type": "code",
   "execution_count": 10,
   "id": "0646de49-67a9-4ca7-9d43-bf3bad952be1",
   "metadata": {},
   "outputs": [
    {
     "name": "stdin",
     "output_type": "stream",
     "text": [
      "Enter a number 475\n",
      "Enter a number 125\n",
      "Enter a number 1\n"
     ]
    },
    {
     "name": "stdout",
     "output_type": "stream",
     "text": [
      "241250\n"
     ]
    }
   ],
   "source": [
    "#7. Evaluate: (i) 475 × 475 + 125 × 125 (ii) 796 × 796 – 204 × 204\n",
    "a = int(input(\"Enter a number\"))\n",
    "b = int(input(\"Enter a number\"))\n",
    "c = int(input(\"Enter a number\"))\n",
    "if c == 1:\n",
    "    print((a * a) + (b * b))\n",
    "elif c == 2:\n",
    "    print((a * a) - (b * b))\n",
    "else:\n",
    "    print(\"Please enter 1 or 2 only in c\")"
   ]
  },
  {
   "cell_type": "code",
   "execution_count": 11,
   "id": "cfcae865-76e9-4b14-b39e-d126e1bed3c4",
   "metadata": {},
   "outputs": [
    {
     "name": "stdin",
     "output_type": "stream",
     "text": [
      "Enter a number 387\n",
      "Enter a number 113\n",
      "Enter a number 1\n"
     ]
    },
    {
     "name": "stdout",
     "output_type": "stream",
     "text": [
      "250000\n"
     ]
    }
   ],
   "source": [
    "#8. Simplify: (i) (387 × 387 + 113 × 113 + 2 × 387 × 113) (ii) (87 × 87 + 61 × 61 – 2 × 87 × 61)\n",
    "a = int(input(\"Enter a number\"))\n",
    "b = int(input(\"Enter a number\"))\n",
    "c = int(input(\"Enter a number\"))\n",
    "if c == 1:\n",
    "    print((a * a) + (b * b) + (2 * a * b))\n",
    "elif c == 2:\n",
    "    print((a * a) + (b * b) - (2 * a * b))\n",
    "else:\n",
    "    print(\"Please enter 1 or 2 only in c\")"
   ]
  },
  {
   "cell_type": "code",
   "execution_count": 14,
   "id": "1bf461c0-f06a-4510-8f09-131504b5b8a6",
   "metadata": {},
   "outputs": [
    {
     "name": "stdin",
     "output_type": "stream",
     "text": [
      "Enter a number 8\n",
      "Enter a number 8\n",
      "Enter a number 8\n"
     ]
    },
    {
     "name": "stdout",
     "output_type": "stream",
     "text": [
      "Square root is: 16\n"
     ]
    }
   ],
   "source": [
    "#9. Find the square root of 4a2 + b2 + c2 + 4ab – 2bc – 4ac\n",
    "a = int(input(\"Enter a number\"))\n",
    "b = int(input(\"Enter a number\"))\n",
    "c = int(input(\"Enter a number\"))\n",
    "\n",
    "result = (2*a + b - c)\n",
    "\n",
    "print(\"Square root is:\", result)"
   ]
  },
  {
   "cell_type": "code",
   "execution_count": 16,
   "id": "dc7d4918-d991-484e-860b-a336b99a70dc",
   "metadata": {},
   "outputs": [
    {
     "name": "stdout",
     "output_type": "stream",
     "text": [
      "They say together: 21\n"
     ]
    }
   ],
   "source": [
    "#10. A is counting the numbers from 1 to 31 and B from 31 to 1. A is counting the odd numbers only. The speed of both is the same. What will be the number which will be pronounced by A and B together \n",
    "I = 0\n",
    "for k in range(0, 31): \n",
    "    A = 1 + 2*k\n",
    "    B = 31 - k\n",
    "\n",
    "    if A <= 31 and A == B:\n",
    "        I = A \n",
    "\n",
    "print(\"They say together:\", I)"
   ]
  },
  {
   "cell_type": "markdown",
   "id": "92e7664c-af77-43ec-8434-d682c09c6066",
   "metadata": {},
   "source": [
    "# Date:25-08-2025"
   ]
  },
  {
   "cell_type": "code",
   "execution_count": 1,
   "id": "8e97b055-0081-4841-bf9d-ddd78eb691e1",
   "metadata": {},
   "outputs": [
    {
     "name": "stdin",
     "output_type": "stream",
     "text": [
      "Enter a number 789\n",
      "Enter a number 211\n",
      "Enter a number 1\n"
     ]
    },
    {
     "name": "stdout",
     "output_type": "stream",
     "text": [
      "1000.0\n"
     ]
    }
   ],
   "source": [
    "# Simplify: (i)789 × 789 × 789 + 211 × 211 × 211 // 789 × 789 – 789 × 211 + 211 × 211\n",
    "# (ii) 658 × 658 × 658 – 328 × 328 × 328 // 658 × 658 + 658 × 328 + 328 × 328\n",
    "a = int(input(\"Enter a number\"))\n",
    "b = int(input(\"Enter a number\"))\n",
    "c = int(input(\"Enter a number\"))\n",
    "if c == 1:\n",
    "    print(((a**3) + (b**3)) / ((a**2) - (a*b) + (b**2)))\n",
    "elif c == 2:\n",
    "    print(((a**3) - (b**3)) / ((a**2) + (a*b) + (b**2)))\n",
    "else:\n",
    "    print(\"Please choose the number from 1 and 2 only\")"
   ]
  },
  {
   "cell_type": "code",
   "execution_count": 2,
   "id": "1c8e645e-66e3-452a-97be-ab470ce56f97",
   "metadata": {},
   "outputs": [
    {
     "name": "stdout",
     "output_type": "stream",
     "text": [
      "Solution is : 4.0\n"
     ]
    }
   ],
   "source": [
    "# Simplify: (893 + 786)^2 – (893 – 786)^2 / (893 × 786)\n",
    "a = ((893 + 786)**2)\n",
    "b = ((893 - 786)**2)\n",
    "c = (893 * 786)\n",
    "d = (a - b) / c\n",
    "print(\"Solution is :\", d)"
   ]
  },
  {
   "cell_type": "code",
   "execution_count": 7,
   "id": "1e2863fa-0698-46ff-b991-8f469a1267f2",
   "metadata": {},
   "outputs": [
    {
     "name": "stdin",
     "output_type": "stream",
     "text": [
      "Enter a number:  571\n"
     ]
    },
    {
     "name": "stdout",
     "output_type": "stream",
     "text": [
      "571 is a prime number\n"
     ]
    }
   ],
   "source": [
    "# Which of the following are prime numbers? \n",
    "# (i) 241 (ii) 337 (iii) 391 (iv) 571\n",
    "num = int(input(\"Enter a number: \"))\n",
    "count = 0\n",
    "\n",
    "if num > 1:\n",
    "    for i in range(1, num + 1):\n",
    "        if num % i == 0:\n",
    "            count = count + 1\n",
    "\n",
    "    if count == 2: \n",
    "        print(num, \"is a prime number\")\n",
    "    else:\n",
    "        print(num, \"is not a prime number\")\n",
    "else:\n",
    "    print(num, \"is not a prime number\")"
   ]
  },
  {
   "cell_type": "code",
   "execution_count": 8,
   "id": "b48c87d5-18a8-4f66-99db-93f6b7cd9c27",
   "metadata": {},
   "outputs": [
    {
     "name": "stdout",
     "output_type": "stream",
     "text": [
      "The sum is: 158440\n"
     ]
    }
   ],
   "source": [
    "# Given that 12^2 + 22^2 + 32^2 + ..... + 102^2 = 385, then find the value of 22^2 + 42^2 + 62^2 + ...... + 202^2\n",
    "total = 0\n",
    "\n",
    "for i in range(22, 203):   \n",
    "    if i % 20 == 2:      \n",
    "        total = total + i*i\n",
    "\n",
    "print(\"The sum is:\", total)"
   ]
  },
  {
   "cell_type": "code",
   "execution_count": 9,
   "id": "ce198cae-9b45-44f7-9c69-fc98051cd04c",
   "metadata": {},
   "outputs": [
    {
     "name": "stdin",
     "output_type": "stream",
     "text": [
      "Enter a number 541326\n"
     ]
    },
    {
     "name": "stdout",
     "output_type": "stream",
     "text": [
      "The number is divisible by 3\n"
     ]
    }
   ],
   "source": [
    "# Which of the following numbers is divisible by 3? (i) 541326 (ii) 5967013\n",
    "num = int(input(\"Enter a number\"))\n",
    "if num % 3 == 0:\n",
    "    print(\"The number is divisible by 3\")\n",
    "else:\n",
    "    print(\"The number is not divisible by 3\")\n"
   ]
  },
  {
   "cell_type": "code",
   "execution_count": 11,
   "id": "20a33a8f-8bcb-4013-89cf-2a4427c9493f",
   "metadata": {},
   "outputs": [
    {
     "name": "stdout",
     "output_type": "stream",
     "text": [
      "The least value of * is: 2\n"
     ]
    }
   ],
   "source": [
    "#. What least value must be assigned to * so that the number 197*5462 is divisible by 9?\n",
    "digits = [1, 9, 7, 5, 4, 6, 2] \n",
    "total = sum(digits)\n",
    "for i in range(10):        \n",
    "    if (total + i) % 9 == 0:\n",
    "        print(\"The least value of * is:\", i)"
   ]
  },
  {
   "cell_type": "code",
   "execution_count": 12,
   "id": "85f70c2b-f6df-454a-a9bd-b9da9454f771",
   "metadata": {},
   "outputs": [
    {
     "name": "stdin",
     "output_type": "stream",
     "text": [
      "Enter a number 67920594\n"
     ]
    },
    {
     "name": "stdout",
     "output_type": "stream",
     "text": [
      "The number is not divisible by 4\n"
     ]
    }
   ],
   "source": [
    "# Which of the following numbers is divisible by 4? (i) 67920594 (ii) 618703572\n",
    "num = int(input(\"Enter a number\"))\n",
    "if num % 4 == 0:\n",
    "    print(\"The number is divisible by 4\")\n",
    "else:\n",
    "    print(\"The number is not divisible by 4\")"
   ]
  },
  {
   "cell_type": "code",
   "execution_count": 13,
   "id": "f564c61a-fa0d-421b-a2ac-474d366a219c",
   "metadata": {},
   "outputs": [
    {
     "name": "stdout",
     "output_type": "stream",
     "text": [
      "The number is divisible by 11\n"
     ]
    }
   ],
   "source": [
    "# Show that 4832718 is divisible by 11?\n",
    "a = 4832718\n",
    "if a % 11 == 0:\n",
    "    print(\"The number is divisible by 11\")\n",
    "else:\n",
    "    print(\"The number is not divisible by 11\")"
   ]
  },
  {
   "cell_type": "code",
   "execution_count": 14,
   "id": "421eadc0-e115-4dea-b4e6-35eb642aa86c",
   "metadata": {},
   "outputs": [
    {
     "name": "stdout",
     "output_type": "stream",
     "text": [
      "The number is divisible by 24\n"
     ]
    }
   ],
   "source": [
    "# Is 52563744 divisible by 24?\n",
    "a = 52563744\n",
    "if a % 24 == 0:\n",
    "    print(\"The number is divisible by 24\")\n",
    "else:\n",
    "    print(\"The number is not divisible by 24\")\n"
   ]
  },
  {
   "cell_type": "code",
   "execution_count": 18,
   "id": "b5f76aa0-397c-4ca4-a6a0-1f497301441c",
   "metadata": {},
   "outputs": [
    {
     "name": "stdout",
     "output_type": "stream",
     "text": [
      "The divisor is: 179.0\n"
     ]
    }
   ],
   "source": [
    "# On dividing 15968 by a certain number, the quotient is 89 and the remainder is 37. Find the divisor.\n",
    "dividend = 15968\n",
    "quotient = 89\n",
    "remainder = 37\n",
    "divisor = (dividend - remainder) / quotient\n",
    "print(\"The divisor is:\",divisor)"
   ]
  },
  {
   "cell_type": "markdown",
   "id": "46864b8b-aee9-4023-b868-ec06174ef7a8",
   "metadata": {},
   "source": [
    "# Date: 26-08-2025"
   ]
  },
  {
   "cell_type": "code",
   "execution_count": 19,
   "id": "2ea440f4-99ba-49f6-97e4-f09b650a86e1",
   "metadata": {},
   "outputs": [
    {
     "name": "stdin",
     "output_type": "stream",
     "text": [
      "Enter a number 6084\n"
     ]
    },
    {
     "name": "stdout",
     "output_type": "stream",
     "text": [
      "78.0\n"
     ]
    }
   ],
   "source": [
    "# Evaluate squareroot of 6084 \n",
    "a = int(input(\"Enter a number\"))\n",
    "print(a ** 0.5)"
   ]
  },
  {
   "cell_type": "code",
   "execution_count": 2,
   "id": "07433139-48ab-41e1-b843-23b28934fabc",
   "metadata": {},
   "outputs": [
    {
     "name": "stdout",
     "output_type": "stream",
     "text": [
      "the average body weight of all six boys is 66.0\n"
     ]
    }
   ],
   "source": [
    "# The body weight of six boys is recorded as 54 kg, 64 kg, 75 kg, 67 kg, 45 kg and 91 kg. What is the average body weight of all six boys?\n",
    "a = 54 + 64 + 75 + 67 + 45 + 91\n",
    "b = a / 6\n",
    "print(\"the average body weight of all six boys is\",b)"
   ]
  },
  {
   "cell_type": "code",
   "execution_count": 3,
   "id": "77739a37-8bb8-4062-b73d-ecc9b783c0e5",
   "metadata": {},
   "outputs": [
    {
     "name": "stdout",
     "output_type": "stream",
     "text": [
      "Solution is 332.0\n"
     ]
    }
   ],
   "source": [
    "# Evaluate: (i) 70% of 320 + 45% of 240\n",
    "a = (70 / 100) * 320\n",
    "b = (45 / 100) * 240\n",
    "c = a + b\n",
    "print(\"Solution is\",c)"
   ]
  },
  {
   "cell_type": "code",
   "execution_count": 5,
   "id": "ac106af9-908d-4876-90fd-147271f5774d",
   "metadata": {},
   "outputs": [
    {
     "name": "stdout",
     "output_type": "stream",
     "text": [
      "2 is 4.0 % of 50\n"
     ]
    }
   ],
   "source": [
    "# 2 is what percent of 50?\n",
    "a = 2 / 50\n",
    "b = 100\n",
    "c = a * b\n",
    "print(\"2 is\",c,\"% of 50\") "
   ]
  },
  {
   "cell_type": "code",
   "execution_count": 6,
   "id": "31db7268-50f8-485f-8508-506c0faa2aa3",
   "metadata": {},
   "outputs": [
    {
     "name": "stdout",
     "output_type": "stream",
     "text": [
      "The profit gained is 98000 rs\n",
      "The profit percentage is 39.2 %\n"
     ]
    }
   ],
   "source": [
    "# Mansi purchased a car for  2,50,000 rs and sold it for  3,48,000 rs. What is the percent profit she made on the car?\n",
    "cp = 250000\n",
    "sp = 348000\n",
    "profit = sp - cp\n",
    "print(\"The profit gained is\",profit,\"rs\")\n",
    "profit_percent = (profit / cp) * 100\n",
    "print(\"The profit percentage is\",profit_percent,\"%\")"
   ]
  },
  {
   "cell_type": "code",
   "execution_count": 10,
   "id": "b7041beb-e2e2-453b-a413-92473710abd0",
   "metadata": {},
   "outputs": [
    {
     "name": "stdout",
     "output_type": "stream",
     "text": [
      "The s.p after the gain % is 67.5 rs\n"
     ]
    }
   ],
   "source": [
    "# Find S.P., when gain is given (i) C.P. = ` 56.25, Gain = 20%\n",
    "def sp_gain(cp,gain):\n",
    "    a = 100 + gain\n",
    "    b = (a / 100) * cp\n",
    "    print(\"The s.p after the gain % is\",b,\"rs\")\n",
    "\n",
    "sp_gain(56.25, 20)    \n"
   ]
  },
  {
   "cell_type": "code",
   "execution_count": 11,
   "id": "08b1c223-e405-4657-b412-5ae101d6998c",
   "metadata": {},
   "outputs": [
    {
     "name": "stdout",
     "output_type": "stream",
     "text": [
      "The sp after the loss is 68.34 rs\n"
     ]
    }
   ],
   "source": [
    "# Find S.P., when loss is given (i) C.P. =  80.40, Loss = 15%\n",
    "def sp_loss(cp,loss):\n",
    "    a = 100 - loss\n",
    "    b = (a / 100) * cp\n",
    "    print(\"The sp after the loss is\",b,\"rs\")\n",
    "\n",
    "sp_loss(80.40, 15)    "
   ]
  },
  {
   "cell_type": "code",
   "execution_count": 13,
   "id": "29082d7f-10af-4a3b-b099-3477afa62492",
   "metadata": {},
   "outputs": [
    {
     "name": "stdout",
     "output_type": "stream",
     "text": [
      "The total wheat required for 58 days is 870.0 kgs\n"
     ]
    }
   ],
   "source": [
    "# A canteen requires 105 kgs of wheat for a week. How many kgs of wheat will it require for 58 days?\n",
    "# 7 : 105 kgs  then 58 : ?\n",
    "x = 58 * 105\n",
    "y =  x / 7\n",
    "print(\"The total wheat required for 58 days is\",y,\"kgs\")\n"
   ]
  },
  {
   "cell_type": "code",
   "execution_count": 14,
   "id": "3844f88d-9a06-4e71-8c5c-e9c76ddcf8ca",
   "metadata": {},
   "outputs": [
    {
     "name": "stdout",
     "output_type": "stream",
     "text": [
      "The volume of tank in fts is 90 cu ft\n",
      "The volume of tank in inch is 155520 cu inch\n",
      "Net volume drained in one minute, when both the pipes are opened 288.0 cu. inch\n",
      "When both pipes are open it will take 9.0 hrs to empty it\n"
     ]
    }
   ],
   "source": [
    "# A tank 9 ft by 5 ft by 2ft is fitted with an inlet pipe and an exhaust pipe. The inlet pipe pours in 576 cu.\n",
    "# inch of water per minute and the exhaust pipe can empty the full tank in 3 hours. If the tank is full and\n",
    "# both pipes are open, how many hours will it take to empty it?\n",
    "vol_tank_ft = ( 9 * 5 * 2)\n",
    "print(\"The volume of tank in fts is\", vol_tank_ft,\"cu ft\")\n",
    "vol_tank_inch = vol_tank_ft * 12 * 12 * 12\n",
    "print(\"The volume of tank in inch is\", vol_tank_inch,\"cu inch\")\n",
    "vol_drained_minute = (vol_tank_inch / (3 * 60)) - 576\n",
    "print(\"Net volume drained in one minute, when both the pipes are opened\",vol_drained_minute,\"cu. inch\")\n",
    "Req_time = vol_tank_inch / (288 * 60)\n",
    "print(\"When both pipes are open it will take\",Req_time,\"hrs to empty it\")"
   ]
  },
  {
   "cell_type": "code",
   "execution_count": 15,
   "id": "a961c223-d65f-468c-90e0-807c7c1c4bb4",
   "metadata": {},
   "outputs": [
    {
     "name": "stdout",
     "output_type": "stream",
     "text": [
      "The solution is 8.999999999999998\n"
     ]
    }
   ],
   "source": [
    "# Simplify (i) (27)^2/3\n",
    "s = 27\n",
    "p = 2 / 3\n",
    "a = s ** p\n",
    "print(\"The solution is\",a) "
   ]
  },
  {
   "cell_type": "markdown",
   "id": "3fd5f55b-6498-439c-9be1-25d8d630affa",
   "metadata": {},
   "source": [
    "# Date: 27-08-2025"
   ]
  },
  {
   "cell_type": "code",
   "execution_count": 18,
   "id": "02f48cd1-fc86-4940-b743-ebe2c10df784",
   "metadata": {},
   "outputs": [
    {
     "name": "stdout",
     "output_type": "stream",
     "text": [
      "The simple interest is 8500.000000000002 rs\n"
     ]
    }
   ],
   "source": [
    "# Find the simple interest on  68000rs at 16 2/3 % per annum for 9 months.\n",
    "def si():\n",
    "    p = 68000 \n",
    "    r = 50 / 3\n",
    "    t = 9 / 12\n",
    "    si = (p * r * t) / 100\n",
    "    print(\"The simple interest is\",si,\"rs\")\n",
    "\n",
    "si()"
   ]
  },
  {
   "cell_type": "code",
   "execution_count": 20,
   "id": "5e1424e6-44ea-4c48-aafa-f756786a9c8d",
   "metadata": {},
   "outputs": [
    {
     "name": "stdout",
     "output_type": "stream",
     "text": [
      "The maximum distance is 111.80339887498948 m\n"
     ]
    }
   ],
   "source": [
    "# Find the maximum distance between two points on the perimeter of a rectangular garden whose length and breadth are 100 m and 50 m.\n",
    "a = (100**2) + (50**2)\n",
    "b = a ** 0.5\n",
    "print(\"The maximum distance is\",b,\"m\")"
   ]
  },
  {
   "cell_type": "code",
   "execution_count": 21,
   "id": "b22bcd56-7488-4a49-8079-89f355d9ac25",
   "metadata": {},
   "outputs": [
    {
     "name": "stdout",
     "output_type": "stream",
     "text": [
      "The area of triangle is (2.518324258767058e-10+4112735.6238883142j)\n"
     ]
    }
   ],
   "source": [
    "# Find the area of a triangle whose sides measure 15 cm, 16 cm and 17 cm\n",
    "def area_tri(a, b, c):\n",
    "    s = (1 / 2) * (a * b * c)\n",
    "    d = a - s\n",
    "    e = b - s\n",
    "    f = c - s\n",
    "    g = (s * d * e * f)\n",
    "    h = g ** 0.5\n",
    "    print(\"The area of triangle is\",h)\n",
    "\n",
    "area_tri(15,16,17)    "
   ]
  },
  {
   "cell_type": "code",
   "execution_count": 22,
   "id": "0f511e03-9aae-4164-ab2a-6c5698b4122d",
   "metadata": {},
   "outputs": [
    {
     "name": "stdout",
     "output_type": "stream",
     "text": [
      "The compound interest obtained is 1229.4750000000004\n"
     ]
    }
   ],
   "source": [
    "# After 3 years, how much compound interest will be obtained on 7800 rs at the interest rate of 5% per annum?\n",
    "r = 7800\n",
    "a = ( 1 + (5 / 100)) ** 3\n",
    "b = r * a\n",
    "ci = b - r\n",
    "print(\"The compound interest obtained is\",ci)"
   ]
  },
  {
   "cell_type": "code",
   "execution_count": 24,
   "id": "bbf0062e-66df-497d-a1a9-78ec6780d739",
   "metadata": {},
   "outputs": [
    {
     "name": "stdout",
     "output_type": "stream",
     "text": [
      "The length of longest bamboo pole is 17.0 m\n"
     ]
    }
   ],
   "source": [
    "# A room is 12 metres long, 9 metres broad and 8 metres high. Find the length of the longest bamboo pole that can be placed in it\n",
    "a = (12**2) + (9**2) + (8**2)\n",
    "b = a ** 0.5\n",
    "print(\"The length of longest bamboo pole is\",b,\"m\")"
   ]
  },
  {
   "cell_type": "code",
   "execution_count": 27,
   "id": "24b458bf-2bb7-496a-b392-aa343ba87d27",
   "metadata": {},
   "outputs": [
    {
     "name": "stdout",
     "output_type": "stream",
     "text": [
      "The volume of cube is 216 The surface area is 216\n"
     ]
    }
   ],
   "source": [
    "# The diagonal of a cube is 6 (3**0.5) cm. Find its volume and surface area.\n",
    "a = 6\n",
    "b = a * (3 ** 0.5)\n",
    "vol = a ** 3\n",
    "sa = 6 * (a ** 2)\n",
    "print(\"The volume of cube is\",vol,\"The surface area is\",sa)"
   ]
  },
  {
   "cell_type": "code",
   "execution_count": 29,
   "id": "26c13262-9641-41a8-ad38-35e0c32e4522",
   "metadata": {},
   "outputs": [
    {
     "name": "stdout",
     "output_type": "stream",
     "text": [
      "The slant height is 35.0 cm\n"
     ]
    }
   ],
   "source": [
    "# Find the slant height of a cone of radius 21 cm and height 28 cm.\n",
    "a  = (21 ** 2) + (28 ** 2)\n",
    "b = a ** 0.5\n",
    "print(\"The slant height is\",b,\"cm\")"
   ]
  },
  {
   "cell_type": "code",
   "execution_count": 31,
   "id": "ab98c610-d7b3-49de-88b7-136edb403d40",
   "metadata": {},
   "outputs": [
    {
     "name": "stdout",
     "output_type": "stream",
     "text": [
      "The curved surface of a cone is 12924.24\n"
     ]
    }
   ],
   "source": [
    "# Find the volume of a cone of radius 21 cm and height 28 cm\n",
    "a = 3.14 * 21 * 21 * 28\n",
    "b = (1 / 3) * a\n",
    "print(\"The volume of a cone is\",b)"
   ]
  },
  {
   "cell_type": "code",
   "execution_count": 34,
   "id": "51ec81b0-10a9-414a-9156-283a35056008",
   "metadata": {},
   "outputs": [
    {
     "name": "stdout",
     "output_type": "stream",
     "text": [
      "The curved surface area of the cone = pi*r*l = 2307.9\n"
     ]
    }
   ],
   "source": [
    "# Find the curved surface area of a cone of radius 21 cm and slant height 35 cm\n",
    "a = 3.14 * 21 * 35\n",
    "print(\"The curved surface area of the cone = pi*r*l =\",a)\n"
   ]
  },
  {
   "cell_type": "code",
   "execution_count": 36,
   "id": "305e9183-330f-4435-ae31-b49ce52f309a",
   "metadata": {},
   "outputs": [
    {
     "name": "stdout",
     "output_type": "stream",
     "text": [
      "The total surface area is 3692.6400000000003\n"
     ]
    }
   ],
   "source": [
    "# Find the total surface area of a cone of radius 21 cm and height 28 cm\n",
    "a = 3.14 * 21 * 35\n",
    "b = 3.14 * 21 * 21\n",
    "c = a + b\n",
    "print(\"The total surface area is\",c)"
   ]
  },
  {
   "cell_type": "markdown",
   "id": "26d957a9-2fa4-4435-a45a-19b11fe524e0",
   "metadata": {},
   "source": [
    "# Date: 28-08-2025"
   ]
  },
  {
   "cell_type": "code",
   "execution_count": 2,
   "id": "0091745e-b771-42c5-85cd-d71c7a9e9bfd",
   "metadata": {},
   "outputs": [
    {
     "name": "stdout",
     "output_type": "stream",
     "text": [
      "The present worth is 750.0 rs\n",
      "The discount is 180.0\n"
     ]
    }
   ],
   "source": [
    "# Find the present worth of 930 rs due 3 years hence at 8% per annum. Also find the discount\n",
    "a = 100 * 930\n",
    "b = 100 + (8 * 3)\n",
    "pw = a / b\n",
    "print(\"The present worth is\",pw,\"rs\")\n",
    "d = (930 - pw)\n",
    "print(\"The discount is\",d)\n"
   ]
  },
  {
   "cell_type": "code",
   "execution_count": 4,
   "id": "dbd4ad78-0ffb-4131-a5bf-0c34250ffb2e",
   "metadata": {},
   "outputs": [
    {
     "name": "stdout",
     "output_type": "stream",
     "text": [
      "Tuesday\n"
     ]
    }
   ],
   "source": [
    "# What was the day of the week on 16th July, 1776?\n",
    "d = 16  \n",
    "m = 7    \n",
    "y = 1776 \n",
    "\n",
    "if m < 3:\n",
    "    m += 12\n",
    "    y -= 1\n",
    "\n",
    "K = y % 100  \n",
    "J = y // 100      \n",
    "\n",
    "h = (d + 13*(m+1)//5 + K + K//4 + J//4 + 5*J) % 7\n",
    "\n",
    "days = [\"Saturday\",\"Sunday\",\"Monday\",\"Tuesday\",\"Wednesday\",\"Thursday\",\"Friday\"]\n",
    "print(days[h])"
   ]
  },
  {
   "cell_type": "code",
   "execution_count": 5,
   "id": "4f4e807f-0d59-4f0f-baad-a614e1665212",
   "metadata": {},
   "outputs": [
    {
     "name": "stdout",
     "output_type": "stream",
     "text": [
      "Friday\n"
     ]
    }
   ],
   "source": [
    "# What was the day of the week on 15th August, 1947?\n",
    "d = 15  \n",
    "m = 8   \n",
    "y = 1947 \n",
    "\n",
    "if m < 3:\n",
    "    m += 12\n",
    "    y -= 1\n",
    "\n",
    "K = y % 100  \n",
    "J = y // 100      \n",
    "\n",
    "h = (d + 13*(m+1)//5 + K + K//4 + J//4 + 5*J) % 7\n",
    "\n",
    "days = [\"Saturday\",\"Sunday\",\"Monday\",\"Tuesday\",\"Wednesday\",\"Thursday\",\"Friday\"]\n",
    "print(days[h])"
   ]
  },
  {
   "cell_type": "code",
   "execution_count": 9,
   "id": "ff42d6ea-f2e2-4df7-92b9-68ba679ba302",
   "metadata": {},
   "outputs": [
    {
     "name": "stdin",
     "output_type": "stream",
     "text": [
      "Enter the day number from the date 4\n",
      "Enter the month from the date 6\n",
      "Enter the year from the date 2002\n"
     ]
    },
    {
     "name": "stdout",
     "output_type": "stream",
     "text": [
      "Tuesday\n"
     ]
    }
   ],
   "source": [
    "# What was the day of the week on 4th June, 2002?\n",
    "def cal_week():\n",
    "    d = int(input(\"Enter the day number from the date\"))\n",
    "    m = int(input(\"Enter the month from the date\"))  \n",
    "    y = int(input(\"Enter the year from the date\"))\n",
    "\n",
    "    if m < 3:\n",
    "       m += 12\n",
    "       y -= 1\n",
    "\n",
    "    K = y % 100  \n",
    "    J = y // 100      \n",
    "\n",
    "    h = (d + 13*(m+1)//5 + K + K//4 + J//4 + 5*J) % 7\n",
    "\n",
    "    days = [\"Saturday\",\"Sunday\",\"Monday\",\"Tuesday\",\"Wednesday\",\"Thursday\",\"Friday\"]\n",
    "    print(days[h])\n",
    "\n",
    "cal_week()"
   ]
  },
  {
   "cell_type": "code",
   "execution_count": 10,
   "id": "3b7b928f-b049-4e7b-b722-70b3bd7e551a",
   "metadata": {},
   "outputs": [
    {
     "name": "stdout",
     "output_type": "stream",
     "text": [
      "Distance travelled per minute is 1.3766666666666665 km/min\n",
      "Distance travelled in 15 minutes in km is 20.65 km\n",
      "Distance travelled in 15 minutes in m is 20650.0 m\n"
     ]
    }
   ],
   "source": [
    "# A train travels 82.6 km/hr. How many metres will it travel in 15 minutes?\n",
    "s = 82.6\n",
    "per_min = s / 60\n",
    "dis_km = per_min * 15\n",
    "dis_m = dis_km * 1000\n",
    "print(\"Distance travelled per minute is\",per_min,\"km/min\")\n",
    "print(\"Distance travelled in 15 minutes in km is\",dis_km,\"km\")\n",
    "print(\"Distance travelled in 15 minutes in m is\",dis_m,\"m\")\n"
   ]
  },
  {
   "cell_type": "code",
   "execution_count": 13,
   "id": "26c9ce8e-637c-4e70-ab2f-9a586bfd7907",
   "metadata": {},
   "outputs": [
    {
     "name": "stdout",
     "output_type": "stream",
     "text": [
      "the banker’s discount on the same sum for the same time and at the same rate is 129.0 rs\n"
     ]
    }
   ],
   "source": [
    "# If the true discount on a certain sum due 6 months hence at 15% is ` 120, what is the banker’s discount on \n",
    "# the same sum for the same time and at the same rate ?\n",
    "si = 120 * 15 * (1 / 2) * (1 / 100)\n",
    "bd = 120 + si\n",
    "print(\"the banker’s discount on the same sum for the same time and at the same rate is\",bd,\"rs\")"
   ]
  },
  {
   "cell_type": "code",
   "execution_count": 3,
   "id": "fda55981-c0d7-4707-a4fd-29480f52943b",
   "metadata": {},
   "outputs": [
    {
     "name": "stdout",
     "output_type": "stream",
     "text": [
      "stoppage time per hour = 15.0 min\n"
     ]
    }
   ],
   "source": [
    "# Excluding the stoppages, the speed of a bus is 64 km/hr and including the stoppages, the speed of the bus\n",
    "# is 48 km/hr. For how many minutes does the bus stop per hour?\n",
    "a = 64 - 48\n",
    "t = (16 / 64) * 60\n",
    "print(\"stoppage time per hour =\",t,\"min\")\n"
   ]
  },
  {
   "cell_type": "code",
   "execution_count": 4,
   "id": "4a14d0e1-f99b-44eb-bd5f-483133a0426c",
   "metadata": {},
   "outputs": [
    {
     "name": "stdout",
     "output_type": "stream",
     "text": [
      "7\n"
     ]
    }
   ],
   "source": [
    "# Find the H.C.F. of: (a) 42, 63 and 140\n",
    "def hcf(*nums):\n",
    "    small = min(nums)\n",
    "    ans = 1\n",
    "    for i in range(1, small+1):\n",
    "        count = 0\n",
    "        for n in nums:\n",
    "            if n % i == 0:\n",
    "                count += 1\n",
    "        if count == len(nums):\n",
    "            ans = i\n",
    "    return ans\n",
    "\n",
    "print(hcf(42, 63, 140))"
   ]
  },
  {
   "cell_type": "code",
   "execution_count": 5,
   "id": "22d382c6-ce3a-4b12-8a31-455c8b8a0c6b",
   "metadata": {},
   "outputs": [
    {
     "data": {
      "text/plain": [
       "36"
      ]
     },
     "execution_count": 5,
     "metadata": {},
     "output_type": "execute_result"
    }
   ],
   "source": [
    "# Find the H.C.F. of: (b)108, 288 and 360\n",
    "def hcf(*nums):\n",
    "    small = min(nums)\n",
    "    ans = 1\n",
    "    for i in range(1, small+1):\n",
    "        count = 0\n",
    "        for n in nums:\n",
    "            if n % i == 0:\n",
    "                count += 1\n",
    "        if count == len(nums):\n",
    "            ans = i\n",
    "    return ans\n",
    "\n",
    "hcf(108, 288, 360)"
   ]
  },
  {
   "cell_type": "code",
   "execution_count": 7,
   "id": "09653a90-f6e4-4fc7-bbcd-5090b40d0517",
   "metadata": {},
   "outputs": [
    {
     "data": {
      "text/plain": [
       "432"
      ]
     },
     "execution_count": 7,
     "metadata": {},
     "output_type": "execute_result"
    }
   ],
   "source": [
    "# Find the L.C.M. of 16, 24, 36 and 54.\n",
    "def lcm(*nums):\n",
    "    n = list(nums)\n",
    "    ans = 1\n",
    "    p = 2\n",
    "    while max(n) > 1:         # keep dividing until all become 1\n",
    "        divided = 0\n",
    "        for i in range(len(n)):\n",
    "            if n[i] % p == 0:\n",
    "                n[i] //= p\n",
    "                divided = 1\n",
    "        if divided == 1:\n",
    "            ans *= p\n",
    "        else:\n",
    "            p += 1\n",
    "    return ans\n",
    "\n",
    "lcm(16, 24, 36, 54)"
   ]
  },
  {
   "cell_type": "markdown",
   "id": "99099d2c-a878-46b3-a3dd-8659f1ccda30",
   "metadata": {},
   "source": [
    "# Date:29-08-2025"
   ]
  },
  {
   "cell_type": "code",
   "execution_count": 4,
   "id": "1b6890eb-537d-4dcb-ad5a-dd88b1240005",
   "metadata": {},
   "outputs": [
    {
     "name": "stdout",
     "output_type": "stream",
     "text": [
      "The smaller sphere lies completely inside the bigger sphere\n"
     ]
    }
   ],
   "source": [
    "# Write a python function for  two spheres (x1,y1,z1,r1) and (x2,y2,z2,r2), check whether the smaller lies completely inside the larger. \n",
    "def inside(x1,y1,z1,r1,x2,y2,z2,r2):\n",
    "    d = ((x2 - x1)**2 + (y2 - y1)**2 + (z2 - z1)**2)**0.5\n",
    "    if r1 > r2:\n",
    "        r = r1 - r2\n",
    "    else: r = r2 - r1\n",
    "    if d < r or d == r:\n",
    "        print(\"The smaller sphere lies completely inside the bigger sphere\")\n",
    "    else:\n",
    "        print(\"The smaller sphere does not lie inside the bigger sphere\")\n",
    "        \n",
    "inside(0,0,0,1,1,0,0,2)        "
   ]
  },
  {
   "cell_type": "code",
   "execution_count": 5,
   "id": "b0658fad-a34b-47a0-ba3c-d4227ac98257",
   "metadata": {},
   "outputs": [
    {
     "name": "stdout",
     "output_type": "stream",
     "text": [
      "Given 3d vectors are perpendicular\n"
     ]
    }
   ],
   "source": [
    "# Write a python function for Perpendicular Vectors in 3D Given vectors (a1,b1,c1) and (a2,b2,c2), check if Perpendicular (dot=0) or Not Perpendicular. \n",
    "def dot_p(a1,b1,c1,a2,b2,c2):\n",
    "    dot = (a1*a2)+(b1*b2)+(c1*c1)\n",
    "    if dot == 0:\n",
    "        print(\"Given 3d vectors are perpendicular\")\n",
    "    else:\n",
    "        print(\"Given 3d vectors are not perpendicular to each other\")\n",
    "\n",
    "dot_p(1,0,0,0,2,0)        "
   ]
  },
  {
   "cell_type": "code",
   "execution_count": 6,
   "id": "54310643-eb10-45ca-90fc-40b18e6263ee",
   "metadata": {},
   "outputs": [
    {
     "name": "stdout",
     "output_type": "stream",
     "text": [
      "LCM of 12 and 18 is: 36\n"
     ]
    }
   ],
   "source": [
    "# Write a python function to Find LCM using Recursion                                         \n",
    "def lcm(a, b, mul):\n",
    "    if mul % a == 0 and mul % b == 0:\n",
    "        print(\"LCM of\", a, \"and\", b, \"is:\", mul)\n",
    "    else:\n",
    "        lcm(a, b, mul + b)\n",
    "\n",
    "lcm(12, 18, 18)        "
   ]
  },
  {
   "cell_type": "code",
   "execution_count": 7,
   "id": "aeed0e32-5acd-4576-a932-b83df4bf4ffd",
   "metadata": {},
   "outputs": [
    {
     "name": "stdout",
     "output_type": "stream",
     "text": [
      "GCD is: 6\n"
     ]
    }
   ],
   "source": [
    "# Write a python function to  Find GCD (Greatest Common Divisor) using recursion.  \n",
    "def gcd(a, b):\n",
    "    if b == 0:\n",
    "        print(\"GCD is:\", a)\n",
    "    else:\n",
    "        gcd(b, a % b)\n",
    "\n",
    "gcd(48, 18)\n"
   ]
  },
  {
   "cell_type": "code",
   "execution_count": 8,
   "id": "063f7ed5-5a50-4fba-a059-f06dbe516160",
   "metadata": {},
   "outputs": [
    {
     "name": "stdout",
     "output_type": "stream",
     "text": [
      "29 is Prime\n"
     ]
    }
   ],
   "source": [
    "# Write a python function to Check if Number is Prime using recursion                                                                                           \n",
    "def is_prime(n, i=2):\n",
    "    if n <= 1:\n",
    "        print(n, \"is not Prime\")\n",
    "    elif i * i > n:\n",
    "        print(n, \"is Prime\")\n",
    "    elif n % i == 0:\n",
    "        print(n, \"is not Prime\")\n",
    "    else:\n",
    "        is_prime(n, i + 1)\n",
    "\n",
    "is_prime(29)"
   ]
  },
  {
   "cell_type": "code",
   "execution_count": 9,
   "id": "633b8ce9-dd1d-48d7-b06c-b98e71a3e258",
   "metadata": {},
   "outputs": [
    {
     "name": "stdout",
     "output_type": "stream",
     "text": [
      "Product of digits is: 30\n"
     ]
    }
   ],
   "source": [
    "# Write a python function to find Product of Digits using recursion                                                                                              \n",
    "def product_of_digits(n, prod=1):\n",
    "    if n == 0:\n",
    "        print(\"Product of digits is:\", prod)\n",
    "    else:\n",
    "        product_of_digits(n // 10, prod * (n % 10))\n",
    "\n",
    "product_of_digits(523)"
   ]
  },
  {
   "cell_type": "code",
   "execution_count": 10,
   "id": "db2dc3ae-1cc5-4f82-a82c-0ee4b6291ce1",
   "metadata": {},
   "outputs": [
    {
     "name": "stdout",
     "output_type": "stream",
     "text": [
      "654321"
     ]
    }
   ],
   "source": [
    "# Write a python function to Print Number in Reverse using recursion\n",
    "def reverse_number(n):\n",
    "    if n > 0:\n",
    "        print(n % 10, end=\"\")\n",
    "        reverse_number(n // 10)\n",
    "\n",
    "reverse_number(123456)"
   ]
  },
  {
   "cell_type": "code",
   "execution_count": 18,
   "id": "48f4d3e9-3339-4c5c-9399-e46e5ba634b8",
   "metadata": {},
   "outputs": [
    {
     "name": "stdout",
     "output_type": "stream",
     "text": [
      "0\n"
     ]
    }
   ],
   "source": [
    "# Filter numbers with even digit sums, map to square, reduce to sum, map to their square, reduce to sum them.\n",
    "from functools import reduce\n",
    "\n",
    "nums = [12, 23, 45, 67, 89, 90]\n",
    "\n",
    "squares = map(lambda n: (n*n if sum([int(d) for d in str(n)]) % 2 == 0 else 0),nums)\n",
    "print(reduce(lambda a, b: a+b, squares, 0))"
   ]
  },
  {
   "cell_type": "code",
   "execution_count": 22,
   "id": "8014d206-0bf2-43bc-a818-a5d5ebd5a592",
   "metadata": {},
   "outputs": [
    {
     "name": "stdout",
     "output_type": "stream",
     "text": [
      "192\n"
     ]
    }
   ],
   "source": [
    "# Write a python program to form a list of numbers, remove all that are prime, then return the product of remaining.\n",
    "\n",
    "nums = [2, 3, 4, 5, 6, 7, 8]\n",
    "def is_not_prime(n, i=2):\n",
    "    if n <= 1:\n",
    "        return True\n",
    "    if i*i > n:\n",
    "        return False\n",
    "    if n % i == 0:\n",
    "        return True\n",
    "    return is_not_prime(n, i+1)\n",
    "\n",
    "print(reduce(lambda x,y: x*y,filter(lambda n: is_not_prime(n), nums)))\n"
   ]
  },
  {
   "cell_type": "code",
   "execution_count": 21,
   "id": "1b6b6cfb-f3a1-4936-977f-6d4dbb4adc47",
   "metadata": {},
   "outputs": [
    {
     "name": "stdout",
     "output_type": "stream",
     "text": [
      "41\n"
     ]
    }
   ],
   "source": [
    "# write a python program to square numbers, keep only > 10, sum them\n",
    "nums = [2, 3, 4, 5]\n",
    "print(sum(filter(lambda n: n > 10, map(lambda x: x*x, nums))))"
   ]
  },
  {
   "cell_type": "markdown",
   "id": "4f4a9830-7487-4bf5-9aaf-5e56000aaebc",
   "metadata": {},
   "source": [
    "# Date:30-08-2025"
   ]
  },
  {
   "cell_type": "code",
   "execution_count": 24,
   "id": "3c989588-4496-41e3-8433-b756a67739c7",
   "metadata": {},
   "outputs": [
    {
     "name": "stdout",
     "output_type": "stream",
     "text": [
      "[-1, -2, -3, -4]\n"
     ]
    }
   ],
   "source": [
    "# write a python program to convert a list of integers to their negatives\n",
    "nums = [1, -2, 3, -4]\n",
    "negative = list(map(lambda x: -abs(x), nums))\n",
    "print(negative)"
   ]
  },
  {
   "cell_type": "code",
   "execution_count": 25,
   "id": "5f37d1cb-a73d-4f3d-a9c1-0332f6730005",
   "metadata": {},
   "outputs": [
    {
     "name": "stdout",
     "output_type": "stream",
     "text": [
      "[12, 23, 34, 45, 56]\n"
     ]
    }
   ],
   "source": [
    "# Write a python program to keep only numbers where the sum of digits is odd\n",
    "nums = [12, 23, 34, 45, 56]\n",
    "sum_digit_odd = list(filter(lambda n: sum(int(d) for d in str(n)) % 2 == 1, nums))\n",
    "print(sum_digit_odd)"
   ]
  },
  {
   "cell_type": "code",
   "execution_count": 26,
   "id": "a8341434-ca57-4ba7-a1cd-9ca54e50ccfa",
   "metadata": {},
   "outputs": [
    {
     "name": "stdout",
     "output_type": "stream",
     "text": [
      "[10, 7, 22, 14, 5]\n"
     ]
    }
   ],
   "source": [
    "# Write a python program to sort list by remainder when divided by 3.\n",
    "nums = [10, 14, 7, 22, 5]\n",
    "sort_list = sorted(nums, key=lambda x: x % 3)\n",
    "print(sort_list)"
   ]
  },
  {
   "cell_type": "code",
   "execution_count": 27,
   "id": "7488d036-5af3-4c57-a15d-271ade46f615",
   "metadata": {},
   "outputs": [
    {
     "name": "stdout",
     "output_type": "stream",
     "text": [
      "[10, 40, 90]\n"
     ]
    }
   ],
   "source": [
    "# Write a python program to use enumerate() and map() to multiply value with its (1-based) position\n",
    "nums = [10, 20, 30]\n",
    "mul = list(map(lambda t: t[0]*t[1], enumerate(nums, start=1)))\n",
    "print(mul)"
   ]
  },
  {
   "cell_type": "code",
   "execution_count": 28,
   "id": "3826e3ef-c6de-428c-83a8-80a12d5ecde3",
   "metadata": {},
   "outputs": [
    {
     "name": "stdout",
     "output_type": "stream",
     "text": [
      "[10, 10, 50]\n"
     ]
    }
   ],
   "source": [
    "# Write a python program to map each number to its absolute difference from 100.\n",
    "nums = [90, 110, 150]\n",
    "abs_diff = list(map(lambda x: abs(x-100), nums))\n",
    "print(abs_diff)"
   ]
  },
  {
   "cell_type": "code",
   "execution_count": 29,
   "id": "46d6029f-86e9-4b92-8ebd-47f57ba9f264",
   "metadata": {},
   "outputs": [
    {
     "name": "stdout",
     "output_type": "stream",
     "text": [
      "[234, 56, 77]\n"
     ]
    }
   ],
   "source": [
    "# write a python program to filter numbers with all non-zero digits\n",
    "nums = [102, 234, 405, 56, 77]\n",
    "filter_num = list(filter(lambda n: all(d != '0' for d in str(n)), nums))\n",
    "print(filter_num)"
   ]
  },
  {
   "cell_type": "code",
   "execution_count": 30,
   "id": "b0073b47-cafc-470a-83f2-78788798dcf5",
   "metadata": {},
   "outputs": [
    {
     "name": "stdout",
     "output_type": "stream",
     "text": [
      "[4, 9, 16]\n"
     ]
    }
   ],
   "source": [
    "# Write a python program to filter numbers that are square of any other number in the list\n",
    "nums = [2, 3, 4, 9, 16, 5]\n",
    "squares = set(x*x for x in nums)\n",
    "fil_sqr = list(filter(lambda n: n in squares, nums))\n",
    "print(fil_sqr)"
   ]
  },
  {
   "cell_type": "code",
   "execution_count": 31,
   "id": "45a5cc7c-167f-40f7-9e58-bac74d3ccf09",
   "metadata": {},
   "outputs": [
    {
     "name": "stdout",
     "output_type": "stream",
     "text": [
      "2700\n"
     ]
    }
   ],
   "source": [
    "# From a list of numbers, calculate the sum of cubes of numbers divisible by 3.\n",
    "from functools import reduce\n",
    "\n",
    "nums = [2, 3, 5, 6, 9, 10, 12]\n",
    "\n",
    "cubes = map(lambda n: n*n*n, filter(lambda n: n%3==0, nums))\n",
    "print(reduce(lambda a,b: a+b, cubes, 0))"
   ]
  },
  {
   "cell_type": "code",
   "execution_count": 32,
   "id": "7724e4af-12b7-40ce-829d-950cc592ced8",
   "metadata": {},
   "outputs": [
    {
     "name": "stdout",
     "output_type": "stream",
     "text": [
      "160\n"
     ]
    }
   ],
   "source": [
    "# From a list of numbers, calculate the product of all even numbers.\n",
    "from functools import reduce\n",
    "\n",
    "nums = [2, 5, 8, 7, 10]\n",
    "\n",
    "evens = filter(lambda n: n%2==0, nums)\n",
    "print(reduce(lambda a,b: a*b, evens, 1))"
   ]
  },
  {
   "cell_type": "code",
   "execution_count": 33,
   "id": "4e471ed9-b6e9-489e-a8af-bf688422ae83",
   "metadata": {},
   "outputs": [
    {
     "name": "stdout",
     "output_type": "stream",
     "text": [
      "170\n"
     ]
    }
   ],
   "source": [
    "# From a list of numbers, calculate the sum of double of numbers ending with digit 5.\n",
    "from functools import reduce\n",
    "\n",
    "nums = [12, 15, 25, 30, 45]\n",
    "\n",
    "doubles = map(lambda n: n*2, filter(lambda n: n%10==5, nums))\n",
    "print(reduce(lambda a,b: a+b, doubles, 0))"
   ]
  },
  {
   "cell_type": "markdown",
   "id": "0c56a248-31de-48f3-8cb2-7699f2b45c72",
   "metadata": {},
   "source": [
    "# Date: 31-08-2025"
   ]
  },
  {
   "cell_type": "code",
   "execution_count": 10,
   "id": "f929ff52-d780-4017-ae9d-051306064df0",
   "metadata": {},
   "outputs": [
    {
     "name": "stdout",
     "output_type": "stream",
     "text": [
      "A's time over the course is 243.0 secs\n"
     ]
    }
   ],
   "source": [
    "# In a km race, A beats B by 28 metres or 7 seconds. Then, find A’s time over the course.\n",
    "a = (7 / 28) * 1000\n",
    "b = a - 7\n",
    "print(\"A's time over the course is\",b,\"secs\") "
   ]
  },
  {
   "cell_type": "code",
   "execution_count": 12,
   "id": "01e36e09-74b2-4d43-b2d2-3d2c4030f3f3",
   "metadata": {},
   "outputs": [
    {
     "name": "stdout",
     "output_type": "stream",
     "text": [
      "A beat B by 50.0 m\n"
     ]
    }
   ],
   "source": [
    "# A can run 1 km in 3 min 10 sec and B can cover the same distance in 3 min 20 sec. By what distance can A beat B?\t \n",
    "A_B = (200-190)\n",
    "Dis = (1000/200)*10\n",
    "print(\"A beat B by\",Dis,\"m\")"
   ]
  },
  {
   "cell_type": "code",
   "execution_count": 14,
   "id": "75099936-03f4-4da8-9e5a-7fb3125aa61c",
   "metadata": {},
   "outputs": [
    {
     "name": "stdout",
     "output_type": "stream",
     "text": [
      "B's speed is 5.7 km/hr\n"
     ]
    }
   ],
   "source": [
    "# In a 100 m race, A runs at 8 km per hour. If A gives B a start of 5 m and still beats him by 15 seconds, what is B’s speed?\n",
    "A = ((60*60)/8000)*100\n",
    "T = A + 15\n",
    "B = (95 / T) * (18 / 5)\n",
    "print(\"B's speed is\",B,\"km/hr\")"
   ]
  },
  {
   "cell_type": "code",
   "execution_count": 15,
   "id": "1dd03099-908f-4570-9b25-4ea979fdb63b",
   "metadata": {},
   "outputs": [
    {
     "name": "stdout",
     "output_type": "stream",
     "text": [
      "Time taken by B to run 96 m is 72.24096385542168 secs\n",
      "B’s speed is 1.3288859239492996 m/s\n"
     ]
    }
   ],
   "source": [
    "# In a 100 m race for children, A runs at 1.66 m/s. If A gives B a start of 4m and still beats him by 12 seconds, what is B’s speed?\n",
    "T = 5000/83\n",
    "B = (5000+996)/83\n",
    "print(\"Time taken by B to run 96 m is\",B,\"secs\")\n",
    "B_S = ((96 * 83) / 5996)\n",
    "print(\"B’s speed is\",B_S,\"m/s\") "
   ]
  },
  {
   "cell_type": "code",
   "execution_count": 16,
   "id": "7fafde88-fbf9-46d9-99f9-f789b7339d9b",
   "metadata": {},
   "outputs": [
    {
     "name": "stdout",
     "output_type": "stream",
     "text": [
      "36\n"
     ]
    }
   ],
   "source": [
    "# In how many different ways can the letters of the word ‘DETAIL’ be arranged so that the vowels occupy only the odd positions?\n",
    "word = \"DETAIL\"\n",
    "vowels = 0\n",
    "consonants = 0\n",
    "for ch in word:\n",
    "    if ch in \"AEIOUaeiou\":\n",
    "        vowels = vowels + 1\n",
    "    else:\n",
    "        consonants = consonants + 1\n",
    "fv = 1\n",
    "i = 1\n",
    "while i <= vowels:\n",
    "    fv = fv * i\n",
    "    i = i + 1\n",
    "fc = 1\n",
    "j = 1\n",
    "while j <= consonants:\n",
    "    fc = fc * j\n",
    "    j = j + 1\n",
    "ways = fv * fc\n",
    "print(ways)"
   ]
  },
  {
   "cell_type": "code",
   "execution_count": 17,
   "id": "34b6d5d9-d2b8-495c-9e18-69611ea7e3eb",
   "metadata": {},
   "outputs": [
    {
     "name": "stdout",
     "output_type": "stream",
     "text": [
      "364\n"
     ]
    }
   ],
   "source": [
    "# In how many ways can a cricket eleven be chosen out of 14 players?\n",
    "n = 14\n",
    "r = 11\n",
    "def fact(x):\n",
    "    f = 1\n",
    "    for i in range(1, x+1):\n",
    "        f = f * i\n",
    "    return f\n",
    "nCr = fact(n) // (fact(r) * fact(n-r))\n",
    "print(nCr)"
   ]
  },
  {
   "cell_type": "code",
   "execution_count": 18,
   "id": "fd8d4011-c2e3-4acc-816d-5a3c42798dbf",
   "metadata": {},
   "outputs": [
    {
     "name": "stdout",
     "output_type": "stream",
     "text": [
      "350\n"
     ]
    }
   ],
   "source": [
    "# In how many ways, a committee of 6 members be selected from 7 men and 5 ladies, consisting of 4 men and 2 ladies?\n",
    "def fact(n):\n",
    "    f = 1\n",
    "    for i in range(1, n+1):\n",
    "        f *= i\n",
    "    return f\n",
    "def nCr(n, r):\n",
    "    return fact(n) // (fact(r) * fact(n-r))\n",
    "men = nCr(7, 4)     \n",
    "ladies = nCr(5, 2)   \n",
    "ways = men * ladies\n",
    "print(ways)"
   ]
  },
  {
   "cell_type": "code",
   "execution_count": 19,
   "id": "30f9bec3-8a60-4bd8-a6c8-a488a2f1f53d",
   "metadata": {},
   "outputs": [
    {
     "name": "stdout",
     "output_type": "stream",
     "text": [
      "63\n"
     ]
    }
   ],
   "source": [
    "# In how many ways can a group of 5 men and 2 women be made out of a total of 7 men and 3 women?\n",
    "def fact(n):\n",
    "    f = 1\n",
    "    for i in range(1, n+1):\n",
    "        f *= i\n",
    "    return f\n",
    "def nCr(n, r):\n",
    "    return fact(n) // (fact(r) * fact(n-r))\n",
    "men = nCr(7, 5)     \n",
    "women = nCr(3, 2)   \n",
    "ways = men * women\n",
    "print(ways)"
   ]
  },
  {
   "cell_type": "code",
   "execution_count": 20,
   "id": "f12a4f98-e2f8-4cee-ba10-a63a72973da4",
   "metadata": {},
   "outputs": [
    {
     "name": "stdout",
     "output_type": "stream",
     "text": [
      "70\n"
     ]
    }
   ],
   "source": [
    "# In how many ways can a committee of 4 people be chosen out of 8 people?\n",
    "def fact(n):\n",
    "    f = 1\n",
    "    for i in range(1, n+1):\n",
    "        f *= i\n",
    "    return f\n",
    "def nCr(n, r):\n",
    "    return fact(n) // (fact(r) * fact(n-r))\n",
    "ways = nCr(8, 4)\n",
    "print(ways)"
   ]
  },
  {
   "cell_type": "code",
   "execution_count": 21,
   "id": "eb45561c-f44f-43c8-bd51-6ff113a4cbb4",
   "metadata": {},
   "outputs": [
    {
     "name": "stdout",
     "output_type": "stream",
     "text": [
      "120\n"
     ]
    }
   ],
   "source": [
    "# In how many different ways can the letters of the word CREAM be arranged?\n",
    "f = 1\n",
    "for i in range(1, 6):\n",
    "    f = f * i\n",
    "print(f)"
   ]
  }
 ],
 "metadata": {
  "kernelspec": {
   "display_name": "Python [conda env:base] *",
   "language": "python",
   "name": "conda-base-py"
  },
  "language_info": {
   "codemirror_mode": {
    "name": "ipython",
    "version": 3
   },
   "file_extension": ".py",
   "mimetype": "text/x-python",
   "name": "python",
   "nbconvert_exporter": "python",
   "pygments_lexer": "ipython3",
   "version": "3.13.5"
  }
 },
 "nbformat": 4,
 "nbformat_minor": 5
}
