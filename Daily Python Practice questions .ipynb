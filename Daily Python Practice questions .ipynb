{
 "cells": [
  {
   "cell_type": "markdown",
   "id": "5a727bcf-b18b-4c16-b1e5-a6eebd40670a",
   "metadata": {},
   "source": [
    "# Date:24-08-2025"
   ]
  },
  {
   "cell_type": "code",
   "execution_count": 2,
   "id": "08d9c3e5-96d8-4f24-a6ad-a2e65fc4031b",
   "metadata": {},
   "outputs": [
    {
     "name": "stdin",
     "output_type": "stream",
     "text": [
      "Enter a number 715632\n",
      "Enter a number 631104\n",
      "Enter a number 9874\n",
      "Enter a number 999\n",
      "Enter a number 2\n"
     ]
    },
    {
     "name": "stdout",
     "output_type": "stream",
     "text": [
      "73655\n"
     ]
    }
   ],
   "source": [
    "# 1 . Simplify: (i) 8888 + 888 + 88 + 8 (ii) 715632 – 631104 – 9874 – 999\n",
    "a = int(input(\"Enter a number\"))\n",
    "b = int(input(\"Enter a number\"))\n",
    "c = int(input(\"Enter a number\"))\n",
    "d = int(input(\"Enter a number\"))\n",
    "op = int(input(\"Enter a number\"))\n",
    "if op == 1:\n",
    "    print(a+b+c+d)\n",
    "elif op == 2:\n",
    "    print(a-b-c-d)\n",
    "else:\n",
    "    print(\"Please choose from 1 or 2\")\n",
    "    "
   ]
  },
  {
   "cell_type": "code",
   "execution_count": 4,
   "id": "e24011db-05e2-4da1-a6d9-9bd71b60dd60",
   "metadata": {},
   "outputs": [
    {
     "name": "stdout",
     "output_type": "stream",
     "text": [
      "3572021\n",
      "6516\n"
     ]
    }
   ],
   "source": [
    "# 2. What value will replace the question mark in each of the following questions?\n",
    "# (i)? – 1936248 = 1635773 (ii) 9587 –? = 7429 – 4358\n",
    "a = 1936248\n",
    "b = 1635773\n",
    "x = a + b\n",
    "print(x)\n",
    "\n",
    "c = 7429\n",
    "d = 4358\n",
    "e = c - d\n",
    "f = 9587\n",
    "y = f - e\n",
    "print(y)"
   ]
  },
  {
   "cell_type": "code",
   "execution_count": 5,
   "id": "93f6ec19-a727-45d3-84c1-f23aa743237d",
   "metadata": {},
   "outputs": [
    {
     "name": "stdout",
     "output_type": "stream",
     "text": [
      "q = 9\n"
     ]
    }
   ],
   "source": [
    "# 3. What could be the maximum value of Q in the following equation? 5P9 + 3R7 + 2Q8 = 1114\n",
    "# sol= We may analyse the given equation as shown:\n",
    "# Clearly, 2 + P + R + Q = 11.\n",
    "# (when P = 0, R = 0)\n",
    "a = 11\n",
    "b = 2\n",
    "q = a - b\n",
    "print(\"q =\", q)"
   ]
  },
  {
   "cell_type": "code",
   "execution_count": 6,
   "id": "36515e29-71f7-44bc-8a6d-69764e3b6a84",
   "metadata": {},
   "outputs": [
    {
     "name": "stdout",
     "output_type": "stream",
     "text": [
      "Solution is: 57928256595\n"
     ]
    }
   ],
   "source": [
    "# 4. Simplify: (i) 5793405 × 9999\n",
    "a = 5793405\n",
    "b = 9999\n",
    "print(\"Solution is:\",a * b)"
   ]
  },
  {
   "cell_type": "code",
   "execution_count": 7,
   "id": "613feae1-8573-4238-a582-bf6ee36300f4",
   "metadata": {},
   "outputs": [
    {
     "name": "stdout",
     "output_type": "stream",
     "text": [
      "Solution for (i) is: 986000\n",
      "Solution for (ii) is: 98300\n"
     ]
    }
   ],
   "source": [
    "# 5. Evaluate: (i) 986 × 137 + 986 × 863 (ii) 983 × 207 – 983 × 107\n",
    "a = 986\n",
    "b = 137\n",
    "c = 986\n",
    "d = 863\n",
    "print(\"Solution for (i) is:\", ((a*b)+(c*d)))\n",
    "\n",
    "e = 983\n",
    "f = 207\n",
    "g = 107\n",
    "print(\"Solution for (ii) is:\",((e * f)-(e * g)))\n",
    "      "
   ]
  },
  {
   "cell_type": "code",
   "execution_count": 9,
   "id": "68bcb5ae-be47-4aa0-a93c-8e5ff9f2d7bf",
   "metadata": {},
   "outputs": [
    {
     "name": "stdin",
     "output_type": "stream",
     "text": [
      "Enter a number 1398\n"
     ]
    },
    {
     "name": "stdout",
     "output_type": "stream",
     "text": [
      "Solution is: 1954404\n"
     ]
    }
   ],
   "source": [
    "#6. Simplify: (i) 1605 × 1605 (ii) 1398 × 1398\n",
    "a = int(input(\"Enter a number\"))\n",
    "c = a * a\n",
    "print(\"Solution is:\", c)"
   ]
  },
  {
   "cell_type": "code",
   "execution_count": 10,
   "id": "0646de49-67a9-4ca7-9d43-bf3bad952be1",
   "metadata": {},
   "outputs": [
    {
     "name": "stdin",
     "output_type": "stream",
     "text": [
      "Enter a number 475\n",
      "Enter a number 125\n",
      "Enter a number 1\n"
     ]
    },
    {
     "name": "stdout",
     "output_type": "stream",
     "text": [
      "241250\n"
     ]
    }
   ],
   "source": [
    "#7. Evaluate: (i) 475 × 475 + 125 × 125 (ii) 796 × 796 – 204 × 204\n",
    "a = int(input(\"Enter a number\"))\n",
    "b = int(input(\"Enter a number\"))\n",
    "c = int(input(\"Enter a number\"))\n",
    "if c == 1:\n",
    "    print((a * a) + (b * b))\n",
    "elif c == 2:\n",
    "    print((a * a) - (b * b))\n",
    "else:\n",
    "    print(\"Please enter 1 or 2 only in c\")"
   ]
  },
  {
   "cell_type": "code",
   "execution_count": 11,
   "id": "cfcae865-76e9-4b14-b39e-d126e1bed3c4",
   "metadata": {},
   "outputs": [
    {
     "name": "stdin",
     "output_type": "stream",
     "text": [
      "Enter a number 387\n",
      "Enter a number 113\n",
      "Enter a number 1\n"
     ]
    },
    {
     "name": "stdout",
     "output_type": "stream",
     "text": [
      "250000\n"
     ]
    }
   ],
   "source": [
    "#8. Simplify: (i) (387 × 387 + 113 × 113 + 2 × 387 × 113) (ii) (87 × 87 + 61 × 61 – 2 × 87 × 61)\n",
    "a = int(input(\"Enter a number\"))\n",
    "b = int(input(\"Enter a number\"))\n",
    "c = int(input(\"Enter a number\"))\n",
    "if c == 1:\n",
    "    print((a * a) + (b * b) + (2 * a * b))\n",
    "elif c == 2:\n",
    "    print((a * a) + (b * b) - (2 * a * b))\n",
    "else:\n",
    "    print(\"Please enter 1 or 2 only in c\")"
   ]
  },
  {
   "cell_type": "code",
   "execution_count": 14,
   "id": "1bf461c0-f06a-4510-8f09-131504b5b8a6",
   "metadata": {},
   "outputs": [
    {
     "name": "stdin",
     "output_type": "stream",
     "text": [
      "Enter a number 8\n",
      "Enter a number 8\n",
      "Enter a number 8\n"
     ]
    },
    {
     "name": "stdout",
     "output_type": "stream",
     "text": [
      "Square root is: 16\n"
     ]
    }
   ],
   "source": [
    "#9. Find the square root of 4a2 + b2 + c2 + 4ab – 2bc – 4ac\n",
    "a = int(input(\"Enter a number\"))\n",
    "b = int(input(\"Enter a number\"))\n",
    "c = int(input(\"Enter a number\"))\n",
    "\n",
    "result = (2*a + b - c)\n",
    "\n",
    "print(\"Square root is:\", result)"
   ]
  },
  {
   "cell_type": "code",
   "execution_count": 16,
   "id": "dc7d4918-d991-484e-860b-a336b99a70dc",
   "metadata": {},
   "outputs": [
    {
     "name": "stdout",
     "output_type": "stream",
     "text": [
      "They say together: 21\n"
     ]
    }
   ],
   "source": [
    "#10. A is counting the numbers from 1 to 31 and B from 31 to 1. A is counting the odd numbers only. The speed of both is the same. What will be the number which will be pronounced by A and B together \n",
    "I = 0\n",
    "for k in range(0, 31): \n",
    "    A = 1 + 2*k\n",
    "    B = 31 - k\n",
    "\n",
    "    if A <= 31 and A == B:\n",
    "        I = A \n",
    "\n",
    "print(\"They say together:\", I)"
   ]
  }
 ],
 "metadata": {
  "kernelspec": {
   "display_name": "Python [conda env:base] *",
   "language": "python",
   "name": "conda-base-py"
  },
  "language_info": {
   "codemirror_mode": {
    "name": "ipython",
    "version": 3
   },
   "file_extension": ".py",
   "mimetype": "text/x-python",
   "name": "python",
   "nbconvert_exporter": "python",
   "pygments_lexer": "ipython3",
   "version": "3.13.5"
  }
 },
 "nbformat": 4,
 "nbformat_minor": 5
}
