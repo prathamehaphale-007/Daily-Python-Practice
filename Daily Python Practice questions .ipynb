{
 "cells": [
  {
   "cell_type": "markdown",
   "id": "5a727bcf-b18b-4c16-b1e5-a6eebd40670a",
   "metadata": {},
   "source": [
    "# Date:24-08-2025"
   ]
  },
  {
   "cell_type": "code",
   "execution_count": 2,
   "id": "08d9c3e5-96d8-4f24-a6ad-a2e65fc4031b",
   "metadata": {},
   "outputs": [
    {
     "name": "stdin",
     "output_type": "stream",
     "text": [
      "Enter a number 715632\n",
      "Enter a number 631104\n",
      "Enter a number 9874\n",
      "Enter a number 999\n",
      "Enter a number 2\n"
     ]
    },
    {
     "name": "stdout",
     "output_type": "stream",
     "text": [
      "73655\n"
     ]
    }
   ],
   "source": [
    "# 1 . Simplify: (i) 8888 + 888 + 88 + 8 (ii) 715632 – 631104 – 9874 – 999\n",
    "a = int(input(\"Enter a number\"))\n",
    "b = int(input(\"Enter a number\"))\n",
    "c = int(input(\"Enter a number\"))\n",
    "d = int(input(\"Enter a number\"))\n",
    "op = int(input(\"Enter a number\"))\n",
    "if op == 1:\n",
    "    print(a+b+c+d)\n",
    "elif op == 2:\n",
    "    print(a-b-c-d)\n",
    "else:\n",
    "    print(\"Please choose from 1 or 2\")\n",
    "    "
   ]
  },
  {
   "cell_type": "code",
   "execution_count": 4,
   "id": "e24011db-05e2-4da1-a6d9-9bd71b60dd60",
   "metadata": {},
   "outputs": [
    {
     "name": "stdout",
     "output_type": "stream",
     "text": [
      "3572021\n",
      "6516\n"
     ]
    }
   ],
   "source": [
    "# 2. What value will replace the question mark in each of the following questions?\n",
    "# (i)? – 1936248 = 1635773 (ii) 9587 –? = 7429 – 4358\n",
    "a = 1936248\n",
    "b = 1635773\n",
    "x = a + b\n",
    "print(x)\n",
    "\n",
    "c = 7429\n",
    "d = 4358\n",
    "e = c - d\n",
    "f = 9587\n",
    "y = f - e\n",
    "print(y)"
   ]
  },
  {
   "cell_type": "code",
   "execution_count": 5,
   "id": "93f6ec19-a727-45d3-84c1-f23aa743237d",
   "metadata": {},
   "outputs": [
    {
     "name": "stdout",
     "output_type": "stream",
     "text": [
      "q = 9\n"
     ]
    }
   ],
   "source": [
    "# 3. What could be the maximum value of Q in the following equation? 5P9 + 3R7 + 2Q8 = 1114\n",
    "# sol= We may analyse the given equation as shown:\n",
    "# Clearly, 2 + P + R + Q = 11.\n",
    "# (when P = 0, R = 0)\n",
    "a = 11\n",
    "b = 2\n",
    "q = a - b\n",
    "print(\"q =\", q)"
   ]
  },
  {
   "cell_type": "code",
   "execution_count": 6,
   "id": "36515e29-71f7-44bc-8a6d-69764e3b6a84",
   "metadata": {},
   "outputs": [
    {
     "name": "stdout",
     "output_type": "stream",
     "text": [
      "Solution is: 57928256595\n"
     ]
    }
   ],
   "source": [
    "# 4. Simplify: (i) 5793405 × 9999\n",
    "a = 5793405\n",
    "b = 9999\n",
    "print(\"Solution is:\",a * b)"
   ]
  },
  {
   "cell_type": "code",
   "execution_count": 7,
   "id": "613feae1-8573-4238-a582-bf6ee36300f4",
   "metadata": {},
   "outputs": [
    {
     "name": "stdout",
     "output_type": "stream",
     "text": [
      "Solution for (i) is: 986000\n",
      "Solution for (ii) is: 98300\n"
     ]
    }
   ],
   "source": [
    "# 5. Evaluate: (i) 986 × 137 + 986 × 863 (ii) 983 × 207 – 983 × 107\n",
    "a = 986\n",
    "b = 137\n",
    "c = 986\n",
    "d = 863\n",
    "print(\"Solution for (i) is:\", ((a*b)+(c*d)))\n",
    "\n",
    "e = 983\n",
    "f = 207\n",
    "g = 107\n",
    "print(\"Solution for (ii) is:\",((e * f)-(e * g)))\n",
    "      "
   ]
  },
  {
   "cell_type": "code",
   "execution_count": 9,
   "id": "68bcb5ae-be47-4aa0-a93c-8e5ff9f2d7bf",
   "metadata": {},
   "outputs": [
    {
     "name": "stdin",
     "output_type": "stream",
     "text": [
      "Enter a number 1398\n"
     ]
    },
    {
     "name": "stdout",
     "output_type": "stream",
     "text": [
      "Solution is: 1954404\n"
     ]
    }
   ],
   "source": [
    "#6. Simplify: (i) 1605 × 1605 (ii) 1398 × 1398\n",
    "a = int(input(\"Enter a number\"))\n",
    "c = a * a\n",
    "print(\"Solution is:\", c)"
   ]
  },
  {
   "cell_type": "code",
   "execution_count": 10,
   "id": "0646de49-67a9-4ca7-9d43-bf3bad952be1",
   "metadata": {},
   "outputs": [
    {
     "name": "stdin",
     "output_type": "stream",
     "text": [
      "Enter a number 475\n",
      "Enter a number 125\n",
      "Enter a number 1\n"
     ]
    },
    {
     "name": "stdout",
     "output_type": "stream",
     "text": [
      "241250\n"
     ]
    }
   ],
   "source": [
    "#7. Evaluate: (i) 475 × 475 + 125 × 125 (ii) 796 × 796 – 204 × 204\n",
    "a = int(input(\"Enter a number\"))\n",
    "b = int(input(\"Enter a number\"))\n",
    "c = int(input(\"Enter a number\"))\n",
    "if c == 1:\n",
    "    print((a * a) + (b * b))\n",
    "elif c == 2:\n",
    "    print((a * a) - (b * b))\n",
    "else:\n",
    "    print(\"Please enter 1 or 2 only in c\")"
   ]
  },
  {
   "cell_type": "code",
   "execution_count": 11,
   "id": "cfcae865-76e9-4b14-b39e-d126e1bed3c4",
   "metadata": {},
   "outputs": [
    {
     "name": "stdin",
     "output_type": "stream",
     "text": [
      "Enter a number 387\n",
      "Enter a number 113\n",
      "Enter a number 1\n"
     ]
    },
    {
     "name": "stdout",
     "output_type": "stream",
     "text": [
      "250000\n"
     ]
    }
   ],
   "source": [
    "#8. Simplify: (i) (387 × 387 + 113 × 113 + 2 × 387 × 113) (ii) (87 × 87 + 61 × 61 – 2 × 87 × 61)\n",
    "a = int(input(\"Enter a number\"))\n",
    "b = int(input(\"Enter a number\"))\n",
    "c = int(input(\"Enter a number\"))\n",
    "if c == 1:\n",
    "    print((a * a) + (b * b) + (2 * a * b))\n",
    "elif c == 2:\n",
    "    print((a * a) + (b * b) - (2 * a * b))\n",
    "else:\n",
    "    print(\"Please enter 1 or 2 only in c\")"
   ]
  },
  {
   "cell_type": "code",
   "execution_count": 14,
   "id": "1bf461c0-f06a-4510-8f09-131504b5b8a6",
   "metadata": {},
   "outputs": [
    {
     "name": "stdin",
     "output_type": "stream",
     "text": [
      "Enter a number 8\n",
      "Enter a number 8\n",
      "Enter a number 8\n"
     ]
    },
    {
     "name": "stdout",
     "output_type": "stream",
     "text": [
      "Square root is: 16\n"
     ]
    }
   ],
   "source": [
    "#9. Find the square root of 4a2 + b2 + c2 + 4ab – 2bc – 4ac\n",
    "a = int(input(\"Enter a number\"))\n",
    "b = int(input(\"Enter a number\"))\n",
    "c = int(input(\"Enter a number\"))\n",
    "\n",
    "result = (2*a + b - c)\n",
    "\n",
    "print(\"Square root is:\", result)"
   ]
  },
  {
   "cell_type": "code",
   "execution_count": 16,
   "id": "dc7d4918-d991-484e-860b-a336b99a70dc",
   "metadata": {},
   "outputs": [
    {
     "name": "stdout",
     "output_type": "stream",
     "text": [
      "They say together: 21\n"
     ]
    }
   ],
   "source": [
    "#10. A is counting the numbers from 1 to 31 and B from 31 to 1. A is counting the odd numbers only. The speed of both is the same. What will be the number which will be pronounced by A and B together \n",
    "I = 0\n",
    "for k in range(0, 31): \n",
    "    A = 1 + 2*k\n",
    "    B = 31 - k\n",
    "\n",
    "    if A <= 31 and A == B:\n",
    "        I = A \n",
    "\n",
    "print(\"They say together:\", I)"
   ]
  },
  {
   "cell_type": "markdown",
   "id": "92e7664c-af77-43ec-8434-d682c09c6066",
   "metadata": {},
   "source": [
    "# Date:25-08-2025"
   ]
  },
  {
   "cell_type": "code",
   "execution_count": 1,
   "id": "8e97b055-0081-4841-bf9d-ddd78eb691e1",
   "metadata": {},
   "outputs": [
    {
     "name": "stdin",
     "output_type": "stream",
     "text": [
      "Enter a number 789\n",
      "Enter a number 211\n",
      "Enter a number 1\n"
     ]
    },
    {
     "name": "stdout",
     "output_type": "stream",
     "text": [
      "1000.0\n"
     ]
    }
   ],
   "source": [
    "# Simplify: (i)789 × 789 × 789 + 211 × 211 × 211 // 789 × 789 – 789 × 211 + 211 × 211\n",
    "# (ii) 658 × 658 × 658 – 328 × 328 × 328 // 658 × 658 + 658 × 328 + 328 × 328\n",
    "a = int(input(\"Enter a number\"))\n",
    "b = int(input(\"Enter a number\"))\n",
    "c = int(input(\"Enter a number\"))\n",
    "if c == 1:\n",
    "    print(((a**3) + (b**3)) / ((a**2) - (a*b) + (b**2)))\n",
    "elif c == 2:\n",
    "    print(((a**3) - (b**3)) / ((a**2) + (a*b) + (b**2)))\n",
    "else:\n",
    "    print(\"Please choose the number from 1 and 2 only\")"
   ]
  },
  {
   "cell_type": "code",
   "execution_count": 2,
   "id": "1c8e645e-66e3-452a-97be-ab470ce56f97",
   "metadata": {},
   "outputs": [
    {
     "name": "stdout",
     "output_type": "stream",
     "text": [
      "Solution is : 4.0\n"
     ]
    }
   ],
   "source": [
    "# Simplify: (893 + 786)^2 – (893 – 786)^2 / (893 × 786)\n",
    "a = ((893 + 786)**2)\n",
    "b = ((893 - 786)**2)\n",
    "c = (893 * 786)\n",
    "d = (a - b) / c\n",
    "print(\"Solution is :\", d)"
   ]
  },
  {
   "cell_type": "code",
   "execution_count": 7,
   "id": "1e2863fa-0698-46ff-b991-8f469a1267f2",
   "metadata": {},
   "outputs": [
    {
     "name": "stdin",
     "output_type": "stream",
     "text": [
      "Enter a number:  571\n"
     ]
    },
    {
     "name": "stdout",
     "output_type": "stream",
     "text": [
      "571 is a prime number\n"
     ]
    }
   ],
   "source": [
    "# Which of the following are prime numbers? \n",
    "# (i) 241 (ii) 337 (iii) 391 (iv) 571\n",
    "num = int(input(\"Enter a number: \"))\n",
    "count = 0\n",
    "\n",
    "if num > 1:\n",
    "    for i in range(1, num + 1):\n",
    "        if num % i == 0:\n",
    "            count = count + 1\n",
    "\n",
    "    if count == 2: \n",
    "        print(num, \"is a prime number\")\n",
    "    else:\n",
    "        print(num, \"is not a prime number\")\n",
    "else:\n",
    "    print(num, \"is not a prime number\")"
   ]
  },
  {
   "cell_type": "code",
   "execution_count": 8,
   "id": "b48c87d5-18a8-4f66-99db-93f6b7cd9c27",
   "metadata": {},
   "outputs": [
    {
     "name": "stdout",
     "output_type": "stream",
     "text": [
      "The sum is: 158440\n"
     ]
    }
   ],
   "source": [
    "# Given that 12^2 + 22^2 + 32^2 + ..... + 102^2 = 385, then find the value of 22^2 + 42^2 + 62^2 + ...... + 202^2\n",
    "total = 0\n",
    "\n",
    "for i in range(22, 203):   \n",
    "    if i % 20 == 2:      \n",
    "        total = total + i*i\n",
    "\n",
    "print(\"The sum is:\", total)"
   ]
  },
  {
   "cell_type": "code",
   "execution_count": 9,
   "id": "ce198cae-9b45-44f7-9c69-fc98051cd04c",
   "metadata": {},
   "outputs": [
    {
     "name": "stdin",
     "output_type": "stream",
     "text": [
      "Enter a number 541326\n"
     ]
    },
    {
     "name": "stdout",
     "output_type": "stream",
     "text": [
      "The number is divisible by 3\n"
     ]
    }
   ],
   "source": [
    "# Which of the following numbers is divisible by 3? (i) 541326 (ii) 5967013\n",
    "num = int(input(\"Enter a number\"))\n",
    "if num % 3 == 0:\n",
    "    print(\"The number is divisible by 3\")\n",
    "else:\n",
    "    print(\"The number is not divisible by 3\")\n"
   ]
  },
  {
   "cell_type": "code",
   "execution_count": 11,
   "id": "20a33a8f-8bcb-4013-89cf-2a4427c9493f",
   "metadata": {},
   "outputs": [
    {
     "name": "stdout",
     "output_type": "stream",
     "text": [
      "The least value of * is: 2\n"
     ]
    }
   ],
   "source": [
    "#. What least value must be assigned to * so that the number 197*5462 is divisible by 9?\n",
    "digits = [1, 9, 7, 5, 4, 6, 2] \n",
    "total = sum(digits)\n",
    "for i in range(10):        \n",
    "    if (total + i) % 9 == 0:\n",
    "        print(\"The least value of * is:\", i)"
   ]
  },
  {
   "cell_type": "code",
   "execution_count": 12,
   "id": "85f70c2b-f6df-454a-a9bd-b9da9454f771",
   "metadata": {},
   "outputs": [
    {
     "name": "stdin",
     "output_type": "stream",
     "text": [
      "Enter a number 67920594\n"
     ]
    },
    {
     "name": "stdout",
     "output_type": "stream",
     "text": [
      "The number is not divisible by 4\n"
     ]
    }
   ],
   "source": [
    "# Which of the following numbers is divisible by 4? (i) 67920594 (ii) 618703572\n",
    "num = int(input(\"Enter a number\"))\n",
    "if num % 4 == 0:\n",
    "    print(\"The number is divisible by 4\")\n",
    "else:\n",
    "    print(\"The number is not divisible by 4\")"
   ]
  },
  {
   "cell_type": "code",
   "execution_count": 13,
   "id": "f564c61a-fa0d-421b-a2ac-474d366a219c",
   "metadata": {},
   "outputs": [
    {
     "name": "stdout",
     "output_type": "stream",
     "text": [
      "The number is divisible by 11\n"
     ]
    }
   ],
   "source": [
    "# Show that 4832718 is divisible by 11?\n",
    "a = 4832718\n",
    "if a % 11 == 0:\n",
    "    print(\"The number is divisible by 11\")\n",
    "else:\n",
    "    print(\"The number is not divisible by 11\")"
   ]
  },
  {
   "cell_type": "code",
   "execution_count": 14,
   "id": "421eadc0-e115-4dea-b4e6-35eb642aa86c",
   "metadata": {},
   "outputs": [
    {
     "name": "stdout",
     "output_type": "stream",
     "text": [
      "The number is divisible by 24\n"
     ]
    }
   ],
   "source": [
    "# Is 52563744 divisible by 24?\n",
    "a = 52563744\n",
    "if a % 24 == 0:\n",
    "    print(\"The number is divisible by 24\")\n",
    "else:\n",
    "    print(\"The number is not divisible by 24\")\n"
   ]
  },
  {
   "cell_type": "code",
   "execution_count": 18,
   "id": "b5f76aa0-397c-4ca4-a6a0-1f497301441c",
   "metadata": {},
   "outputs": [
    {
     "name": "stdout",
     "output_type": "stream",
     "text": [
      "The divisor is: 179.0\n"
     ]
    }
   ],
   "source": [
    "# On dividing 15968 by a certain number, the quotient is 89 and the remainder is 37. Find the divisor.\n",
    "dividend = 15968\n",
    "quotient = 89\n",
    "remainder = 37\n",
    "divisor = (dividend - remainder) / quotient\n",
    "print(\"The divisor is:\",divisor)"
   ]
  },
  {
   "cell_type": "markdown",
   "id": "46864b8b-aee9-4023-b868-ec06174ef7a8",
   "metadata": {},
   "source": [
    "# Date: 26-08-2025"
   ]
  },
  {
   "cell_type": "code",
   "execution_count": 19,
   "id": "2ea440f4-99ba-49f6-97e4-f09b650a86e1",
   "metadata": {},
   "outputs": [
    {
     "name": "stdin",
     "output_type": "stream",
     "text": [
      "Enter a number 6084\n"
     ]
    },
    {
     "name": "stdout",
     "output_type": "stream",
     "text": [
      "78.0\n"
     ]
    }
   ],
   "source": [
    "# Evaluate squareroot of 6084 \n",
    "a = int(input(\"Enter a number\"))\n",
    "print(a ** 0.5)"
   ]
  },
  {
   "cell_type": "code",
   "execution_count": 2,
   "id": "07433139-48ab-41e1-b843-23b28934fabc",
   "metadata": {},
   "outputs": [
    {
     "name": "stdout",
     "output_type": "stream",
     "text": [
      "the average body weight of all six boys is 66.0\n"
     ]
    }
   ],
   "source": [
    "# The body weight of six boys is recorded as 54 kg, 64 kg, 75 kg, 67 kg, 45 kg and 91 kg. What is the average body weight of all six boys?\n",
    "a = 54 + 64 + 75 + 67 + 45 + 91\n",
    "b = a / 6\n",
    "print(\"the average body weight of all six boys is\",b)"
   ]
  },
  {
   "cell_type": "code",
   "execution_count": 3,
   "id": "77739a37-8bb8-4062-b73d-ecc9b783c0e5",
   "metadata": {},
   "outputs": [
    {
     "name": "stdout",
     "output_type": "stream",
     "text": [
      "Solution is 332.0\n"
     ]
    }
   ],
   "source": [
    "# Evaluate: (i) 70% of 320 + 45% of 240\n",
    "a = (70 / 100) * 320\n",
    "b = (45 / 100) * 240\n",
    "c = a + b\n",
    "print(\"Solution is\",c)"
   ]
  },
  {
   "cell_type": "code",
   "execution_count": 5,
   "id": "ac106af9-908d-4876-90fd-147271f5774d",
   "metadata": {},
   "outputs": [
    {
     "name": "stdout",
     "output_type": "stream",
     "text": [
      "2 is 4.0 % of 50\n"
     ]
    }
   ],
   "source": [
    "# 2 is what percent of 50?\n",
    "a = 2 / 50\n",
    "b = 100\n",
    "c = a * b\n",
    "print(\"2 is\",c,\"% of 50\") "
   ]
  },
  {
   "cell_type": "code",
   "execution_count": 6,
   "id": "31db7268-50f8-485f-8508-506c0faa2aa3",
   "metadata": {},
   "outputs": [
    {
     "name": "stdout",
     "output_type": "stream",
     "text": [
      "The profit gained is 98000 rs\n",
      "The profit percentage is 39.2 %\n"
     ]
    }
   ],
   "source": [
    "# Mansi purchased a car for  2,50,000 rs and sold it for  3,48,000 rs. What is the percent profit she made on the car?\n",
    "cp = 250000\n",
    "sp = 348000\n",
    "profit = sp - cp\n",
    "print(\"The profit gained is\",profit,\"rs\")\n",
    "profit_percent = (profit / cp) * 100\n",
    "print(\"The profit percentage is\",profit_percent,\"%\")"
   ]
  },
  {
   "cell_type": "code",
   "execution_count": 10,
   "id": "b7041beb-e2e2-453b-a413-92473710abd0",
   "metadata": {},
   "outputs": [
    {
     "name": "stdout",
     "output_type": "stream",
     "text": [
      "The s.p after the gain % is 67.5 rs\n"
     ]
    }
   ],
   "source": [
    "# Find S.P., when gain is given (i) C.P. = ` 56.25, Gain = 20%\n",
    "def sp_gain(cp,gain):\n",
    "    a = 100 + gain\n",
    "    b = (a / 100) * cp\n",
    "    print(\"The s.p after the gain % is\",b,\"rs\")\n",
    "\n",
    "sp_gain(56.25, 20)    \n"
   ]
  },
  {
   "cell_type": "code",
   "execution_count": 11,
   "id": "08b1c223-e405-4657-b412-5ae101d6998c",
   "metadata": {},
   "outputs": [
    {
     "name": "stdout",
     "output_type": "stream",
     "text": [
      "The sp after the loss is 68.34 rs\n"
     ]
    }
   ],
   "source": [
    "# Find S.P., when loss is given (i) C.P. =  80.40, Loss = 15%\n",
    "def sp_loss(cp,loss):\n",
    "    a = 100 - loss\n",
    "    b = (a / 100) * cp\n",
    "    print(\"The sp after the loss is\",b,\"rs\")\n",
    "\n",
    "sp_loss(80.40, 15)    "
   ]
  },
  {
   "cell_type": "code",
   "execution_count": 13,
   "id": "29082d7f-10af-4a3b-b099-3477afa62492",
   "metadata": {},
   "outputs": [
    {
     "name": "stdout",
     "output_type": "stream",
     "text": [
      "The total wheat required for 58 days is 870.0 kgs\n"
     ]
    }
   ],
   "source": [
    "# A canteen requires 105 kgs of wheat for a week. How many kgs of wheat will it require for 58 days?\n",
    "# 7 : 105 kgs  then 58 : ?\n",
    "x = 58 * 105\n",
    "y =  x / 7\n",
    "print(\"The total wheat required for 58 days is\",y,\"kgs\")\n"
   ]
  },
  {
   "cell_type": "code",
   "execution_count": 14,
   "id": "3844f88d-9a06-4e71-8c5c-e9c76ddcf8ca",
   "metadata": {},
   "outputs": [
    {
     "name": "stdout",
     "output_type": "stream",
     "text": [
      "The volume of tank in fts is 90 cu ft\n",
      "The volume of tank in inch is 155520 cu inch\n",
      "Net volume drained in one minute, when both the pipes are opened 288.0 cu. inch\n",
      "When both pipes are open it will take 9.0 hrs to empty it\n"
     ]
    }
   ],
   "source": [
    "# A tank 9 ft by 5 ft by 2ft is fitted with an inlet pipe and an exhaust pipe. The inlet pipe pours in 576 cu.\n",
    "# inch of water per minute and the exhaust pipe can empty the full tank in 3 hours. If the tank is full and\n",
    "# both pipes are open, how many hours will it take to empty it?\n",
    "vol_tank_ft = ( 9 * 5 * 2)\n",
    "print(\"The volume of tank in fts is\", vol_tank_ft,\"cu ft\")\n",
    "vol_tank_inch = vol_tank_ft * 12 * 12 * 12\n",
    "print(\"The volume of tank in inch is\", vol_tank_inch,\"cu inch\")\n",
    "vol_drained_minute = (vol_tank_inch / (3 * 60)) - 576\n",
    "print(\"Net volume drained in one minute, when both the pipes are opened\",vol_drained_minute,\"cu. inch\")\n",
    "Req_time = vol_tank_inch / (288 * 60)\n",
    "print(\"When both pipes are open it will take\",Req_time,\"hrs to empty it\")"
   ]
  },
  {
   "cell_type": "code",
   "execution_count": 15,
   "id": "a961c223-d65f-468c-90e0-807c7c1c4bb4",
   "metadata": {},
   "outputs": [
    {
     "name": "stdout",
     "output_type": "stream",
     "text": [
      "The solution is 8.999999999999998\n"
     ]
    }
   ],
   "source": [
    "# Simplify (i) (27)^2/3\n",
    "s = 27\n",
    "p = 2 / 3\n",
    "a = s ** p\n",
    "print(\"The solution is\",a) "
   ]
  },
  {
   "cell_type": "markdown",
   "id": "3fd5f55b-6498-439c-9be1-25d8d630affa",
   "metadata": {},
   "source": [
    "# Date: 27-08-2025"
   ]
  },
  {
   "cell_type": "code",
   "execution_count": 18,
   "id": "02f48cd1-fc86-4940-b743-ebe2c10df784",
   "metadata": {},
   "outputs": [
    {
     "name": "stdout",
     "output_type": "stream",
     "text": [
      "The simple interest is 8500.000000000002 rs\n"
     ]
    }
   ],
   "source": [
    "# Find the simple interest on  68000rs at 16 2/3 % per annum for 9 months.\n",
    "def si():\n",
    "    p = 68000 \n",
    "    r = 50 / 3\n",
    "    t = 9 / 12\n",
    "    si = (p * r * t) / 100\n",
    "    print(\"The simple interest is\",si,\"rs\")\n",
    "\n",
    "si()"
   ]
  },
  {
   "cell_type": "code",
   "execution_count": 20,
   "id": "5e1424e6-44ea-4c48-aafa-f756786a9c8d",
   "metadata": {},
   "outputs": [
    {
     "name": "stdout",
     "output_type": "stream",
     "text": [
      "The maximum distance is 111.80339887498948 m\n"
     ]
    }
   ],
   "source": [
    "# Find the maximum distance between two points on the perimeter of a rectangular garden whose length and breadth are 100 m and 50 m.\n",
    "a = (100**2) + (50**2)\n",
    "b = a ** 0.5\n",
    "print(\"The maximum distance is\",b,\"m\")"
   ]
  },
  {
   "cell_type": "code",
   "execution_count": 21,
   "id": "b22bcd56-7488-4a49-8079-89f355d9ac25",
   "metadata": {},
   "outputs": [
    {
     "name": "stdout",
     "output_type": "stream",
     "text": [
      "The area of triangle is (2.518324258767058e-10+4112735.6238883142j)\n"
     ]
    }
   ],
   "source": [
    "# Find the area of a triangle whose sides measure 15 cm, 16 cm and 17 cm\n",
    "def area_tri(a, b, c):\n",
    "    s = (1 / 2) * (a * b * c)\n",
    "    d = a - s\n",
    "    e = b - s\n",
    "    f = c - s\n",
    "    g = (s * d * e * f)\n",
    "    h = g ** 0.5\n",
    "    print(\"The area of triangle is\",h)\n",
    "\n",
    "area_tri(15,16,17)    "
   ]
  },
  {
   "cell_type": "code",
   "execution_count": 22,
   "id": "0f511e03-9aae-4164-ab2a-6c5698b4122d",
   "metadata": {},
   "outputs": [
    {
     "name": "stdout",
     "output_type": "stream",
     "text": [
      "The compound interest obtained is 1229.4750000000004\n"
     ]
    }
   ],
   "source": [
    "# After 3 years, how much compound interest will be obtained on 7800 rs at the interest rate of 5% per annum?\n",
    "r = 7800\n",
    "a = ( 1 + (5 / 100)) ** 3\n",
    "b = r * a\n",
    "ci = b - r\n",
    "print(\"The compound interest obtained is\",ci)"
   ]
  },
  {
   "cell_type": "code",
   "execution_count": 24,
   "id": "bbf0062e-66df-497d-a1a9-78ec6780d739",
   "metadata": {},
   "outputs": [
    {
     "name": "stdout",
     "output_type": "stream",
     "text": [
      "The length of longest bamboo pole is 17.0 m\n"
     ]
    }
   ],
   "source": [
    "# A room is 12 metres long, 9 metres broad and 8 metres high. Find the length of the longest bamboo pole that can be placed in it\n",
    "a = (12**2) + (9**2) + (8**2)\n",
    "b = a ** 0.5\n",
    "print(\"The length of longest bamboo pole is\",b,\"m\")"
   ]
  },
  {
   "cell_type": "code",
   "execution_count": 27,
   "id": "24b458bf-2bb7-496a-b392-aa343ba87d27",
   "metadata": {},
   "outputs": [
    {
     "name": "stdout",
     "output_type": "stream",
     "text": [
      "The volume of cube is 216 The surface area is 216\n"
     ]
    }
   ],
   "source": [
    "# The diagonal of a cube is 6 (3**0.5) cm. Find its volume and surface area.\n",
    "a = 6\n",
    "b = a * (3 ** 0.5)\n",
    "vol = a ** 3\n",
    "sa = 6 * (a ** 2)\n",
    "print(\"The volume of cube is\",vol,\"The surface area is\",sa)"
   ]
  },
  {
   "cell_type": "code",
   "execution_count": 29,
   "id": "26c13262-9641-41a8-ad38-35e0c32e4522",
   "metadata": {},
   "outputs": [
    {
     "name": "stdout",
     "output_type": "stream",
     "text": [
      "The slant height is 35.0 cm\n"
     ]
    }
   ],
   "source": [
    "# Find the slant height of a cone of radius 21 cm and height 28 cm.\n",
    "a  = (21 ** 2) + (28 ** 2)\n",
    "b = a ** 0.5\n",
    "print(\"The slant height is\",b,\"cm\")"
   ]
  },
  {
   "cell_type": "code",
   "execution_count": 31,
   "id": "ab98c610-d7b3-49de-88b7-136edb403d40",
   "metadata": {},
   "outputs": [
    {
     "name": "stdout",
     "output_type": "stream",
     "text": [
      "The curved surface of a cone is 12924.24\n"
     ]
    }
   ],
   "source": [
    "# Find the volume of a cone of radius 21 cm and height 28 cm\n",
    "a = 3.14 * 21 * 21 * 28\n",
    "b = (1 / 3) * a\n",
    "print(\"The volume of a cone is\",b)"
   ]
  },
  {
   "cell_type": "code",
   "execution_count": 34,
   "id": "51ec81b0-10a9-414a-9156-283a35056008",
   "metadata": {},
   "outputs": [
    {
     "name": "stdout",
     "output_type": "stream",
     "text": [
      "The curved surface area of the cone = pi*r*l = 2307.9\n"
     ]
    }
   ],
   "source": [
    "# Find the curved surface area of a cone of radius 21 cm and slant height 35 cm\n",
    "a = 3.14 * 21 * 35\n",
    "print(\"The curved surface area of the cone = pi*r*l =\",a)\n"
   ]
  },
  {
   "cell_type": "code",
   "execution_count": 36,
   "id": "305e9183-330f-4435-ae31-b49ce52f309a",
   "metadata": {},
   "outputs": [
    {
     "name": "stdout",
     "output_type": "stream",
     "text": [
      "The total surface area is 3692.6400000000003\n"
     ]
    }
   ],
   "source": [
    "# Find the total surface area of a cone of radius 21 cm and height 28 cm\n",
    "a = 3.14 * 21 * 35\n",
    "b = 3.14 * 21 * 21\n",
    "c = a + b\n",
    "print(\"The total surface area is\",c)"
   ]
  },
  {
   "cell_type": "markdown",
   "id": "26d957a9-2fa4-4435-a45a-19b11fe524e0",
   "metadata": {},
   "source": [
    "# Date: 28-08-2025"
   ]
  },
  {
   "cell_type": "code",
   "execution_count": 2,
   "id": "0091745e-b771-42c5-85cd-d71c7a9e9bfd",
   "metadata": {},
   "outputs": [
    {
     "name": "stdout",
     "output_type": "stream",
     "text": [
      "The present worth is 750.0 rs\n",
      "The discount is 180.0\n"
     ]
    }
   ],
   "source": [
    "# Find the present worth of 930 rs due 3 years hence at 8% per annum. Also find the discount\n",
    "a = 100 * 930\n",
    "b = 100 + (8 * 3)\n",
    "pw = a / b\n",
    "print(\"The present worth is\",pw,\"rs\")\n",
    "d = (930 - pw)\n",
    "print(\"The discount is\",d)\n"
   ]
  },
  {
   "cell_type": "code",
   "execution_count": 4,
   "id": "dbd4ad78-0ffb-4131-a5bf-0c34250ffb2e",
   "metadata": {},
   "outputs": [
    {
     "name": "stdout",
     "output_type": "stream",
     "text": [
      "Tuesday\n"
     ]
    }
   ],
   "source": [
    "# What was the day of the week on 16th July, 1776?\n",
    "d = 16  \n",
    "m = 7    \n",
    "y = 1776 \n",
    "\n",
    "if m < 3:\n",
    "    m += 12\n",
    "    y -= 1\n",
    "\n",
    "K = y % 100  \n",
    "J = y // 100      \n",
    "\n",
    "h = (d + 13*(m+1)//5 + K + K//4 + J//4 + 5*J) % 7\n",
    "\n",
    "days = [\"Saturday\",\"Sunday\",\"Monday\",\"Tuesday\",\"Wednesday\",\"Thursday\",\"Friday\"]\n",
    "print(days[h])"
   ]
  },
  {
   "cell_type": "code",
   "execution_count": 5,
   "id": "4f4e807f-0d59-4f0f-baad-a614e1665212",
   "metadata": {},
   "outputs": [
    {
     "name": "stdout",
     "output_type": "stream",
     "text": [
      "Friday\n"
     ]
    }
   ],
   "source": [
    "# What was the day of the week on 15th August, 1947?\n",
    "d = 15  \n",
    "m = 8   \n",
    "y = 1947 \n",
    "\n",
    "if m < 3:\n",
    "    m += 12\n",
    "    y -= 1\n",
    "\n",
    "K = y % 100  \n",
    "J = y // 100      \n",
    "\n",
    "h = (d + 13*(m+1)//5 + K + K//4 + J//4 + 5*J) % 7\n",
    "\n",
    "days = [\"Saturday\",\"Sunday\",\"Monday\",\"Tuesday\",\"Wednesday\",\"Thursday\",\"Friday\"]\n",
    "print(days[h])"
   ]
  },
  {
   "cell_type": "code",
   "execution_count": 9,
   "id": "ff42d6ea-f2e2-4df7-92b9-68ba679ba302",
   "metadata": {},
   "outputs": [
    {
     "name": "stdin",
     "output_type": "stream",
     "text": [
      "Enter the day number from the date 4\n",
      "Enter the month from the date 6\n",
      "Enter the year from the date 2002\n"
     ]
    },
    {
     "name": "stdout",
     "output_type": "stream",
     "text": [
      "Tuesday\n"
     ]
    }
   ],
   "source": [
    "# What was the day of the week on 4th June, 2002?\n",
    "def cal_week():\n",
    "    d = int(input(\"Enter the day number from the date\"))\n",
    "    m = int(input(\"Enter the month from the date\"))  \n",
    "    y = int(input(\"Enter the year from the date\"))\n",
    "\n",
    "    if m < 3:\n",
    "       m += 12\n",
    "       y -= 1\n",
    "\n",
    "    K = y % 100  \n",
    "    J = y // 100      \n",
    "\n",
    "    h = (d + 13*(m+1)//5 + K + K//4 + J//4 + 5*J) % 7\n",
    "\n",
    "    days = [\"Saturday\",\"Sunday\",\"Monday\",\"Tuesday\",\"Wednesday\",\"Thursday\",\"Friday\"]\n",
    "    print(days[h])\n",
    "\n",
    "cal_week()"
   ]
  },
  {
   "cell_type": "code",
   "execution_count": 10,
   "id": "3b7b928f-b049-4e7b-b722-70b3bd7e551a",
   "metadata": {},
   "outputs": [
    {
     "name": "stdout",
     "output_type": "stream",
     "text": [
      "Distance travelled per minute is 1.3766666666666665 km/min\n",
      "Distance travelled in 15 minutes in km is 20.65 km\n",
      "Distance travelled in 15 minutes in m is 20650.0 m\n"
     ]
    }
   ],
   "source": [
    "# A train travels 82.6 km/hr. How many metres will it travel in 15 minutes?\n",
    "s = 82.6\n",
    "per_min = s / 60\n",
    "dis_km = per_min * 15\n",
    "dis_m = dis_km * 1000\n",
    "print(\"Distance travelled per minute is\",per_min,\"km/min\")\n",
    "print(\"Distance travelled in 15 minutes in km is\",dis_km,\"km\")\n",
    "print(\"Distance travelled in 15 minutes in m is\",dis_m,\"m\")\n"
   ]
  },
  {
   "cell_type": "code",
   "execution_count": 13,
   "id": "26c9ce8e-637c-4e70-ab2f-9a586bfd7907",
   "metadata": {},
   "outputs": [
    {
     "name": "stdout",
     "output_type": "stream",
     "text": [
      "the banker’s discount on the same sum for the same time and at the same rate is 129.0 rs\n"
     ]
    }
   ],
   "source": [
    "# If the true discount on a certain sum due 6 months hence at 15% is ` 120, what is the banker’s discount on \n",
    "# the same sum for the same time and at the same rate ?\n",
    "si = 120 * 15 * (1 / 2) * (1 / 100)\n",
    "bd = 120 + si\n",
    "print(\"the banker’s discount on the same sum for the same time and at the same rate is\",bd,\"rs\")"
   ]
  },
  {
   "cell_type": "code",
   "execution_count": 3,
   "id": "fda55981-c0d7-4707-a4fd-29480f52943b",
   "metadata": {},
   "outputs": [
    {
     "name": "stdout",
     "output_type": "stream",
     "text": [
      "stoppage time per hour = 15.0 min\n"
     ]
    }
   ],
   "source": [
    "# Excluding the stoppages, the speed of a bus is 64 km/hr and including the stoppages, the speed of the bus\n",
    "# is 48 km/hr. For how many minutes does the bus stop per hour?\n",
    "a = 64 - 48\n",
    "t = (16 / 64) * 60\n",
    "print(\"stoppage time per hour =\",t,\"min\")\n"
   ]
  },
  {
   "cell_type": "code",
   "execution_count": 4,
   "id": "4a14d0e1-f99b-44eb-bd5f-483133a0426c",
   "metadata": {},
   "outputs": [
    {
     "name": "stdout",
     "output_type": "stream",
     "text": [
      "7\n"
     ]
    }
   ],
   "source": [
    "# Find the H.C.F. of: (a) 42, 63 and 140\n",
    "def hcf(*nums):\n",
    "    small = min(nums)\n",
    "    ans = 1\n",
    "    for i in range(1, small+1):\n",
    "        count = 0\n",
    "        for n in nums:\n",
    "            if n % i == 0:\n",
    "                count += 1\n",
    "        if count == len(nums):\n",
    "            ans = i\n",
    "    return ans\n",
    "\n",
    "print(hcf(42, 63, 140))"
   ]
  },
  {
   "cell_type": "code",
   "execution_count": 5,
   "id": "22d382c6-ce3a-4b12-8a31-455c8b8a0c6b",
   "metadata": {},
   "outputs": [
    {
     "data": {
      "text/plain": [
       "36"
      ]
     },
     "execution_count": 5,
     "metadata": {},
     "output_type": "execute_result"
    }
   ],
   "source": [
    "# Find the H.C.F. of: (b)108, 288 and 360\n",
    "def hcf(*nums):\n",
    "    small = min(nums)\n",
    "    ans = 1\n",
    "    for i in range(1, small+1):\n",
    "        count = 0\n",
    "        for n in nums:\n",
    "            if n % i == 0:\n",
    "                count += 1\n",
    "        if count == len(nums):\n",
    "            ans = i\n",
    "    return ans\n",
    "\n",
    "hcf(108, 288, 360)"
   ]
  },
  {
   "cell_type": "code",
   "execution_count": 7,
   "id": "09653a90-f6e4-4fc7-bbcd-5090b40d0517",
   "metadata": {},
   "outputs": [
    {
     "data": {
      "text/plain": [
       "432"
      ]
     },
     "execution_count": 7,
     "metadata": {},
     "output_type": "execute_result"
    }
   ],
   "source": [
    "# Find the L.C.M. of 16, 24, 36 and 54.\n",
    "def lcm(*nums):\n",
    "    n = list(nums)\n",
    "    ans = 1\n",
    "    p = 2\n",
    "    while max(n) > 1:         # keep dividing until all become 1\n",
    "        divided = 0\n",
    "        for i in range(len(n)):\n",
    "            if n[i] % p == 0:\n",
    "                n[i] //= p\n",
    "                divided = 1\n",
    "        if divided == 1:\n",
    "            ans *= p\n",
    "        else:\n",
    "            p += 1\n",
    "    return ans\n",
    "\n",
    "lcm(16, 24, 36, 54)"
   ]
  },
  {
   "cell_type": "markdown",
   "id": "99099d2c-a878-46b3-a3dd-8659f1ccda30",
   "metadata": {},
   "source": [
    "# Date:29-08-2025"
   ]
  },
  {
   "cell_type": "code",
   "execution_count": 4,
   "id": "1b6890eb-537d-4dcb-ad5a-dd88b1240005",
   "metadata": {},
   "outputs": [
    {
     "name": "stdout",
     "output_type": "stream",
     "text": [
      "The smaller sphere lies completely inside the bigger sphere\n"
     ]
    }
   ],
   "source": [
    "# Write a python function for  two spheres (x1,y1,z1,r1) and (x2,y2,z2,r2), check whether the smaller lies completely inside the larger. \n",
    "def inside(x1,y1,z1,r1,x2,y2,z2,r2):\n",
    "    d = ((x2 - x1)**2 + (y2 - y1)**2 + (z2 - z1)**2)**0.5\n",
    "    if r1 > r2:\n",
    "        r = r1 - r2\n",
    "    else: r = r2 - r1\n",
    "    if d < r or d == r:\n",
    "        print(\"The smaller sphere lies completely inside the bigger sphere\")\n",
    "    else:\n",
    "        print(\"The smaller sphere does not lie inside the bigger sphere\")\n",
    "        \n",
    "inside(0,0,0,1,1,0,0,2)        "
   ]
  },
  {
   "cell_type": "code",
   "execution_count": 5,
   "id": "b0658fad-a34b-47a0-ba3c-d4227ac98257",
   "metadata": {},
   "outputs": [
    {
     "name": "stdout",
     "output_type": "stream",
     "text": [
      "Given 3d vectors are perpendicular\n"
     ]
    }
   ],
   "source": [
    "# Write a python function for Perpendicular Vectors in 3D Given vectors (a1,b1,c1) and (a2,b2,c2), check if Perpendicular (dot=0) or Not Perpendicular. \n",
    "def dot_p(a1,b1,c1,a2,b2,c2):\n",
    "    dot = (a1*a2)+(b1*b2)+(c1*c1)\n",
    "    if dot == 0:\n",
    "        print(\"Given 3d vectors are perpendicular\")\n",
    "    else:\n",
    "        print(\"Given 3d vectors are not perpendicular to each other\")\n",
    "\n",
    "dot_p(1,0,0,0,2,0)        "
   ]
  },
  {
   "cell_type": "code",
   "execution_count": 6,
   "id": "54310643-eb10-45ca-90fc-40b18e6263ee",
   "metadata": {},
   "outputs": [
    {
     "name": "stdout",
     "output_type": "stream",
     "text": [
      "LCM of 12 and 18 is: 36\n"
     ]
    }
   ],
   "source": [
    "# Write a python function to Find LCM using Recursion                                         \n",
    "def lcm(a, b, mul):\n",
    "    if mul % a == 0 and mul % b == 0:\n",
    "        print(\"LCM of\", a, \"and\", b, \"is:\", mul)\n",
    "    else:\n",
    "        lcm(a, b, mul + b)\n",
    "\n",
    "lcm(12, 18, 18)        "
   ]
  },
  {
   "cell_type": "code",
   "execution_count": 7,
   "id": "aeed0e32-5acd-4576-a932-b83df4bf4ffd",
   "metadata": {},
   "outputs": [
    {
     "name": "stdout",
     "output_type": "stream",
     "text": [
      "GCD is: 6\n"
     ]
    }
   ],
   "source": [
    "# Write a python function to  Find GCD (Greatest Common Divisor) using recursion.  \n",
    "def gcd(a, b):\n",
    "    if b == 0:\n",
    "        print(\"GCD is:\", a)\n",
    "    else:\n",
    "        gcd(b, a % b)\n",
    "\n",
    "gcd(48, 18)\n"
   ]
  },
  {
   "cell_type": "code",
   "execution_count": 8,
   "id": "063f7ed5-5a50-4fba-a059-f06dbe516160",
   "metadata": {},
   "outputs": [
    {
     "name": "stdout",
     "output_type": "stream",
     "text": [
      "29 is Prime\n"
     ]
    }
   ],
   "source": [
    "# Write a python function to Check if Number is Prime using recursion                                                                                           \n",
    "def is_prime(n, i=2):\n",
    "    if n <= 1:\n",
    "        print(n, \"is not Prime\")\n",
    "    elif i * i > n:\n",
    "        print(n, \"is Prime\")\n",
    "    elif n % i == 0:\n",
    "        print(n, \"is not Prime\")\n",
    "    else:\n",
    "        is_prime(n, i + 1)\n",
    "\n",
    "is_prime(29)"
   ]
  },
  {
   "cell_type": "code",
   "execution_count": 9,
   "id": "633b8ce9-dd1d-48d7-b06c-b98e71a3e258",
   "metadata": {},
   "outputs": [
    {
     "name": "stdout",
     "output_type": "stream",
     "text": [
      "Product of digits is: 30\n"
     ]
    }
   ],
   "source": [
    "# Write a python function to find Product of Digits using recursion                                                                                              \n",
    "def product_of_digits(n, prod=1):\n",
    "    if n == 0:\n",
    "        print(\"Product of digits is:\", prod)\n",
    "    else:\n",
    "        product_of_digits(n // 10, prod * (n % 10))\n",
    "\n",
    "product_of_digits(523)"
   ]
  },
  {
   "cell_type": "code",
   "execution_count": 10,
   "id": "db2dc3ae-1cc5-4f82-a82c-0ee4b6291ce1",
   "metadata": {},
   "outputs": [
    {
     "name": "stdout",
     "output_type": "stream",
     "text": [
      "654321"
     ]
    }
   ],
   "source": [
    "# Write a python function to Print Number in Reverse using recursion\n",
    "def reverse_number(n):\n",
    "    if n > 0:\n",
    "        print(n % 10, end=\"\")\n",
    "        reverse_number(n // 10)\n",
    "\n",
    "reverse_number(123456)"
   ]
  },
  {
   "cell_type": "code",
   "execution_count": 18,
   "id": "48f4d3e9-3339-4c5c-9399-e46e5ba634b8",
   "metadata": {},
   "outputs": [
    {
     "name": "stdout",
     "output_type": "stream",
     "text": [
      "0\n"
     ]
    }
   ],
   "source": [
    "# Filter numbers with even digit sums, map to square, reduce to sum, map to their square, reduce to sum them.\n",
    "from functools import reduce\n",
    "\n",
    "nums = [12, 23, 45, 67, 89, 90]\n",
    "\n",
    "squares = map(lambda n: (n*n if sum([int(d) for d in str(n)]) % 2 == 0 else 0),nums)\n",
    "print(reduce(lambda a, b: a+b, squares, 0))"
   ]
  },
  {
   "cell_type": "code",
   "execution_count": 22,
   "id": "8014d206-0bf2-43bc-a818-a5d5ebd5a592",
   "metadata": {},
   "outputs": [
    {
     "name": "stdout",
     "output_type": "stream",
     "text": [
      "192\n"
     ]
    }
   ],
   "source": [
    "# Write a python program to form a list of numbers, remove all that are prime, then return the product of remaining.\n",
    "\n",
    "nums = [2, 3, 4, 5, 6, 7, 8]\n",
    "def is_not_prime(n, i=2):\n",
    "    if n <= 1:\n",
    "        return True\n",
    "    if i*i > n:\n",
    "        return False\n",
    "    if n % i == 0:\n",
    "        return True\n",
    "    return is_not_prime(n, i+1)\n",
    "\n",
    "print(reduce(lambda x,y: x*y,filter(lambda n: is_not_prime(n), nums)))\n"
   ]
  },
  {
   "cell_type": "code",
   "execution_count": 21,
   "id": "1b6b6cfb-f3a1-4936-977f-6d4dbb4adc47",
   "metadata": {},
   "outputs": [
    {
     "name": "stdout",
     "output_type": "stream",
     "text": [
      "41\n"
     ]
    }
   ],
   "source": [
    "# write a python program to square numbers, keep only > 10, sum them\n",
    "nums = [2, 3, 4, 5]\n",
    "print(sum(filter(lambda n: n > 10, map(lambda x: x*x, nums))))"
   ]
  },
  {
   "cell_type": "markdown",
   "id": "4f4a9830-7487-4bf5-9aaf-5e56000aaebc",
   "metadata": {},
   "source": [
    "# Date:30-08-2025"
   ]
  },
  {
   "cell_type": "code",
   "execution_count": 24,
   "id": "3c989588-4496-41e3-8433-b756a67739c7",
   "metadata": {},
   "outputs": [
    {
     "name": "stdout",
     "output_type": "stream",
     "text": [
      "[-1, -2, -3, -4]\n"
     ]
    }
   ],
   "source": [
    "# write a python program to convert a list of integers to their negatives\n",
    "nums = [1, -2, 3, -4]\n",
    "negative = list(map(lambda x: -abs(x), nums))\n",
    "print(negative)"
   ]
  },
  {
   "cell_type": "code",
   "execution_count": 25,
   "id": "5f37d1cb-a73d-4f3d-a9c1-0332f6730005",
   "metadata": {},
   "outputs": [
    {
     "name": "stdout",
     "output_type": "stream",
     "text": [
      "[12, 23, 34, 45, 56]\n"
     ]
    }
   ],
   "source": [
    "# Write a python program to keep only numbers where the sum of digits is odd\n",
    "nums = [12, 23, 34, 45, 56]\n",
    "sum_digit_odd = list(filter(lambda n: sum(int(d) for d in str(n)) % 2 == 1, nums))\n",
    "print(sum_digit_odd)"
   ]
  },
  {
   "cell_type": "code",
   "execution_count": 26,
   "id": "a8341434-ca57-4ba7-a1cd-9ca54e50ccfa",
   "metadata": {},
   "outputs": [
    {
     "name": "stdout",
     "output_type": "stream",
     "text": [
      "[10, 7, 22, 14, 5]\n"
     ]
    }
   ],
   "source": [
    "# Write a python program to sort list by remainder when divided by 3.\n",
    "nums = [10, 14, 7, 22, 5]\n",
    "sort_list = sorted(nums, key=lambda x: x % 3)\n",
    "print(sort_list)"
   ]
  },
  {
   "cell_type": "code",
   "execution_count": 27,
   "id": "7488d036-5af3-4c57-a15d-271ade46f615",
   "metadata": {},
   "outputs": [
    {
     "name": "stdout",
     "output_type": "stream",
     "text": [
      "[10, 40, 90]\n"
     ]
    }
   ],
   "source": [
    "# Write a python program to use enumerate() and map() to multiply value with its (1-based) position\n",
    "nums = [10, 20, 30]\n",
    "mul = list(map(lambda t: t[0]*t[1], enumerate(nums, start=1)))\n",
    "print(mul)"
   ]
  },
  {
   "cell_type": "code",
   "execution_count": 28,
   "id": "3826e3ef-c6de-428c-83a8-80a12d5ecde3",
   "metadata": {},
   "outputs": [
    {
     "name": "stdout",
     "output_type": "stream",
     "text": [
      "[10, 10, 50]\n"
     ]
    }
   ],
   "source": [
    "# Write a python program to map each number to its absolute difference from 100.\n",
    "nums = [90, 110, 150]\n",
    "abs_diff = list(map(lambda x: abs(x-100), nums))\n",
    "print(abs_diff)"
   ]
  },
  {
   "cell_type": "code",
   "execution_count": 29,
   "id": "46d6029f-86e9-4b92-8ebd-47f57ba9f264",
   "metadata": {},
   "outputs": [
    {
     "name": "stdout",
     "output_type": "stream",
     "text": [
      "[234, 56, 77]\n"
     ]
    }
   ],
   "source": [
    "# write a python program to filter numbers with all non-zero digits\n",
    "nums = [102, 234, 405, 56, 77]\n",
    "filter_num = list(filter(lambda n: all(d != '0' for d in str(n)), nums))\n",
    "print(filter_num)"
   ]
  },
  {
   "cell_type": "code",
   "execution_count": 30,
   "id": "b0073b47-cafc-470a-83f2-78788798dcf5",
   "metadata": {},
   "outputs": [
    {
     "name": "stdout",
     "output_type": "stream",
     "text": [
      "[4, 9, 16]\n"
     ]
    }
   ],
   "source": [
    "# Write a python program to filter numbers that are square of any other number in the list\n",
    "nums = [2, 3, 4, 9, 16, 5]\n",
    "squares = set(x*x for x in nums)\n",
    "fil_sqr = list(filter(lambda n: n in squares, nums))\n",
    "print(fil_sqr)"
   ]
  },
  {
   "cell_type": "code",
   "execution_count": 31,
   "id": "45a5cc7c-167f-40f7-9e58-bac74d3ccf09",
   "metadata": {},
   "outputs": [
    {
     "name": "stdout",
     "output_type": "stream",
     "text": [
      "2700\n"
     ]
    }
   ],
   "source": [
    "# From a list of numbers, calculate the sum of cubes of numbers divisible by 3.\n",
    "from functools import reduce\n",
    "\n",
    "nums = [2, 3, 5, 6, 9, 10, 12]\n",
    "\n",
    "cubes = map(lambda n: n*n*n, filter(lambda n: n%3==0, nums))\n",
    "print(reduce(lambda a,b: a+b, cubes, 0))"
   ]
  },
  {
   "cell_type": "code",
   "execution_count": 32,
   "id": "7724e4af-12b7-40ce-829d-950cc592ced8",
   "metadata": {},
   "outputs": [
    {
     "name": "stdout",
     "output_type": "stream",
     "text": [
      "160\n"
     ]
    }
   ],
   "source": [
    "# From a list of numbers, calculate the product of all even numbers.\n",
    "from functools import reduce\n",
    "\n",
    "nums = [2, 5, 8, 7, 10]\n",
    "\n",
    "evens = filter(lambda n: n%2==0, nums)\n",
    "print(reduce(lambda a,b: a*b, evens, 1))"
   ]
  },
  {
   "cell_type": "code",
   "execution_count": 33,
   "id": "4e471ed9-b6e9-489e-a8af-bf688422ae83",
   "metadata": {},
   "outputs": [
    {
     "name": "stdout",
     "output_type": "stream",
     "text": [
      "170\n"
     ]
    }
   ],
   "source": [
    "# From a list of numbers, calculate the sum of double of numbers ending with digit 5.\n",
    "from functools import reduce\n",
    "\n",
    "nums = [12, 15, 25, 30, 45]\n",
    "\n",
    "doubles = map(lambda n: n*2, filter(lambda n: n%10==5, nums))\n",
    "print(reduce(lambda a,b: a+b, doubles, 0))"
   ]
  },
  {
   "cell_type": "markdown",
   "id": "0c56a248-31de-48f3-8cb2-7699f2b45c72",
   "metadata": {},
   "source": [
    "# Date: 31-08-2025"
   ]
  },
  {
   "cell_type": "code",
   "execution_count": 10,
   "id": "f929ff52-d780-4017-ae9d-051306064df0",
   "metadata": {},
   "outputs": [
    {
     "name": "stdout",
     "output_type": "stream",
     "text": [
      "A's time over the course is 243.0 secs\n"
     ]
    }
   ],
   "source": [
    "# In a km race, A beats B by 28 metres or 7 seconds. Then, find A’s time over the course.\n",
    "a = (7 / 28) * 1000\n",
    "b = a - 7\n",
    "print(\"A's time over the course is\",b,\"secs\") "
   ]
  },
  {
   "cell_type": "code",
   "execution_count": 12,
   "id": "01e36e09-74b2-4d43-b2d2-3d2c4030f3f3",
   "metadata": {},
   "outputs": [
    {
     "name": "stdout",
     "output_type": "stream",
     "text": [
      "A beat B by 50.0 m\n"
     ]
    }
   ],
   "source": [
    "# A can run 1 km in 3 min 10 sec and B can cover the same distance in 3 min 20 sec. By what distance can A beat B?\t \n",
    "A_B = (200-190)\n",
    "Dis = (1000/200)*10\n",
    "print(\"A beat B by\",Dis,\"m\")"
   ]
  },
  {
   "cell_type": "code",
   "execution_count": 14,
   "id": "75099936-03f4-4da8-9e5a-7fb3125aa61c",
   "metadata": {},
   "outputs": [
    {
     "name": "stdout",
     "output_type": "stream",
     "text": [
      "B's speed is 5.7 km/hr\n"
     ]
    }
   ],
   "source": [
    "# In a 100 m race, A runs at 8 km per hour. If A gives B a start of 5 m and still beats him by 15 seconds, what is B’s speed?\n",
    "A = ((60*60)/8000)*100\n",
    "T = A + 15\n",
    "B = (95 / T) * (18 / 5)\n",
    "print(\"B's speed is\",B,\"km/hr\")"
   ]
  },
  {
   "cell_type": "code",
   "execution_count": 15,
   "id": "1dd03099-908f-4570-9b25-4ea979fdb63b",
   "metadata": {},
   "outputs": [
    {
     "name": "stdout",
     "output_type": "stream",
     "text": [
      "Time taken by B to run 96 m is 72.24096385542168 secs\n",
      "B’s speed is 1.3288859239492996 m/s\n"
     ]
    }
   ],
   "source": [
    "# In a 100 m race for children, A runs at 1.66 m/s. If A gives B a start of 4m and still beats him by 12 seconds, what is B’s speed?\n",
    "T = 5000/83\n",
    "B = (5000+996)/83\n",
    "print(\"Time taken by B to run 96 m is\",B,\"secs\")\n",
    "B_S = ((96 * 83) / 5996)\n",
    "print(\"B’s speed is\",B_S,\"m/s\") "
   ]
  },
  {
   "cell_type": "code",
   "execution_count": 16,
   "id": "7fafde88-fbf9-46d9-99f9-f789b7339d9b",
   "metadata": {},
   "outputs": [
    {
     "name": "stdout",
     "output_type": "stream",
     "text": [
      "36\n"
     ]
    }
   ],
   "source": [
    "# In how many different ways can the letters of the word ‘DETAIL’ be arranged so that the vowels occupy only the odd positions?\n",
    "word = \"DETAIL\"\n",
    "vowels = 0\n",
    "consonants = 0\n",
    "for ch in word:\n",
    "    if ch in \"AEIOUaeiou\":\n",
    "        vowels = vowels + 1\n",
    "    else:\n",
    "        consonants = consonants + 1\n",
    "fv = 1\n",
    "i = 1\n",
    "while i <= vowels:\n",
    "    fv = fv * i\n",
    "    i = i + 1\n",
    "fc = 1\n",
    "j = 1\n",
    "while j <= consonants:\n",
    "    fc = fc * j\n",
    "    j = j + 1\n",
    "ways = fv * fc\n",
    "print(ways)"
   ]
  },
  {
   "cell_type": "code",
   "execution_count": 17,
   "id": "34b6d5d9-d2b8-495c-9e18-69611ea7e3eb",
   "metadata": {},
   "outputs": [
    {
     "name": "stdout",
     "output_type": "stream",
     "text": [
      "364\n"
     ]
    }
   ],
   "source": [
    "# In how many ways can a cricket eleven be chosen out of 14 players?\n",
    "n = 14\n",
    "r = 11\n",
    "def fact(x):\n",
    "    f = 1\n",
    "    for i in range(1, x+1):\n",
    "        f = f * i\n",
    "    return f\n",
    "nCr = fact(n) // (fact(r) * fact(n-r))\n",
    "print(nCr)"
   ]
  },
  {
   "cell_type": "code",
   "execution_count": 18,
   "id": "fd8d4011-c2e3-4acc-816d-5a3c42798dbf",
   "metadata": {},
   "outputs": [
    {
     "name": "stdout",
     "output_type": "stream",
     "text": [
      "350\n"
     ]
    }
   ],
   "source": [
    "# In how many ways, a committee of 6 members be selected from 7 men and 5 ladies, consisting of 4 men and 2 ladies?\n",
    "def fact(n):\n",
    "    f = 1\n",
    "    for i in range(1, n+1):\n",
    "        f *= i\n",
    "    return f\n",
    "def nCr(n, r):\n",
    "    return fact(n) // (fact(r) * fact(n-r))\n",
    "men = nCr(7, 4)     \n",
    "ladies = nCr(5, 2)   \n",
    "ways = men * ladies\n",
    "print(ways)"
   ]
  },
  {
   "cell_type": "code",
   "execution_count": 19,
   "id": "30f9bec3-8a60-4bd8-a6c8-a488a2f1f53d",
   "metadata": {},
   "outputs": [
    {
     "name": "stdout",
     "output_type": "stream",
     "text": [
      "63\n"
     ]
    }
   ],
   "source": [
    "# In how many ways can a group of 5 men and 2 women be made out of a total of 7 men and 3 women?\n",
    "def fact(n):\n",
    "    f = 1\n",
    "    for i in range(1, n+1):\n",
    "        f *= i\n",
    "    return f\n",
    "def nCr(n, r):\n",
    "    return fact(n) // (fact(r) * fact(n-r))\n",
    "men = nCr(7, 5)     \n",
    "women = nCr(3, 2)   \n",
    "ways = men * women\n",
    "print(ways)"
   ]
  },
  {
   "cell_type": "code",
   "execution_count": 20,
   "id": "f12a4f98-e2f8-4cee-ba10-a63a72973da4",
   "metadata": {},
   "outputs": [
    {
     "name": "stdout",
     "output_type": "stream",
     "text": [
      "70\n"
     ]
    }
   ],
   "source": [
    "# In how many ways can a committee of 4 people be chosen out of 8 people?\n",
    "def fact(n):\n",
    "    f = 1\n",
    "    for i in range(1, n+1):\n",
    "        f *= i\n",
    "    return f\n",
    "def nCr(n, r):\n",
    "    return fact(n) // (fact(r) * fact(n-r))\n",
    "ways = nCr(8, 4)\n",
    "print(ways)"
   ]
  },
  {
   "cell_type": "code",
   "execution_count": 21,
   "id": "eb45561c-f44f-43c8-bd51-6ff113a4cbb4",
   "metadata": {},
   "outputs": [
    {
     "name": "stdout",
     "output_type": "stream",
     "text": [
      "120\n"
     ]
    }
   ],
   "source": [
    "# In how many different ways can the letters of the word CREAM be arranged?\n",
    "f = 1\n",
    "for i in range(1, 6):\n",
    "    f = f * i\n",
    "print(f)"
   ]
  },
  {
   "cell_type": "markdown",
   "id": "85adea83-5ea6-435c-a16e-c780c03363ed",
   "metadata": {},
   "source": [
    "# Date: 01-09-2025"
   ]
  },
  {
   "cell_type": "code",
   "execution_count": 1,
   "id": "9af1a49f-c6c5-4462-9d1a-11e18289fca6",
   "metadata": {},
   "outputs": [
    {
     "name": "stdout",
     "output_type": "stream",
     "text": [
      "20\n"
     ]
    }
   ],
   "source": [
    "# The ratio of the ages of Tina and Rakesh is 9 : 10 respectively. Ten years ago, the ratio of their ages was \n",
    "# 4 : 5 respectively. What is the present age of Rakesh?\n",
    "for x in range(1, 200): \n",
    "    tina = 9 * x\n",
    "    rakesh = 10 * x\n",
    "    if (tina - 10) * 5 == (rakesh - 10) * 4:\n",
    "        print(rakesh)"
   ]
  },
  {
   "cell_type": "code",
   "execution_count": 6,
   "id": "29580988-b24c-4c95-8e77-824df088189f",
   "metadata": {},
   "outputs": [
    {
     "name": "stdout",
     "output_type": "stream",
     "text": [
      "Ratio: 2 : 3 : 8\n"
     ]
    }
   ],
   "source": [
    "# Samir’s age is one-fourth of his father’s age and two-third of his sister Reema’s age. What is the ratio of\n",
    "# the ages of Samir, Reema and their father respectively?\n",
    "for x in range(1, 3):\n",
    "    samir = x\n",
    "    reema = (3 * samir) // 2\n",
    "    father = 4 * samir\n",
    "    if samir * 4 == father and samir * 3 == 2 * reema:\n",
    "        print(\"Ratio:\", samir, \":\", reema, \":\", father)"
   ]
  },
  {
   "cell_type": "code",
   "execution_count": 7,
   "id": "b0754632-296a-4080-bbcd-491ad53a2350",
   "metadata": {},
   "outputs": [
    {
     "name": "stdout",
     "output_type": "stream",
     "text": [
      "Ratio: 70 : 30\n"
     ]
    }
   ],
   "source": [
    "# The age of father 10 years ago was thrice the age of his son. 10 years hence father’s age will be twice that\n",
    "# of his son. Find the ratio of their present ages. \n",
    "for x in range(1, 100):\n",
    "    son_ago = x\n",
    "    father_ago = 3 * x\n",
    "    son_now = son_ago + 10\n",
    "    father_now = father_ago + 10\n",
    "    if father_now + 10 == 2 * (son_now + 10):\n",
    "        print(\"Ratio:\", father_now, \":\", son_now)"
   ]
  },
  {
   "cell_type": "code",
   "execution_count": 14,
   "id": "6a4720e2-6a7e-46d8-8b5c-75268549a189",
   "metadata": {},
   "outputs": [
    {
     "name": "stdout",
     "output_type": "stream",
     "text": [
      "Mother age: 40\n"
     ]
    }
   ],
   "source": [
    "# A man’s present age is two-fifths of the age of his mother. After 8 years, he will be one-half of the age of\n",
    "# his mother. How old is the mother at present?\n",
    "for m in range(1, 50):\n",
    "    if 4*m + 80 == 5*(m + 8):\n",
    "        print(\"Mother age:\", m)"
   ]
  },
  {
   "cell_type": "code",
   "execution_count": 15,
   "id": "b57595b0-3e59-49ca-88b1-7979b628cb7f",
   "metadata": {},
   "outputs": [
    {
     "name": "stdout",
     "output_type": "stream",
     "text": [
      "Elder: 30 Younger: 14\n"
     ]
    }
   ],
   "source": [
    "# The ages of two persons differ by 16 years. If 6 years ago, the elder one be three times as old as the younger\n",
    "# one, find their present ages.\n",
    "for elder in range(20, 100):\n",
    "    younger = elder - 16\n",
    "    if elder - 6 == 3 * (younger - 6):\n",
    "        print(\"Elder:\", elder, \"Younger:\", younger)"
   ]
  },
  {
   "cell_type": "code",
   "execution_count": 16,
   "id": "e8cd2e0c-1d73-4e8a-b212-fb8ab47780bd",
   "metadata": {},
   "outputs": [
    {
     "name": "stdout",
     "output_type": "stream",
     "text": [
      "Nikita age: 12\n"
     ]
    }
   ],
   "source": [
    "#The product of the ages of Ankit and Nikita is 240. If twice the age of Nikita is more than Ankit’s age by\n",
    "# 4 years, then find Nikita’s age.\n",
    "for ankit in range(1, 100):\n",
    "    if 240 % ankit == 0:\n",
    "        nikita = 240 // ankit\n",
    "        if 2 * nikita - ankit == 4:\n",
    "            print(\"Nikita age:\", nikita)"
   ]
  },
  {
   "cell_type": "code",
   "execution_count": 17,
   "id": "22e1009f-011c-4827-a4f2-cb06e501ab4c",
   "metadata": {},
   "outputs": [
    {
     "name": "stdout",
     "output_type": "stream",
     "text": [
      "Father age: 50\n"
     ]
    }
   ],
   "source": [
    "# Reenu’s age after 6 years will be three–sevenths of her father’s age. 10 years ago, the ratio of their ages was\n",
    "# 1 : 5. What is Reenu’s father’s age at present?\n",
    "for reenu_ago in range(1, 50):\n",
    "    father_ago = 5 * reenu_ago\n",
    "    reenu_now = reenu_ago + 10\n",
    "    father_now = father_ago + 10\n",
    "    if reenu_now + 6 == (3 * (father_now + 6)) // 7:\n",
    "        print(\"Father age:\", father_now)"
   ]
  },
  {
   "cell_type": "code",
   "execution_count": 18,
   "id": "9b181337-6534-47c7-a5ca-01a66a948796",
   "metadata": {},
   "outputs": [
    {
     "name": "stdout",
     "output_type": "stream",
     "text": [
      "Mother's age after 4 years: 46\n"
     ]
    }
   ],
   "source": [
    "# The ratio of the present ages of a mother and her daughter is 7 : 1. Four years ago, the ratio of their\n",
    "# ages was 19 : 1. What will be the mother’s age four years from now?\n",
    "for x in range(1, 100):\n",
    "    mother = 7 * x\n",
    "    daughter = x\n",
    "    if (mother - 4) * 1 == 19 * (daughter - 4):\n",
    "        print(\"Mother's age after 4 years:\", mother + 4)"
   ]
  },
  {
   "cell_type": "code",
   "execution_count": 19,
   "id": "dd498eb8-c38f-4ec5-8c31-46b7687d1fa6",
   "metadata": {},
   "outputs": [
    {
     "name": "stdout",
     "output_type": "stream",
     "text": [
      "Difference in ages: 3\n"
     ]
    }
   ],
   "source": [
    "# The ages of Nishi and Vinnee are in the ratio 6 : 5 respectively. After 9 years, the ratio of their ages\n",
    "# will be 9 : 8. What is the difference in their ages now ?\n",
    "for x in range(1, 100):\n",
    "    nishi = 6 * x\n",
    "    vinnee = 5 * x\n",
    "    if (nishi + 9) * 8 == (vinnee + 9) * 9:\n",
    "        print(\"Difference in ages:\", nishi - vinnee)"
   ]
  },
  {
   "cell_type": "code",
   "execution_count": 20,
   "id": "67bbc8f4-4023-4fcf-be3c-832059d622f0",
   "metadata": {},
   "outputs": [
    {
     "name": "stdout",
     "output_type": "stream",
     "text": [
      "Father's age 5 years ago: 35\n"
     ]
    }
   ],
   "source": [
    "# The present ages of Amit and his father are in the ratio 2 : 5 respectively. Four years hence, the ratio\n",
    "# of their ages becomes 5 : 11 respectively. What was the father’s age five years ago? \n",
    "for x in range(1, 100):\n",
    "    amit = 2 * x\n",
    "    father = 5 * x\n",
    "    if (amit + 4) * 11 == (father + 4) * 5:\n",
    "        print(\"Father's age 5 years ago:\", father - 5)"
   ]
  },
  {
   "cell_type": "markdown",
   "id": "b8695bc1-0c6d-40b7-b0f4-5a661ec03f96",
   "metadata": {},
   "source": [
    "# Date:02-09-2025"
   ]
  },
  {
   "cell_type": "code",
   "execution_count": 40,
   "id": "e6b47e84-11a0-401f-9f6b-4394d3d8e72c",
   "metadata": {},
   "outputs": [
    {
     "name": "stdout",
     "output_type": "stream",
     "text": [
      "720\n"
     ]
    }
   ],
   "source": [
    "# Find the factorial of a number using a loop\n",
    "n = 6\n",
    "f = 1\n",
    "for i in range(1, n+1):\n",
    "    f *= i\n",
    "print(f)"
   ]
  },
  {
   "cell_type": "code",
   "execution_count": 39,
   "id": "0b7da94d-ec10-4e68-8048-cdfa2317bcde",
   "metadata": {},
   "outputs": [
    {
     "name": "stdout",
     "output_type": "stream",
     "text": [
      "28\n"
     ]
    }
   ],
   "source": [
    "# Find the sum of digits of a number\n",
    "n = 9874\n",
    "s = 0\n",
    "for d in str(n):\n",
    "    s += int(d)\n",
    "print(s)"
   ]
  },
  {
   "cell_type": "code",
   "execution_count": 38,
   "id": "71873370-8701-4dd0-941b-50d8fd9122c0",
   "metadata": {},
   "outputs": [
    {
     "name": "stdout",
     "output_type": "stream",
     "text": [
      "54321\n"
     ]
    }
   ],
   "source": [
    "# Reverse a given number\n",
    "n = 12345\n",
    "rev = 0\n",
    "while n > 0:\n",
    "    rev = rev*10 + n%10\n",
    "    n //= 10\n",
    "print(rev)"
   ]
  },
  {
   "cell_type": "code",
   "execution_count": 37,
   "id": "39324dcc-648c-43d6-82b0-7f74e20b180a",
   "metadata": {},
   "outputs": [
    {
     "name": "stdout",
     "output_type": "stream",
     "text": [
      "6\n"
     ]
    }
   ],
   "source": [
    "# Find the greatest common divisor (GCD) of two numbers\n",
    "a, b = 48, 18\n",
    "while b != 0:\n",
    "    a, b = b, a % b\n",
    "print(a)"
   ]
  },
  {
   "cell_type": "code",
   "execution_count": 36,
   "id": "3282d176-a627-4b21-85b0-7a1e571b7c12",
   "metadata": {},
   "outputs": [
    {
     "name": "stdout",
     "output_type": "stream",
     "text": [
      "36\n"
     ]
    }
   ],
   "source": [
    "# Find the least common multiple (LCM) of two numbers\n",
    "a, b = 12, 18\n",
    "m = a*b\n",
    "while a != b:\n",
    "    if a > b:\n",
    "        a -= b\n",
    "    else:\n",
    "        b -= a\n",
    "lcm = m // a\n",
    "print(lcm)"
   ]
  },
  {
   "cell_type": "code",
   "execution_count": 35,
   "id": "324e37ee-d163-4fdf-b007-cd3f678b39ee",
   "metadata": {},
   "outputs": [
    {
     "name": "stdout",
     "output_type": "stream",
     "text": [
      "True\n"
     ]
    }
   ],
   "source": [
    "# Check if a number is a palindrome\n",
    "n = 1221\n",
    "s = str(n)\n",
    "print(s == s[::-1])"
   ]
  },
  {
   "cell_type": "code",
   "execution_count": 34,
   "id": "7a51eea2-6b8f-4ed8-81d7-4636e28bb173",
   "metadata": {},
   "outputs": [
    {
     "name": "stdout",
     "output_type": "stream",
     "text": [
      "0 1 1 2 3 5 8 13 \n"
     ]
    }
   ],
   "source": [
    "# Print the Fibonacci sequence up to n terms\n",
    "n = 8\n",
    "a, b = 0, 1\n",
    "for i in range(n):\n",
    "    print(a, end=\" \")\n",
    "    a, b = b, a+b\n",
    "print()"
   ]
  },
  {
   "cell_type": "code",
   "execution_count": 33,
   "id": "10e51c2a-a9db-46a1-bd7b-7dfe4397bbd6",
   "metadata": {},
   "outputs": [
    {
     "name": "stdout",
     "output_type": "stream",
     "text": [
      "385\n"
     ]
    }
   ],
   "source": [
    "# Find the sum of squares of first n natural numbers\n",
    "n = 10\n",
    "s = 0\n",
    "for i in range(1, n+1):\n",
    "    s += i*i\n",
    "print(s)"
   ]
  },
  {
   "cell_type": "code",
   "execution_count": 32,
   "id": "d820f0bb-a299-4689-b3ed-dc35bda409be",
   "metadata": {},
   "outputs": [
    {
     "name": "stdout",
     "output_type": "stream",
     "text": [
      "7\n"
     ]
    }
   ],
   "source": [
    "# Count how many digits are in a number\n",
    "n = 1234567\n",
    "count = 0\n",
    "while n > 0:\n",
    "    count += 1\n",
    "    n //= 10\n",
    "print(count)"
   ]
  },
  {
   "cell_type": "code",
   "execution_count": 31,
   "id": "e51fb928-c17b-483f-9c01-28b855580219",
   "metadata": {},
   "outputs": [
    {
     "name": "stdout",
     "output_type": "stream",
     "text": [
      "9\n"
     ]
    }
   ],
   "source": [
    "# Find the largest digit in a number\n",
    "n = 98234\n",
    "largest = 0\n",
    "for d in str(n):\n",
    "    if int(d) > largest:\n",
    "        largest = int(d)\n",
    "print(largest)"
   ]
  },
  {
   "cell_type": "markdown",
   "id": "283da358-e804-4e52-9106-3c4f65fb883e",
   "metadata": {},
   "source": [
    "# Date: 03-09-2025"
   ]
  },
  {
   "cell_type": "code",
   "execution_count": 1,
   "id": "1cd9bd95-aeee-4913-8ea6-18c1990700ab",
   "metadata": {},
   "outputs": [
    {
     "name": "stdout",
     "output_type": "stream",
     "text": [
      "['A.D.', 'G.J.']\n"
     ]
    }
   ],
   "source": [
    "# Write a python function to Convert a list of full names to initials using inbuilt function\n",
    "def names_to_initials(full_names):\n",
    "    result = []\n",
    "    for name in full_names:\n",
    "        parts = name.split()\n",
    "        first_letters = [part[0].upper() for part in parts]\n",
    "        initials = \".\".join(first_letters) + \".\"\n",
    "        result.append(initials)\n",
    "    return result\n",
    "\n",
    "names = [\"ABC DEF\",\"GHI JKL\"]\n",
    "print(names_to_initials(names))\n",
    "     \n"
   ]
  },
  {
   "cell_type": "code",
   "execution_count": 11,
   "id": "5fecd86a-4d46-47bd-a25e-f615d8a7d480",
   "metadata": {},
   "outputs": [
    {
     "name": "stdout",
     "output_type": "stream",
     "text": [
      "Yes they are perfect sqaures\n"
     ]
    }
   ],
   "source": [
    "# Write a recursive python function to Check if All Digits Are Perfect Squares (0, 1, 4, 9)\n",
    "def check_digits(a):\n",
    "    if a == 0:\n",
    "        print(\"Yes they are perfect sqaures\")\n",
    "    else:\n",
    "        d = a % 10\n",
    "        if d == 0 or d == 1 or d == 4 or d == 9:\n",
    "            check_digits(a // 10)\n",
    "        else:\n",
    "            print(\"No they are not perfect squares\")\n",
    "check_digits(1409)"
   ]
  },
  {
   "cell_type": "code",
   "execution_count": 13,
   "id": "43d9c513-bcdc-4373-93c0-253c8ad77686",
   "metadata": {},
   "outputs": [
    {
     "name": "stdout",
     "output_type": "stream",
     "text": [
      "Sum: 10\n"
     ]
    }
   ],
   "source": [
    "# Write a recursive python function to Print the Sum of All Unique Digits (Ignore Duplicates)\n",
    "a = \"\"\n",
    "b = 0 \n",
    "def sum_unique(n):\n",
    "    global a, b\n",
    "    if n > 0 and a == \"\":\n",
    "        a = \"\"\n",
    "        b = 0\n",
    "    if n == 0:\n",
    "        print(\"Sum:\", b)\n",
    "    else:\n",
    "        c = n % 10\n",
    "        if str(c) not in a:\n",
    "            a = a + str(c)\n",
    "            b = b + c\n",
    "        sum_unique(n // 10)\n",
    "\n",
    "sum_unique(1234)  "
   ]
  },
  {
   "cell_type": "code",
   "execution_count": 15,
   "id": "e217ec0c-8382-4e91-bcbd-0dd02d2c0461",
   "metadata": {},
   "outputs": [
    {
     "name": "stdin",
     "output_type": "stream",
     "text": [
      "Password:  pra007777\n"
     ]
    },
    {
     "name": "stdout",
     "output_type": "stream",
     "text": [
      "Password is Invalid\n"
     ]
    }
   ],
   "source": [
    "#Write a Python program that takes a password as input and checks if it meets the following requirements:\n",
    "#- The password should be at least 8 characters long.\n",
    "#- The password should contain at least one uppercase letter.\n",
    "#- The password should contain at least one lowercase letter.\n",
    "#- The password should contain at least one digit.\n",
    "# If the password meets all the requirements, the program should print \"Password is valid.\" Otherwise, it should print \"Password is invalid.\"\n",
    "\n",
    "def password():\n",
    "    a = input(\"Password: \")\n",
    "    b = 0\n",
    "    c = 0\n",
    "    d = 0\n",
    "    e = 0\n",
    "    f = \"ABCDEFGHIJKLMNOPQRSTUVWXYZ\"\n",
    "    g = \"abcdefghijklmnopqrstuvwxyz\"\n",
    "    h = \"0123456789\"\n",
    "    for i in a:\n",
    "        b = b + 1\n",
    "        for j in f:\n",
    "            if i == j:\n",
    "                c = c + 1\n",
    "        for j in g:\n",
    "            if i == j:\n",
    "                d = d + 1\n",
    "        for j in h:\n",
    "            if i == j:\n",
    "                e = e + 1\n",
    "    if b >= 8 and c >= 1 and d >= 1 and e >= 1:\n",
    "        print(\"Password is Valid\")\n",
    "    else:\n",
    "        print(\"Password is Invalid\")\n",
    "\n",
    "password()"
   ]
  },
  {
   "cell_type": "code",
   "execution_count": 17,
   "id": "3a75a08d-68c8-468f-bd89-8d4979ff435f",
   "metadata": {},
   "outputs": [
    {
     "name": "stdin",
     "output_type": "stream",
     "text": [
      "String 1:  ram\n",
      "String 2:  mar\n"
     ]
    },
    {
     "name": "stdout",
     "output_type": "stream",
     "text": [
      "They are Anagrams\n"
     ]
    }
   ],
   "source": [
    "# 5.Write a Python program that takes two strings as input and checks if they're anagrams (i.e., the strings contain the same characters, but in a different order). If the strings are anagrams, the program should print \"The strings are anagrams.\" Otherwise, it should print \"The strings are not anagrams.\"\n",
    "def anagram():\n",
    "    s1 = input(\"String 1: \")\n",
    "    s2 = input(\"String 2: \")\n",
    "    if len(s1) != len(s2):\n",
    "        print(\"Not anagrams\")\n",
    "        return\n",
    "    if sorted(s1) == sorted(s2):\n",
    "        print(\"They are Anagrams\")\n",
    "    else:\n",
    "        print(\"They are not anagrams\")\n",
    "anagram()"
   ]
  },
  {
   "cell_type": "code",
   "execution_count": 18,
   "id": "0edc9beb-db2b-46e3-8028-1129efe9f38b",
   "metadata": {},
   "outputs": [
    {
     "name": "stdout",
     "output_type": "stream",
     "text": [
      "[5, 7, 9, 11, 13]\n"
     ]
    }
   ],
   "source": [
    "# .Write a python function for Linear Transformation of a List.Apply a linear transformation y = 2x + 3 to each number in a list.\n",
    "def lin_tran(a):\n",
    "    b = [0] * len(a)\n",
    "    c = 0\n",
    "    for d in a:\n",
    "        e = 2 * d + 3\n",
    "        b[c] = e\n",
    "        c = c + 1\n",
    "    print(b)\n",
    "f = [1, 2, 3, 4, 5]\n",
    "lin_tran(f)"
   ]
  },
  {
   "cell_type": "code",
   "execution_count": 19,
   "id": "7c8a9792-6c81-4bd2-860e-2265c40dd763",
   "metadata": {},
   "outputs": [
    {
     "name": "stdout",
     "output_type": "stream",
     "text": [
      "[5, 6, 13, 26, 45]\n"
     ]
    }
   ],
   "source": [
    "# Write a python function to Evaluate a Polynomial at Given x Values, Evaluate f(x) = 3x² - 2x + 5 for each x in the list.\n",
    "def poly(a):\n",
    "    print([3*b**2 - 2*b + 5 for b in a])\n",
    "\n",
    "c = [0, 1, 2, 3, 4]\n",
    "poly(c)"
   ]
  },
  {
   "cell_type": "code",
   "execution_count": 20,
   "id": "8ed77242-0340-4dc5-9801-7bfdb54b590c",
   "metadata": {},
   "outputs": [
    {
     "name": "stdout",
     "output_type": "stream",
     "text": [
      "86.5\n"
     ]
    }
   ],
   "source": [
    "# Write a python function to Calculate Weighted Average, Weighted average = Σ(value × weight) / Σ(weights)\n",
    "def weighted_average(a, b):\n",
    "    c = a[0]*b[0] + a[1]*b[1] + a[2]*b[2] + a[3]*b[3]\n",
    "    d = b[0] + b[1] + b[2] + b[3]\n",
    "    print(c / d)\n",
    "    \n",
    "e = [85, 90, 78, 92]\n",
    "f = [0.2, 0.3, 0.25, 0.25]\n",
    "weighted_average(e, f)"
   ]
  },
  {
   "cell_type": "code",
   "execution_count": 21,
   "id": "f95b66ba-5d7e-4bbf-b27d-3876400654c3",
   "metadata": {},
   "outputs": [
    {
     "name": "stdout",
     "output_type": "stream",
     "text": [
      "[1, 3, 6, 10, 15]\n"
     ]
    }
   ],
   "source": [
    "# 10.Write a python function to find Running Sum (Cumulative Sum) for a list of numbers\n",
    "def running_sum(a):\n",
    "    b = []\n",
    "    c = 0\n",
    "    for d in a:\n",
    "        c = c + d\n",
    "        b.append(c)\n",
    "    print(b)\n",
    "e = [1, 2, 3, 4, 5]\n",
    "running_sum(e)"
   ]
  },
  {
   "cell_type": "code",
   "execution_count": 23,
   "id": "10b3295d-513d-4d7e-ba1c-fa974da82096",
   "metadata": {},
   "outputs": [
    {
     "name": "stdout",
     "output_type": "stream",
     "text": [
      "[4, 6, 14, 16, 24, 26]\n"
     ]
    }
   ],
   "source": [
    "# Write a python program to Filter numbers whose square ends with digit 6\n",
    "def filter_square_ends_6(a):\n",
    "    print(list(filter(lambda b: (b**2) % 10 == 6, a)))\n",
    "c = [1, 2, 3, 4, 5, 6, 7, 8, 9, 10, 14, 16, 24, 26]\n",
    "filter_square_ends_6(c)"
   ]
  },
  {
   "cell_type": "code",
   "execution_count": 24,
   "id": "4d87ce35-5650-4177-b9e7-9efb56c82a82",
   "metadata": {},
   "outputs": [
    {
     "name": "stdout",
     "output_type": "stream",
     "text": [
      "120\n"
     ]
    }
   ],
   "source": [
    "# Write a python program to Find the number formed by multiplying digits of all numbers.\n",
    "def multiply_all_digits(a):\n",
    "    b = 1\n",
    "    for c in a:\n",
    "        for d in str(c):\n",
    "            b = b * int(d)\n",
    "    print(b)\n",
    "e = [12, 34, 5]\n",
    "multiply_all_digits(e)\n"
   ]
  },
  {
   "cell_type": "code",
   "execution_count": 25,
   "id": "aa4d7406-35b4-4d01-93ef-9600a05720d3",
   "metadata": {},
   "outputs": [
    {
     "name": "stdout",
     "output_type": "stream",
     "text": [
      "6\n"
     ]
    }
   ],
   "source": [
    "# Write a python function to Find GCD (Greatest Common Divisor) using recursion.\n",
    "def gcd(a, b):\n",
    "    if b == 0:\n",
    "        print(a)\n",
    "    else:\n",
    "        gcd(b, a % b)\n",
    "gcd(48, 18) "
   ]
  },
  {
   "cell_type": "code",
   "execution_count": 22,
   "id": "83e58a05-9a9e-47c4-999b-26caddc0215c",
   "metadata": {},
   "outputs": [
    {
     "name": "stdout",
     "output_type": "stream",
     "text": [
      "['odd', 'even', 'odd', 'even', 'odd', 'even', 'odd', 'even']\n"
     ]
    }
   ],
   "source": [
    "# Write a python program to Use lambda + map to return each number’s parity as string\n",
    "def check_parity(a):\n",
    "    print(list(map(lambda b: \"even\" if b % 2 == 0 else \"odd\", a)))\n",
    "c = [1, 2, 3, 4, 5, 6, 7, 8]\n",
    "check_parity(c) "
   ]
  },
  {
   "cell_type": "markdown",
   "id": "ec6b5f74-9a64-4155-a901-7afbeb90b15d",
   "metadata": {},
   "source": [
    "# Date: 04-09-2025"
   ]
  },
  {
   "cell_type": "code",
   "execution_count": 5,
   "id": "0308f00f-0dc0-4e9b-99a9-0fed9aef838b",
   "metadata": {},
   "outputs": [
    {
     "name": "stdout",
     "output_type": "stream",
     "text": [
      "120\n"
     ]
    }
   ],
   "source": [
    "# Find factorial of a number using loop.\n",
    "def factorial_number(n):\n",
    "    a = 1\n",
    "    b = n\n",
    "    while b > 0:\n",
    "        a = a * b\n",
    "        b = b - 1\n",
    "    print(a)\n",
    "factorial_number(5)"
   ]
  },
  {
   "cell_type": "code",
   "execution_count": 2,
   "id": "e4f550db-1df2-4301-9767-dc3c95ebf284",
   "metadata": {},
   "outputs": [
    {
     "name": "stdout",
     "output_type": "stream",
     "text": [
      "nohtyp\n"
     ]
    }
   ],
   "source": [
    "# Reverse a string without slicing.\n",
    "def reverse_string(text):\n",
    "    a = \"\"\n",
    "    for b in text:\n",
    "        a = b + a\n",
    "    print(a)\n",
    "reverse_string(\"python\")"
   ]
  },
  {
   "cell_type": "code",
   "execution_count": 6,
   "id": "d82dc878-3558-4e02-99af-8ad21fdf86db",
   "metadata": {},
   "outputs": [
    {
     "name": "stdout",
     "output_type": "stream",
     "text": [
      "9\n"
     ]
    }
   ],
   "source": [
    "# Find the largest number in a list.\n",
    "def largest_number(numbers):\n",
    "    a = numbers[0]\n",
    "    for b in numbers:\n",
    "        if b > a:\n",
    "            a = b\n",
    "    print(a)\n",
    "largest_number([4, 9, 1, 7, 3])"
   ]
  },
  {
   "cell_type": "code",
   "execution_count": 7,
   "id": "2c615863-8bad-4345-ba57-829e16730acb",
   "metadata": {},
   "outputs": [
    {
     "name": "stdout",
     "output_type": "stream",
     "text": [
      "Prime\n"
     ]
    }
   ],
   "source": [
    "# Check if a number is prime.\n",
    "def is_prime_number(n):\n",
    "    a = 0\n",
    "    for b in range(2, int(n**0.5) + 1):\n",
    "        if n % b == 0:\n",
    "            a = 1\n",
    "    if a == 0 and n > 1:\n",
    "        print(\"Prime\")\n",
    "    else:\n",
    "        print(\"Not Prime\")\n",
    "is_prime_number(29)"
   ]
  },
  {
   "cell_type": "code",
   "execution_count": 8,
   "id": "09ac1f10-4df1-41ec-8e1f-679c037349ab",
   "metadata": {},
   "outputs": [
    {
     "name": "stdout",
     "output_type": "stream",
     "text": [
      "5\n"
     ]
    }
   ],
   "source": [
    "# Count vowels in a string.\n",
    "def count_vowels(text):\n",
    "    a = \"aeiouAEIOU\"\n",
    "    b = 0\n",
    "    for c in text:\n",
    "        if c in a:\n",
    "            b = b + 1\n",
    "    print(b)\n",
    "count_vowels(\"Beautiful\")"
   ]
  },
  {
   "cell_type": "code",
   "execution_count": 9,
   "id": "c05fcb4c-7a80-497b-a954-b04555b79a1f",
   "metadata": {},
   "outputs": [
    {
     "name": "stdout",
     "output_type": "stream",
     "text": [
      "45\n"
     ]
    }
   ],
   "source": [
    "# Find second largest element in a list.\n",
    "def second_largest_number(numbers):\n",
    "    a = float(\"-inf\")\n",
    "    b = float(\"-inf\")\n",
    "    for c in numbers:\n",
    "        if c > a:\n",
    "            b = a\n",
    "            a = c\n",
    "        elif c > b and c != a:\n",
    "            b = c\n",
    "    print(b)\n",
    "second_largest_number([10, 20, 4, 45, 99])"
   ]
  },
  {
   "cell_type": "code",
   "execution_count": 11,
   "id": "6c7d6fed-6b18-4a62-a452-276f9a7cde4e",
   "metadata": {},
   "outputs": [
    {
     "name": "stdout",
     "output_type": "stream",
     "text": [
      "[0, 1, 1, 2, 3, 5, 8, 13]\n"
     ]
    }
   ],
   "source": [
    "# Generate first n Fibonacci numbers.\n",
    "def fibonacci_series(n):\n",
    "    a = 0\n",
    "    b = 1\n",
    "    c = []\n",
    "    for d in range(n):\n",
    "        c = c + [a]\n",
    "        e = a + b\n",
    "        a = b\n",
    "        b = e\n",
    "    print(c)\n",
    "fibonacci_series(8)"
   ]
  },
  {
   "cell_type": "code",
   "execution_count": 14,
   "id": "082cf6b0-d782-4bdc-bb85-c7bbfb5d071d",
   "metadata": {},
   "outputs": [
    {
     "name": "stdout",
     "output_type": "stream",
     "text": [
      "Anagram\n"
     ]
    }
   ],
   "source": [
    "# Check if two strings are anagrams.\n",
    "def are_anagrams(s1, s2):\n",
    "    if sorted(s1) == sorted(s2):\n",
    "        print(\"Anagram\")\n",
    "    else:\n",
    "        print(\"Not Anagram\")\n",
    "are_anagrams(\"listen\", \"silent\")"
   ]
  },
  {
   "cell_type": "code",
   "execution_count": 13,
   "id": "7b618fd1-a302-4c89-ad05-12a37f0b5c41",
   "metadata": {},
   "outputs": [
    {
     "name": "stdout",
     "output_type": "stream",
     "text": [
      "[1, 2, 3, 4, 5]\n"
     ]
    }
   ],
   "source": [
    "# Remove duplicates from a list.\n",
    "def remove_duplicates_from_list(numbers):\n",
    "    a = []\n",
    "    for b in numbers:\n",
    "        if b not in a:\n",
    "            a = a + [b]\n",
    "    print(a)\n",
    "remove_duplicates_from_list([1,2,2,3,4,4,5])"
   ]
  },
  {
   "cell_type": "code",
   "execution_count": 15,
   "id": "3d0c0a28-92cb-4d93-8923-aadb23c6117d",
   "metadata": {},
   "outputs": [
    {
     "name": "stdout",
     "output_type": "stream",
     "text": [
      "Armstrong\n"
     ]
    }
   ],
   "source": [
    "# Check Armstrong number.\n",
    "def is_armstrong_number(n):\n",
    "    a = str(n)\n",
    "    b = len(a)\n",
    "    c = 0\n",
    "    for d in a:\n",
    "        c = c + int(d) ** b\n",
    "    if c == n:\n",
    "        print(\"Armstrong\")\n",
    "    else:\n",
    "        print(\"Not Armstrong\")\n",
    "is_armstrong_number(153)"
   ]
  },
  {
   "cell_type": "markdown",
   "id": "68334c7a-b555-44e5-b5d1-93137e08eb32",
   "metadata": {},
   "source": [
    "# Date:05-09-2025"
   ]
  },
  {
   "cell_type": "code",
   "execution_count": 17,
   "id": "4ecfd6e9-aed3-49ad-b452-84d6e994df73",
   "metadata": {},
   "outputs": [
    {
     "name": "stdout",
     "output_type": "stream",
     "text": [
      "20.0\n"
     ]
    }
   ],
   "source": [
    "# Write a function to find profit percent when cost price and selling price are given.\n",
    "def profit_percent(cp, sp):\n",
    "    a = sp - cp\n",
    "    b = (a / cp) * 100\n",
    "    print(b)\n",
    "profit_percent(100, 120)"
   ]
  },
  {
   "cell_type": "code",
   "execution_count": 18,
   "id": "eee1fa29-86a2-4cc3-abe4-0cdcb69fd560",
   "metadata": {},
   "outputs": [
    {
     "name": "stdout",
     "output_type": "stream",
     "text": [
      "25.0\n"
     ]
    }
   ],
   "source": [
    "# Write a function to find loss percent when cost price and selling price are given.\n",
    "def loss_percent(cp, sp):\n",
    "    a = cp - sp\n",
    "    b = (a / cp) * 100\n",
    "    print(b)\n",
    "loss_percent(200, 150)"
   ]
  },
  {
   "cell_type": "code",
   "execution_count": 19,
   "id": "9bfbcc2d-0d34-495d-a8f0-87e5643e2712",
   "metadata": {},
   "outputs": [
    {
     "name": "stdout",
     "output_type": "stream",
     "text": [
      "600.0\n"
     ]
    }
   ],
   "source": [
    "# Write a function to find selling price when cost price and profit percent are given.\n",
    "def selling_price_from_profit(cp, pp):\n",
    "    a = cp + (cp * pp / 100)\n",
    "    print(a)\n",
    "selling_price_from_profit(500, 20)"
   ]
  },
  {
   "cell_type": "code",
   "execution_count": 20,
   "id": "28bd8996-4372-45bf-be41-263b270f42a3",
   "metadata": {},
   "outputs": [
    {
     "name": "stdout",
     "output_type": "stream",
     "text": [
      "500.0\n"
     ]
    }
   ],
   "source": [
    "# Write a function to find cost price when selling price and profit percent are given.\n",
    "def cost_price_from_profit(sp, pp):\n",
    "    a = sp * 100 / (100 + pp)\n",
    "    print(a)\n",
    "cost_price_from_profit(600, 20)"
   ]
  },
  {
   "cell_type": "code",
   "execution_count": 21,
   "id": "2620fca8-3cec-49d6-92b1-0587c693cc42",
   "metadata": {},
   "outputs": [
    {
     "name": "stdout",
     "output_type": "stream",
     "text": [
      "450.0\n"
     ]
    }
   ],
   "source": [
    "# Write a function to find selling price when cost price and loss percent are given.\n",
    "def selling_price_from_loss(cp, lp):\n",
    "    a = cp - (cp * lp / 100)\n",
    "    print(a)\n",
    "selling_price_from_loss(500, 10)"
   ]
  },
  {
   "cell_type": "code",
   "execution_count": 22,
   "id": "5b186a80-5c04-40ef-a57b-057c81258d65",
   "metadata": {},
   "outputs": [
    {
     "name": "stdout",
     "output_type": "stream",
     "text": [
      "500.0\n"
     ]
    }
   ],
   "source": [
    "# Write a function to find cost price when selling price and loss percent are given.\n",
    "def cost_price_from_loss(sp, lp):\n",
    "    a = sp * 100 / (100 - lp)\n",
    "    print(a)\n",
    "cost_price_from_loss(450, 10)"
   ]
  },
  {
   "cell_type": "code",
   "execution_count": 23,
   "id": "be244c25-0a06-4a63-a9c7-f54b2217b0fd",
   "metadata": {},
   "outputs": [
    {
     "name": "stdout",
     "output_type": "stream",
     "text": [
      "50\n"
     ]
    }
   ],
   "source": [
    "# Write a function to calculate profit when cost price and selling price are given.\n",
    "def profit_amount(cp, sp):\n",
    "    a = sp - cp\n",
    "    if a > 0:\n",
    "        print(a)\n",
    "    else:\n",
    "        print(\"No Profit\")\n",
    "profit_amount(150, 200)"
   ]
  },
  {
   "cell_type": "code",
   "execution_count": 24,
   "id": "ef8c8307-88f9-4e09-86aa-109fbd4d31f9",
   "metadata": {},
   "outputs": [
    {
     "name": "stdout",
     "output_type": "stream",
     "text": [
      "50\n"
     ]
    }
   ],
   "source": [
    "# Write a function to calculate loss when cost price and selling price are given.\n",
    "def loss_amount(cp, sp):\n",
    "    a = cp - sp\n",
    "    if a > 0:\n",
    "        print(a)\n",
    "    else:\n",
    "        print(\"No Loss\")\n",
    "loss_amount(200, 150)"
   ]
  },
  {
   "cell_type": "code",
   "execution_count": 25,
   "id": "249bc451-968d-4f4c-8bc8-079ca432ad7a",
   "metadata": {},
   "outputs": [
    {
     "name": "stdout",
     "output_type": "stream",
     "text": [
      "312.5\n"
     ]
    }
   ],
   "source": [
    "# Write a function to find selling price to gain given profit percent on cost price.\n",
    "def selling_price_for_gain(cp, pp):\n",
    "    a = cp * (100 + pp) / 100\n",
    "    print(a)\n",
    "selling_price_for_gain(250, 25)"
   ]
  },
  {
   "cell_type": "code",
   "execution_count": 26,
   "id": "81fc93bf-0618-4c05-ac7e-80c67560dee7",
   "metadata": {},
   "outputs": [
    {
     "name": "stdout",
     "output_type": "stream",
     "text": [
      "200.0\n"
     ]
    }
   ],
   "source": [
    "# Write a function to find selling price to incur given loss percent on cost price.\n",
    "def selling_price_for_loss(cp, lp):\n",
    "    a = cp * (100 - lp) / 100\n",
    "    print(a)\n",
    "selling_price_for_loss(250, 20)"
   ]
  },
  {
   "cell_type": "markdown",
   "id": "42974fc1-c66f-496c-8cfd-36b6a77b2404",
   "metadata": {},
   "source": [
    "# Date:06-09-2025"
   ]
  },
  {
   "cell_type": "code",
   "execution_count": 27,
   "id": "406e0918-cfe3-48c1-aa88-3abdb599a6ed",
   "metadata": {},
   "outputs": [
    {
     "name": "stdout",
     "output_type": "stream",
     "text": [
      "100.0\n"
     ]
    }
   ],
   "source": [
    "# Write a function to calculate simple interest.\n",
    "def simple_interest(p, r, t):\n",
    "    a = (p * r * t) / 100\n",
    "    print(a)\n",
    "simple_interest(1000, 5, 2)"
   ]
  },
  {
   "cell_type": "code",
   "execution_count": 28,
   "id": "a93dae50-c180-488b-9f67-3c73e10c88e3",
   "metadata": {},
   "outputs": [
    {
     "name": "stdout",
     "output_type": "stream",
     "text": [
      "1100.0\n"
     ]
    }
   ],
   "source": [
    "# Write a function to calculate total amount with simple interest.\n",
    "def total_amount_with_si(p, r, t):\n",
    "    a = (p * r * t) / 100\n",
    "    b = p + a\n",
    "    print(b)\n",
    "total_amount_with_si(1000, 5, 2)"
   ]
  },
  {
   "cell_type": "code",
   "execution_count": 29,
   "id": "9f0a6c1e-29b0-43ad-8bbd-dd573adf5034",
   "metadata": {},
   "outputs": [
    {
     "name": "stdout",
     "output_type": "stream",
     "text": [
      "1000.0\n"
     ]
    }
   ],
   "source": [
    "# Write a function to find principal when simple interest, rate, and time are given.\n",
    "def principal_from_si(si, r, t):\n",
    "    a = (si * 100) / (r * t)\n",
    "    print(a)\n",
    "principal_from_si(200, 10, 2)"
   ]
  },
  {
   "cell_type": "code",
   "execution_count": 30,
   "id": "86c4938f-3b6f-4863-b0d5-6d08cdf8f1a0",
   "metadata": {},
   "outputs": [
    {
     "name": "stdout",
     "output_type": "stream",
     "text": [
      "10.0\n"
     ]
    }
   ],
   "source": [
    "# Write a function to find rate when simple interest, principal, and time are given.\n",
    "def rate_from_si(si, p, t):\n",
    "    a = (si * 100) / (p * t)\n",
    "    print(a)\n",
    "rate_from_si(200, 1000, 2)"
   ]
  },
  {
   "cell_type": "code",
   "execution_count": 31,
   "id": "40aa368d-1837-4768-8098-edd982480323",
   "metadata": {},
   "outputs": [
    {
     "name": "stdout",
     "output_type": "stream",
     "text": [
      "2.0\n"
     ]
    }
   ],
   "source": [
    "# Write a function to find time when simple interest, principal, and rate are given.\n",
    "def time_from_si(si, p, r):\n",
    "    a = (si * 100) / (p * r)\n",
    "    print(a)\n",
    "time_from_si(200, 1000, 10)"
   ]
  },
  {
   "cell_type": "code",
   "execution_count": 32,
   "id": "b333bbc7-e5f0-4433-9be1-bcc45fd9cf54",
   "metadata": {},
   "outputs": [
    {
     "name": "stdout",
     "output_type": "stream",
     "text": [
      "210.00000000000023\n"
     ]
    }
   ],
   "source": [
    "# Write a function to calculate compound interest annually.\n",
    "def compound_interest(p, r, t):\n",
    "    a = p * ((1 + r/100) ** t)\n",
    "    b = a - p\n",
    "    print(b)\n",
    "compound_interest(1000, 10, 2)"
   ]
  },
  {
   "cell_type": "code",
   "execution_count": 33,
   "id": "094963ad-8812-4f1b-a682-8e95752c0397",
   "metadata": {},
   "outputs": [
    {
     "name": "stdout",
     "output_type": "stream",
     "text": [
      "1210.0000000000002\n"
     ]
    }
   ],
   "source": [
    "# Write a function to calculate total amount with compound interest annually.\n",
    "def total_amount_with_ci(p, r, t):\n",
    "    a = p * ((1 + r/100) ** t)\n",
    "    print(a)\n",
    "total_amount_with_ci(1000, 10, 2)"
   ]
  },
  {
   "cell_type": "code",
   "execution_count": 34,
   "id": "9bb17170-52af-43d7-8d5e-b61ca7e18c11",
   "metadata": {},
   "outputs": [
    {
     "name": "stdout",
     "output_type": "stream",
     "text": [
      "215.50625000000014\n"
     ]
    }
   ],
   "source": [
    "# Write a function to calculate compound interest when interest is compounded half-yearly.\n",
    "def ci_half_yearly(p, r, t):\n",
    "    a = p * ((1 + (r/200)) ** (2*t))\n",
    "    b = a - p\n",
    "    print(b)\n",
    "ci_half_yearly(1000, 10, 2)"
   ]
  },
  {
   "cell_type": "code",
   "execution_count": 35,
   "id": "62cdc1f4-ac33-460f-a9c9-431e9ad78ee5",
   "metadata": {},
   "outputs": [
    {
     "name": "stdout",
     "output_type": "stream",
     "text": [
      "218.40289750991724\n"
     ]
    }
   ],
   "source": [
    "# Write a function to calculate compound interest when interest is compounded quarterly.\n",
    "def ci_quarterly(p, r, t):\n",
    "    a = p * ((1 + (r/400)) ** (4*t))\n",
    "    b = a - p\n",
    "    print(b)\n",
    "ci_quarterly(1000, 10, 2)"
   ]
  },
  {
   "cell_type": "code",
   "execution_count": 36,
   "id": "7f65a1a2-7755-4733-a9a0-b8feaf4cedd6",
   "metadata": {},
   "outputs": [
    {
     "name": "stdout",
     "output_type": "stream",
     "text": [
      "999.9999999999999\n"
     ]
    }
   ],
   "source": [
    "# Write a function to find principal when amount, rate, and time are given for compound interest.\n",
    "def principal_from_ci(a, r, t):\n",
    "    b = a / ((1 + r/100) ** t)\n",
    "    print(b)\n",
    "principal_from_ci(1210, 10, 2)"
   ]
  },
  {
   "cell_type": "markdown",
   "id": "7e91f378-b7a7-433a-bd45-690bcd6c1b24",
   "metadata": {},
   "source": [
    "# Date:07-09-2025"
   ]
  },
  {
   "cell_type": "code",
   "execution_count": 3,
   "id": "9357344a-615f-45f5-8a0b-618626f4d008",
   "metadata": {},
   "outputs": [
    {
     "name": "stdout",
     "output_type": "stream",
     "text": [
      "4321\n"
     ]
    }
   ],
   "source": [
    "# Reverse digits of a number\n",
    "num = 1234\n",
    "rev = 0\n",
    "while num > 0:\n",
    "    rev = rev * 10 + num % 10\n",
    "    num //= 10\n",
    "print(rev)"
   ]
  },
  {
   "cell_type": "code",
   "execution_count": 2,
   "id": "07fcb0d2-0aa5-4484-bf92-ad49e60112bb",
   "metadata": {},
   "outputs": [
    {
     "name": "stdout",
     "output_type": "stream",
     "text": [
      "5\n"
     ]
    }
   ],
   "source": [
    "# Count number of digits\n",
    "num = 98765\n",
    "count = 0\n",
    "while num > 0:\n",
    "    count += 1\n",
    "    num //= 10\n",
    "print(count)"
   ]
  },
  {
   "cell_type": "code",
   "execution_count": 4,
   "id": "e50e2694-cc94-44ec-9014-29b1f5d64fcb",
   "metadata": {},
   "outputs": [
    {
     "name": "stdout",
     "output_type": "stream",
     "text": [
      "2\n"
     ]
    }
   ],
   "source": [
    "# Sum of digits until single digit\n",
    "num = 9875\n",
    "while num >= 10:\n",
    "    s = 0\n",
    "    while num > 0:\n",
    "        s += num % 10\n",
    "        num //= 10\n",
    "    num = s\n",
    "print(num)"
   ]
  },
  {
   "cell_type": "code",
   "execution_count": 5,
   "id": "a848746a-e0ff-429d-8329-9788667c93c6",
   "metadata": {},
   "outputs": [
    {
     "name": "stdout",
     "output_type": "stream",
     "text": [
      "0 1 1 2 3 5 8 "
     ]
    }
   ],
   "source": [
    "# Fibonacci sequence (n terms)\n",
    "n = 7\n",
    "a, b = 0, 1\n",
    "count = 0\n",
    "while count < n:\n",
    "    print(a, end=\" \")\n",
    "    a, b = b, a + b\n",
    "    count += 1"
   ]
  },
  {
   "cell_type": "code",
   "execution_count": 6,
   "id": "ae5c02e4-93fe-4c8e-b9a1-246215a959eb",
   "metadata": {},
   "outputs": [
    {
     "name": "stdin",
     "output_type": "stream",
     "text": [
      "Guess a number 1-10:  5\n",
      "Guess a number 1-10:  7\n"
     ]
    },
    {
     "name": "stdout",
     "output_type": "stream",
     "text": [
      "Correct! The number was 7\n"
     ]
    }
   ],
   "source": [
    "# Guess the number game\n",
    "secret = 7 \n",
    "guess = 0\n",
    "while guess != secret:\n",
    "    guess = int(input(\"Guess a number 1-10: \"))\n",
    "print(\"Correct! The number was\", secret)"
   ]
  },
  {
   "cell_type": "code",
   "execution_count": 7,
   "id": "db2dda59-a328-4830-b6f0-ed3a08c22257",
   "metadata": {},
   "outputs": [
    {
     "name": "stdout",
     "output_type": "stream",
     "text": [
      "Palindrome\n"
     ]
    }
   ],
   "source": [
    "# Palindrome Check\n",
    "num = 121\n",
    "temp = num\n",
    "rev = 0\n",
    "while num > 0:\n",
    "    rev = rev * 10 + num % 10\n",
    "    num //= 10\n",
    "if temp == rev:\n",
    "    print(\"Palindrome\")\n",
    "else:\n",
    "    print(\"Not Palindrome\")"
   ]
  },
  {
   "cell_type": "code",
   "execution_count": 8,
   "id": "4d4751a3-7ef7-47a5-9764-191e5faa524e",
   "metadata": {},
   "outputs": [
    {
     "name": "stdout",
     "output_type": "stream",
     "text": [
      "30\n"
     ]
    }
   ],
   "source": [
    "# Sum of Even Numbers up to N\n",
    "n = 10\n",
    "total = 0\n",
    "i = 2\n",
    "while i <= n:\n",
    "    total += i\n",
    "    i += 2\n",
    "print(total)"
   ]
  },
  {
   "cell_type": "code",
   "execution_count": 9,
   "id": "4b42a532-2b5a-4ed9-8812-a36949536f99",
   "metadata": {},
   "outputs": [
    {
     "name": "stdout",
     "output_type": "stream",
     "text": [
      "120\n"
     ]
    }
   ],
   "source": [
    "# Factorial Using While\n",
    "n = 5\n",
    "fact = 1\n",
    "i = 1\n",
    "while i <= n:\n",
    "    fact *= i\n",
    "    i += 1\n",
    "print(fact)"
   ]
  },
  {
   "cell_type": "code",
   "execution_count": 10,
   "id": "2731d1eb-8d9c-4bbf-a398-95baf21a1dc2",
   "metadata": {},
   "outputs": [
    {
     "name": "stdout",
     "output_type": "stream",
     "text": [
      "Armstrong\n"
     ]
    }
   ],
   "source": [
    "# Armstrong Number Check\n",
    "num = 153\n",
    "temp = num\n",
    "s = 0\n",
    "while num > 0:\n",
    "    d = num % 10\n",
    "    s += d ** 3\n",
    "    num //= 10\n",
    "if s == temp:\n",
    "    print(\"Armstrong\")\n",
    "else:\n",
    "    print(\"Not Armstrong\")"
   ]
  },
  {
   "cell_type": "code",
   "execution_count": 11,
   "id": "8caf379b-6805-493a-a2d8-db8f86404414",
   "metadata": {},
   "outputs": [
    {
     "name": "stdin",
     "output_type": "stream",
     "text": [
      "Enter word:  ramesh\n"
     ]
    },
    {
     "name": "stdout",
     "output_type": "stream",
     "text": [
      "You entered: ramesh\n"
     ]
    },
    {
     "name": "stdin",
     "output_type": "stream",
     "text": [
      "Enter word:  stop\n"
     ]
    }
   ],
   "source": [
    "# Keep Taking Input Until User Types \"stop\"\n",
    "while True:\n",
    "    word = input(\"Enter word: \")\n",
    "    if word.lower() == \"stop\":\n",
    "        break\n",
    "    print(\"You entered:\", word)"
   ]
  },
  {
   "cell_type": "markdown",
   "id": "cd8eb037-11c5-4741-bcf4-520405cdf814",
   "metadata": {},
   "source": [
    "# Date:08-09-2025"
   ]
  },
  {
   "cell_type": "code",
   "execution_count": 9,
   "id": "80ba4d94-67ae-48c0-9ee2-163ac3ded691",
   "metadata": {},
   "outputs": [
    {
     "name": "stdout",
     "output_type": "stream",
     "text": [
      "6720\n"
     ]
    }
   ],
   "source": [
    "# Write a function that accepts any number of integers using *args and returns their product.\n",
    "def multiply(*numbers):\n",
    "    c = 1\n",
    "    for i in numbers:\n",
    "       c *= i\n",
    "    print(c)\n",
    "\n",
    "multiply(5,6,4,7,8)    \n"
   ]
  },
  {
   "cell_type": "code",
   "execution_count": 16,
   "id": "9c6869fc-c561-4a36-a9a2-80e1990f62e8",
   "metadata": {},
   "outputs": [
    {
     "name": "stdout",
     "output_type": "stream",
     "text": [
      "Pravin\n",
      "age 50\n",
      "Pravin\n",
      "city Pune\n",
      "Pravin\n",
      "Job Sales\n",
      "Ramesh\n",
      "age 31\n",
      "Ramesh\n",
      "city Mumbai\n",
      "Ramesh\n",
      "Job Analyst\n"
     ]
    }
   ],
   "source": [
    "# Write a function that accepts a name and multiple keyword arguments (like age, city, job) using **kwargs and prints them in a formatted way.\n",
    "def info(name,**info):\n",
    "    for k,v in info.items():\n",
    "        print(name)\n",
    "        print(k,v)\n",
    "\n",
    "info(\"Pravin\",age = 50, city = \"Pune\", Job = \"Sales\")\n",
    "info(\"Ramesh\",age = 31, city = \"Mumbai\", Job = \"Analyst\") "
   ]
  },
  {
   "cell_type": "code",
   "execution_count": 17,
   "id": "479f12e8-ce7b-496d-ae50-51e1cd9192ac",
   "metadata": {},
   "outputs": [
    {
     "name": "stdout",
     "output_type": "stream",
     "text": [
      "9\n"
     ]
    }
   ],
   "source": [
    "# Create a function that takes *args of numbers and **kwargs with an operation key ('sum', 'max', 'min') and performs that operation on *args.\n",
    "def calculate(*args, **kwargs):\n",
    "    operation = kwargs.get(\"operation\")\n",
    "    if operation == \"sum\":\n",
    "        return sum(args)\n",
    "    elif operation == \"max\":\n",
    "        return max(args)\n",
    "    elif operation == \"min\":\n",
    "        return min(args)\n",
    "    else:\n",
    "        return \"Invalid operation\"\n",
    "\n",
    "print(calculate(4, 7, 1, 9, operation=\"max\"))"
   ]
  },
  {
   "cell_type": "code",
   "execution_count": 18,
   "id": "83e8ce56-d32a-4d6b-a137-60e892675a22",
   "metadata": {},
   "outputs": [
    {
     "name": "stdout",
     "output_type": "stream",
     "text": [
      "elephant\n"
     ]
    }
   ],
   "source": [
    "# Write a function that accepts *args containing strings and returns the longest string.\n",
    "def longest_string(*args):\n",
    "    return max(args, key=len)\n",
    "\n",
    "print(longest_string(\"cat\", \"elephant\", \"tiger\"))"
   ]
  },
  {
   "cell_type": "code",
   "execution_count": 19,
   "id": "dfcdd571-7c4f-4a32-b07c-0bf37ab7f343",
   "metadata": {},
   "outputs": [
    {
     "name": "stdout",
     "output_type": "stream",
     "text": [
      "Meera\n"
     ]
    }
   ],
   "source": [
    "#  Function that finds student with highest marks from **kwargs.\n",
    "def top_student(**kwargs):\n",
    "    return max(kwargs, key=kwargs.get)\n",
    "\n",
    "print(top_student(Ajay=88, Meera=92, Rahul=85))"
   ]
  },
  {
   "cell_type": "code",
   "execution_count": 20,
   "id": "104b89e4-c288-4cca-b0b5-8d123175dc84",
   "metadata": {},
   "outputs": [
    {
     "name": "stdout",
     "output_type": "stream",
     "text": [
      "Course: Python\n",
      "Students: ('Ajay', 'Meera')\n",
      "Marks: {'Ajay': 85, 'Meera': 90}\n"
     ]
    }
   ],
   "source": [
    "# Function with required argument + *args + **kwargs.\n",
    "def course_details(course, *args, **kwargs):\n",
    "    print(f\"Course: {course}\")\n",
    "    print(\"Students:\", args)\n",
    "    print(\"Marks:\", kwargs)\n",
    "\n",
    "course_details(\"Python\", \"Ajay\", \"Meera\", Ajay=85, Meera=90)"
   ]
  },
  {
   "cell_type": "code",
   "execution_count": 21,
   "id": "dbc9b517-a13a-4b2f-b7b8-06c7ef5c3cc4",
   "metadata": {},
   "outputs": [
    {
     "name": "stdout",
     "output_type": "stream",
     "text": [
      "(2, 4, 6)\n"
     ]
    }
   ],
   "source": [
    "# Function that returns even numbers from *args.\n",
    "def filter_even(*args):\n",
    "    return tuple(num for num in args if num % 2 == 0)\n",
    "\n",
    "print(filter_even(1, 2, 3, 4, 5, 6))"
   ]
  },
  {
   "cell_type": "code",
   "execution_count": 22,
   "id": "88f62e7f-79bb-469d-b70b-f38b90b12fcb",
   "metadata": {},
   "outputs": [
    {
     "name": "stdout",
     "output_type": "stream",
     "text": [
      "{'John': 55000.00000000001, 'Alice': 66000.0}\n"
     ]
    }
   ],
   "source": [
    "#Function to increase employee salaries by 10%.\n",
    "def increase_salaries(**kwargs):\n",
    "    updated = {}\n",
    "    for name, salary in kwargs.items():\n",
    "        updated[name] = salary * 1.10\n",
    "    return updated\n",
    "\n",
    "print(increase_salaries(John=50000, Alice=60000))"
   ]
  },
  {
   "cell_type": "code",
   "execution_count": 23,
   "id": "3f35ab0b-b91b-40dd-be9c-109e7eddd0be",
   "metadata": {},
   "outputs": [
    {
     "name": "stdout",
     "output_type": "stream",
     "text": [
      "Hello-world-Python\n"
     ]
    }
   ],
   "source": [
    "# Function to join words with custom separator.\n",
    "def join_words(*args, **kwargs):\n",
    "    separator = kwargs.get(\"separator\", \" \")\n",
    "    return separator.join(args)\n",
    "\n",
    "print(join_words(\"Hello\", \"world\", \"Python\", separator=\"-\"))"
   ]
  },
  {
   "cell_type": "code",
   "execution_count": 24,
   "id": "c11915a1-5440-4399-bd6f-1cd249899107",
   "metadata": {},
   "outputs": [
    {
     "name": "stdout",
     "output_type": "stream",
     "text": [
      "4.0\n",
      "56\n"
     ]
    }
   ],
   "source": [
    "# Function with *args (numbers) + **kwargs (operation).\n",
    "def operate(*args, **kwargs):\n",
    "    operation = kwargs.get(\"operation\")\n",
    "    if operation == \"average\":\n",
    "        return sum(args) / len(args)\n",
    "    elif operation == \"square_sum\":\n",
    "        return sum(num ** 2 for num in args)\n",
    "    else:\n",
    "        return \"Invalid operation\"\n",
    "\n",
    "print(operate(2, 4, 6, operation=\"average\"))\n",
    "print(operate(2, 4, 6, operation=\"square_sum\"))"
   ]
  },
  {
   "cell_type": "markdown",
   "id": "2badb5e3-d810-4de5-b0ef-0cb449d76316",
   "metadata": {},
   "source": [
    "# Date: 09-09-2025"
   ]
  },
  {
   "cell_type": "code",
   "execution_count": 3,
   "id": "512121f0-ba14-44f0-82f1-7b98e8f8451e",
   "metadata": {},
   "outputs": [
    {
     "name": "stdout",
     "output_type": "stream",
     "text": [
      "Ratio is: 8 : 6\n"
     ]
    }
   ],
   "source": [
    "# In what ratio must rice at rs 9.30 per kg be mixed with rice at rs 10.80 per kg so that the mixture be worth rs 10 per kg ?\n",
    "rice = 9.30\n",
    "rice_2 = 10.80\n",
    "final_rice = 10\n",
    "\n",
    "print(\"Ratio is:\",int((rice_2 - final_rice)*10),\":\",int((final_rice - rice)*10))"
   ]
  },
  {
   "cell_type": "code",
   "execution_count": 4,
   "id": "4cb77b13-be1e-4405-a4fc-c9b1fba95dd1",
   "metadata": {},
   "outputs": [
    {
     "name": "stdout",
     "output_type": "stream",
     "text": [
      "Ratio = 2 : 3\n"
     ]
    }
   ],
   "source": [
    "# In what ratio must sugar at Rs 25 per kg be mixed with sugar at Rs 30 per kg so that the mixture is worth Rs 28 per kg?\n",
    "cheap = 25\n",
    "dear = 30\n",
    "mean = 28\n",
    "print(\"Ratio =\", int((dear-mean)), \":\", int((mean-cheap)))"
   ]
  },
  {
   "cell_type": "code",
   "execution_count": 5,
   "id": "bfc0dcdc-cf6e-4e8e-9c4a-65a3be7ed17f",
   "metadata": {},
   "outputs": [
    {
     "name": "stdout",
     "output_type": "stream",
     "text": [
      "Ratio = 15 : 15\n"
     ]
    }
   ],
   "source": [
    "# In what ratio must tea at Rs 120 per kg be mixed with tea at Rs 150 per kg so that the mixture is worth Rs 135 per kg?\n",
    "cheap = 120\n",
    "dear = 150\n",
    "mean = 135\n",
    "print(\"Ratio =\", int((dear-mean)), \":\", int((mean-cheap)))\n"
   ]
  },
  {
   "cell_type": "code",
   "execution_count": 6,
   "id": "2c21b6c5-01e0-4ff2-8898-a50ccc81889c",
   "metadata": {},
   "outputs": [
    {
     "name": "stdout",
     "output_type": "stream",
     "text": [
      "Ratio = 2 : 2\n"
     ]
    }
   ],
   "source": [
    "# In what ratio must milk at Rs 18 per litre be mixed with milk at Rs 22 per litre so that the mixture is worth Rs 20 per litre?\n",
    "cheap = 18\n",
    "dear = 22\n",
    "mean = 20\n",
    "print(\"Ratio =\", int((dear-mean)), \":\", int((mean-cheap)))"
   ]
  },
  {
   "cell_type": "code",
   "execution_count": 7,
   "id": "2b0c763b-f99e-47f2-afd7-f3c45d0dd5ac",
   "metadata": {},
   "outputs": [
    {
     "name": "stdout",
     "output_type": "stream",
     "text": [
      "Ratio = 2 : 3\n"
     ]
    }
   ],
   "source": [
    "# In what ratio must wheat at Rs 15 per kg be mixed with wheat at Rs 20 per kg so that the mixture is worth Rs 18 per kg?\n",
    "cheap = 15\n",
    "dear = 20\n",
    "mean = 18\n",
    "print(\"Ratio =\", int((dear-mean)), \":\", int((mean-cheap)))"
   ]
  },
  {
   "cell_type": "code",
   "execution_count": 17,
   "id": "29a59d17-abb1-4793-b37a-83fee43c06f2",
   "metadata": {},
   "outputs": [
    {
     "name": "stdout",
     "output_type": "stream",
     "text": [
      "10.8\n"
     ]
    }
   ],
   "source": [
    "# How many kgs. of wheat costing rs 8 per kg must be mixed with 36 kg of rice costing rs 5.40 per kg so that\n",
    "# 20% gain may be obtained by selling the mixture at rs 7.20 per kg ?\n",
    "wheat = 8\n",
    "rice = 5.4\n",
    "rq = 36\n",
    "sp = 7.2\n",
    "gain = 0.20\n",
    "\n",
    "cp = sp / (1 + gain)\n",
    "x = (cp * rq - rice * rq) / (wheat - cp)\n",
    "\n",
    "print(round(x,2))"
   ]
  },
  {
   "cell_type": "code",
   "execution_count": 13,
   "id": "65bfc8b1-2b38-4d7c-aae5-d5a2a450aef3",
   "metadata": {},
   "outputs": [
    {
     "name": "stdout",
     "output_type": "stream",
     "text": [
      "8.0\n"
     ]
    }
   ],
   "source": [
    "# How many kgs of item at Rs 15 per kg must be mixed with 40 kg of item at Rs 10 per kg so that 20% gain may be obtained by selling the mixture at Rs 13 per kg?\n",
    "p1 = 15\n",
    "p2 = 10\n",
    "q = 40\n",
    "sp = 13\n",
    "g = 0.20\n",
    "cp = sp / (1 + g)\n",
    "x = (cp * q - p2 * q) / (p1 - cp)\n",
    "print(round(x, 2))"
   ]
  },
  {
   "cell_type": "code",
   "execution_count": 14,
   "id": "1e6088ee-af06-4ea3-bbef-9638f05a1fee",
   "metadata": {},
   "outputs": [
    {
     "name": "stdout",
     "output_type": "stream",
     "text": [
      "9.33\n"
     ]
    }
   ],
   "source": [
    "# How many kgs of item at Rs 50 per kg must be mixed with 20 kg of item at Rs 30 per kg so that 10% gain may be obtained by selling the mixture at Rs 40 per kg?\n",
    "p1 = 50\n",
    "p2 = 30\n",
    "q = 20\n",
    "sp = 40\n",
    "g = 0.10\n",
    "cp = sp / (1 + g)\n",
    "x = (cp * q - p2 * q) / (p1 - cp)\n",
    "print(round(x, 2))"
   ]
  },
  {
   "cell_type": "code",
   "execution_count": 15,
   "id": "8eb14936-fe16-4b46-babc-bade8b81bf99",
   "metadata": {},
   "outputs": [
    {
     "name": "stdout",
     "output_type": "stream",
     "text": [
      "6.73\n"
     ]
    }
   ],
   "source": [
    "# How many kgs of item at Rs 22 per kg must be mixed with 25 kg of item at Rs 16 per kg so that 10% gain may be obtained by selling the mixture at Rs 19 per kg?\n",
    "p1 = 22\n",
    "p2 = 16\n",
    "q = 25\n",
    "sp = 19\n",
    "g = 0.10\n",
    "cp = sp / (1 + g)\n",
    "x = (cp * q - p2 * q) / (p1 - cp)\n",
    "print(round(x, 2))"
   ]
  },
  {
   "cell_type": "code",
   "execution_count": 16,
   "id": "311c7414-a39e-4aa8-9e51-0993946f3c72",
   "metadata": {},
   "outputs": [
    {
     "name": "stdout",
     "output_type": "stream",
     "text": [
      "5.85\n"
     ]
    }
   ],
   "source": [
    "# How many kgs of item at Rs 85 per kg must be mixed with 10 kg of item at Rs 65 per kg so that 5% gain may be obtained by selling the mixture at Rs 76 per kg?\n",
    "p1 = 85\n",
    "p2 = 65\n",
    "q = 10\n",
    "sp = 76\n",
    "g = 0.05\n",
    "cp = sp / (1 + g)\n",
    "x = (cp * q - p2 * q) / (p1 - cp)\n",
    "print(round(x, 2))"
   ]
  },
  {
   "cell_type": "markdown",
   "id": "88c65235-f895-419a-80d8-1109516377da",
   "metadata": {},
   "source": [
    "# Date:10-09-2025"
   ]
  },
  {
   "cell_type": "code",
   "execution_count": 1,
   "id": "366023e4-6952-4cc6-8743-c363034162e1",
   "metadata": {},
   "outputs": [
    {
     "name": "stdout",
     "output_type": "stream",
     "text": [
      "Probability of drawing a red ball: 0.4166666666666667\n"
     ]
    }
   ],
   "source": [
    "# A box contains 5 red and 7 green balls. If one ball is drawn at medium, what is the probability that the ball drawn is red?\n",
    "red = 5\n",
    "green = 7\n",
    "total = red + green\n",
    "\n",
    "probability_red = red / total\n",
    "print(\"Probability of drawing a red ball:\", probability_red)"
   ]
  },
  {
   "cell_type": "code",
   "execution_count": 2,
   "id": "65b251c3-c824-4288-a8a2-c6a9fa36e45c",
   "metadata": {},
   "outputs": [
    {
     "name": "stdout",
     "output_type": "stream",
     "text": [
      "Probability that the sum is 7: 0.16666666666666666\n"
     ]
    }
   ],
   "source": [
    "# Two dice are rolled together. What is the probability that the sum of the die is 7.\n",
    "total_outcomes = 6 * 6\n",
    "favorable = 6\n",
    "\n",
    "probability_sum_7 = favorable / total_outcomes\n",
    "print(\"Probability that the sum is 7:\", probability_sum_7)"
   ]
  },
  {
   "cell_type": "code",
   "execution_count": 3,
   "id": "beec0919-ea8c-4f17-a45c-f79968e30da5",
   "metadata": {},
   "outputs": [
    {
     "name": "stdout",
     "output_type": "stream",
     "text": [
      "Probability that both are black: 0.14285714285714288\n"
     ]
    }
   ],
   "source": [
    "# A bag contains 4 white balls, 6 black balls & 5 red balls. If two balls are drawn at random without replacement,\n",
    "# what is the probability that both are black?\n",
    "black = 6\n",
    "total = 15\n",
    "\n",
    "prob_first_black = black / total\n",
    "prob_second_black = (black - 1) / (total - 1)\n",
    "\n",
    "probability_both_black = prob_first_black * prob_second_black\n",
    "print(\"Probability that both are black:\", probability_both_black)"
   ]
  },
  {
   "cell_type": "code",
   "execution_count": 4,
   "id": "9f40552b-8975-47f8-80c8-24cefa4e07be",
   "metadata": {},
   "outputs": [
    {
     "name": "stdout",
     "output_type": "stream",
     "text": [
      "Probability that the card is either a king or a heart: 0.3076923076923077\n"
     ]
    }
   ],
   "source": [
    "# A card is drawn from a standard deck of 52 cards. What is the probability that the card is either a king or a heart.\n",
    "kings = 4\n",
    "hearts = 13\n",
    "total = 52\n",
    "\n",
    "favourable = kings + hearts - 1\n",
    "probability = favourable / total\n",
    "\n",
    "print(\"Probability that the card is either a king or a heart:\", probability)"
   ]
  },
  {
   "cell_type": "code",
   "execution_count": 5,
   "id": "9980b380-a4b7-49ad-9522-2fd5f7c86d95",
   "metadata": {},
   "outputs": [
    {
     "name": "stdout",
     "output_type": "stream",
     "text": [
      "0.75\n"
     ]
    }
   ],
   "source": [
    "# A bag contains 3 blue and 9 yellow balls. One ball is drawn. What is the probability it is yellow?\n",
    "blue = 3\n",
    "yellow = 9\n",
    "total = blue + yellow\n",
    "probability = yellow / total\n",
    "print(probability)"
   ]
  },
  {
   "cell_type": "code",
   "execution_count": 6,
   "id": "05220caf-4fc5-483a-af81-0dfd9c68c67c",
   "metadata": {},
   "outputs": [
    {
     "name": "stdout",
     "output_type": "stream",
     "text": [
      "0.4242424242424242\n"
     ]
    }
   ],
   "source": [
    "# A box has 8 red and 4 green balls. Two balls are drawn without replacement. What is the probability both are red?\n",
    "red = 8\n",
    "green = 4\n",
    "total = red + green\n",
    "probability = (red/total) * ((red-1)/(total-1))\n",
    "print(probability)"
   ]
  },
  {
   "cell_type": "code",
   "execution_count": 9,
   "id": "2401a32c-c706-46b9-a270-ac26bbf78222",
   "metadata": {},
   "outputs": [
    {
     "name": "stdout",
     "output_type": "stream",
     "text": [
      "0.05555555555555555\n"
     ]
    }
   ],
   "source": [
    "# Two dice are rolled. What is the probability the sum is 11?\n",
    "total_outcomes = 6 * 6\n",
    "favourable = 2 \n",
    "probability = favourable / total_outcomes\n",
    "print(probability)"
   ]
  },
  {
   "cell_type": "code",
   "execution_count": 8,
   "id": "5c7ae94f-1cfa-445d-8c28-80c225988c95",
   "metadata": {},
   "outputs": [
    {
     "name": "stdout",
     "output_type": "stream",
     "text": [
      "0.25\n"
     ]
    }
   ],
   "source": [
    "# A card is drawn from a deck. What is the probability it is a spade?\n",
    "spades = 13\n",
    "total = 52\n",
    "probability = spades / total\n",
    "print(probability)"
   ]
  },
  {
   "cell_type": "code",
   "execution_count": 10,
   "id": "23970b19-a0e9-4b8e-a7f6-a459e20b72e3",
   "metadata": {},
   "outputs": [
    {
     "name": "stdout",
     "output_type": "stream",
     "text": [
      "0.6666666666666666\n"
     ]
    }
   ],
   "source": [
    "# A bag has 5 white, 5 black and 5 red balls. One ball is drawn. What is the probability it is not black?\n",
    "white = 5\n",
    "black = 5\n",
    "red = 5\n",
    "total = white + black + red\n",
    "not_black = white + red\n",
    "probability = not_black / total\n",
    "print(probability)"
   ]
  },
  {
   "cell_type": "code",
   "execution_count": 12,
   "id": "a1fdd894-266c-4c4d-8c92-e69ce112c293",
   "metadata": {},
   "outputs": [
    {
     "name": "stdout",
     "output_type": "stream",
     "text": [
      "0.3076923076923077\n"
     ]
    }
   ],
   "source": [
    "# One card is drawn from a deck. What is the probability it is either a queen or a diamond?\n",
    "queens = 4\n",
    "diamonds = 13\n",
    "total = 52\n",
    "favourable = queens + diamonds - 1\n",
    "probability = favourable / total\n",
    "print(probability)"
   ]
  },
  {
   "cell_type": "markdown",
   "id": "3965ee71-c9da-4c90-8c7b-d4e8ce5cfc2f",
   "metadata": {},
   "source": [
    "# Date:11-09-2025"
   ]
  },
  {
   "cell_type": "code",
   "execution_count": 13,
   "id": "f1b864f5-26d0-46e4-b9e5-998061315d30",
   "metadata": {},
   "outputs": [
    {
     "name": "stdout",
     "output_type": "stream",
     "text": [
      "120\n"
     ]
    }
   ],
   "source": [
    "# In how many ways can 5 books be arranged on a shelf?\n",
    "n = 5\n",
    "fact = 1\n",
    "for i in range(1, n+1):\n",
    "    fact *= i\n",
    "print(fact)"
   ]
  },
  {
   "cell_type": "code",
   "execution_count": 14,
   "id": "b09e95cd-f6b0-47a0-be1b-1f8180bbcbdd",
   "metadata": {},
   "outputs": [
    {
     "name": "stdout",
     "output_type": "stream",
     "text": [
      "120\n"
     ]
    }
   ],
   "source": [
    "# In how many ways can 3 students be selected from 6 and arranged in order?\n",
    "n = 6\n",
    "r = 3\n",
    "num = 1\n",
    "for i in range(1, n+1):\n",
    "    num *= i\n",
    "den = 1\n",
    "for i in range(1, n-r+1):\n",
    "    den *= i\n",
    "print(num // den)"
   ]
  },
  {
   "cell_type": "code",
   "execution_count": 15,
   "id": "c6c88cc6-aab6-4814-8dc2-e17719056e74",
   "metadata": {},
   "outputs": [
    {
     "name": "stdout",
     "output_type": "stream",
     "text": [
      "6\n"
     ]
    }
   ],
   "source": [
    "# In how many ways can the letters A, B, C be arranged?\n",
    "n = 3\n",
    "fact = 1\n",
    "for i in range(1, n+1):\n",
    "    fact *= i\n",
    "print(fact)"
   ]
  },
  {
   "cell_type": "code",
   "execution_count": 16,
   "id": "a046a3aa-53d4-4bbd-b8e6-2d11872cd03b",
   "metadata": {},
   "outputs": [
    {
     "name": "stdout",
     "output_type": "stream",
     "text": [
      "12\n"
     ]
    }
   ],
   "source": [
    "# In how many ways can 4 people sit in 2 chairs?\n",
    "n = 4\n",
    "r = 2\n",
    "num = 1\n",
    "for i in range(1, n+1):\n",
    "    num *= i\n",
    "den = 1\n",
    "for i in range(1, n-r+1):\n",
    "    den *= i\n",
    "print(num // den)"
   ]
  },
  {
   "cell_type": "code",
   "execution_count": 17,
   "id": "86bdf1f7-d3c0-4685-ba29-f10f4654aff5",
   "metadata": {},
   "outputs": [
    {
     "name": "stdout",
     "output_type": "stream",
     "text": [
      "5040\n"
     ]
    }
   ],
   "source": [
    "# In how many ways can 7 different flags be arranged on a pole?\n",
    "n = 7\n",
    "fact = 1\n",
    "for i in range(1, n+1):\n",
    "    fact *= i\n",
    "print(fact)"
   ]
  },
  {
   "cell_type": "code",
   "execution_count": 18,
   "id": "7754dd1c-ef17-42e8-929c-4e92b1663ded",
   "metadata": {},
   "outputs": [
    {
     "name": "stdout",
     "output_type": "stream",
     "text": [
      "20\n"
     ]
    }
   ],
   "source": [
    "# In how many ways can 3 students be chosen from 6?\n",
    "n = 6\n",
    "r = 3\n",
    "num = 1\n",
    "for i in range(1, n+1):\n",
    "    num *= i\n",
    "den1 = 1\n",
    "for i in range(1, r+1):\n",
    "    den1 *= i\n",
    "den2 = 1\n",
    "for i in range(1, n-r+1):\n",
    "    den2 *= i\n",
    "print(num // (den1 * den2))"
   ]
  },
  {
   "cell_type": "code",
   "execution_count": 19,
   "id": "75e3c5a8-d14d-4b95-9012-aeb296097738",
   "metadata": {},
   "outputs": [
    {
     "name": "stdout",
     "output_type": "stream",
     "text": [
      "45\n"
     ]
    }
   ],
   "source": [
    "# From 10 players, how many ways to choose 2 captains?\n",
    "n = 10\n",
    "r = 2\n",
    "num = 1\n",
    "for i in range(1, n+1):\n",
    "    num *= i\n",
    "den1 = 1\n",
    "for i in range(1, r+1):\n",
    "    den1 *= i\n",
    "den2 = 1\n",
    "for i in range(1, n-r+1):\n",
    "    den2 *= i\n",
    "print(num // (den1 * den2))"
   ]
  },
  {
   "cell_type": "code",
   "execution_count": 20,
   "id": "e5123a42-40d1-4a43-8930-ef77f7bff0d7",
   "metadata": {},
   "outputs": [
    {
     "name": "stdout",
     "output_type": "stream",
     "text": [
      "56\n"
     ]
    }
   ],
   "source": [
    "# From 8 questions, how many ways to choose 5 questions to answer?\n",
    "n = 8\n",
    "r = 5\n",
    "num = 1\n",
    "for i in range(1, n+1):\n",
    "    num *= i\n",
    "den1 = 1\n",
    "for i in range(1, r+1):\n",
    "    den1 *= i\n",
    "den2 = 1\n",
    "for i in range(1, n-r+1):\n",
    "    den2 *= i\n",
    "print(num // (den1 * den2))"
   ]
  },
  {
   "cell_type": "code",
   "execution_count": 21,
   "id": "d7b1ca48-a788-45bd-b621-1a88a4c1dc59",
   "metadata": {},
   "outputs": [
    {
     "name": "stdout",
     "output_type": "stream",
     "text": [
      "126\n"
     ]
    }
   ],
   "source": [
    "# A committee of 4 is to be formed from 9 people. In how many ways?\n",
    "n = 9\n",
    "r = 4\n",
    "num = 1\n",
    "for i in range(1, n+1):\n",
    "    num *= i\n",
    "den1 = 1\n",
    "for i in range(1, r+1):\n",
    "    den1 *= i\n",
    "den2 = 1\n",
    "for i in range(1, n-r+1):\n",
    "    den2 *= i\n",
    "print(num // (den1 * den2))"
   ]
  },
  {
   "cell_type": "code",
   "execution_count": 22,
   "id": "2aa6c08a-5d68-4539-8bb5-70353cf69bd7",
   "metadata": {},
   "outputs": [
    {
     "name": "stdout",
     "output_type": "stream",
     "text": [
      "220\n"
     ]
    }
   ],
   "source": [
    "# From 12 balls, how many ways to pick 3 balls?\n",
    "n = 12\n",
    "r = 3\n",
    "num = 1\n",
    "for i in range(1, n+1):\n",
    "    num *= i\n",
    "den1 = 1\n",
    "for i in range(1, r+1):\n",
    "    den1 *= i\n",
    "den2 = 1\n",
    "for i in range(1, n-r+1):\n",
    "    den2 *= i\n",
    "print(num // (den1 * den2))"
   ]
  }
 ],
 "metadata": {
  "kernelspec": {
   "display_name": "Python [conda env:base] *",
   "language": "python",
   "name": "conda-base-py"
  },
  "language_info": {
   "codemirror_mode": {
    "name": "ipython",
    "version": 3
   },
   "file_extension": ".py",
   "mimetype": "text/x-python",
   "name": "python",
   "nbconvert_exporter": "python",
   "pygments_lexer": "ipython3",
   "version": "3.13.5"
  }
 },
 "nbformat": 4,
 "nbformat_minor": 5
}
